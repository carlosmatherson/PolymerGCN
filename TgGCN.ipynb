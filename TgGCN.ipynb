{
  "nbformat": 4,
  "nbformat_minor": 0,
  "metadata": {
    "colab": {
      "name": "TgGCN.ipynb",
      "provenance": [],
      "collapsed_sections": [
        "CEUFzE4j8WEq",
        "34HBVTh68jHR",
        "Dd3rtzqR-hTy",
        "xuu4sTDFW4v3",
        "LIQBZjmdZnay"
      ],
      "toc_visible": true,
      "mount_file_id": "1AERyupaWbPJ2fOAJMSBR6w2ZAqXQozn3",
      "authorship_tag": "ABX9TyOGKzqexssM2/VnetLK5ogW",
      "include_colab_link": true
    },
    "kernelspec": {
      "name": "python3",
      "display_name": "Python 3"
    },
    "language_info": {
      "name": "python"
    }
  },
  "cells": [
    {
      "cell_type": "markdown",
      "metadata": {
        "id": "view-in-github",
        "colab_type": "text"
      },
      "source": [
        "<a href=\"https://colab.research.google.com/github/carlosmatherson/PolymerGCN/blob/main/TgGCN.ipynb\" target=\"_parent\"><img src=\"https://colab.research.google.com/assets/colab-badge.svg\" alt=\"Open In Colab\"/></a>"
      ]
    },
    {
      "cell_type": "markdown",
      "source": [
        "# Setup\n"
      ],
      "metadata": {
        "id": "CEUFzE4j8WEq"
      }
    },
    {
      "cell_type": "markdown",
      "source": [
        "Install Spektral and RDKit."
      ],
      "metadata": {
        "id": "CSYHeRogUOQK"
      }
    },
    {
      "cell_type": "code",
      "source": [
        "!pip install spektral\n",
        "!pip install rdkit"
      ],
      "metadata": {
        "id": "mKWD-j7lBFaU"
      },
      "execution_count": null,
      "outputs": []
    },
    {
      "cell_type": "markdown",
      "source": [
        "Import necessary packages and functions."
      ],
      "metadata": {
        "id": "8CbOumsVUTNT"
      }
    },
    {
      "cell_type": "code",
      "source": [
        "# general tools\n",
        "import numpy as np\n",
        "import pandas as pd\n",
        "\n",
        "# RDkit\n",
        "from rdkit import Chem\n",
        "from rdkit.Chem.rdmolops import GetAdjacencyMatrix\n",
        "\n",
        "# Spektral\n",
        "from spektral.utils.sparse import reorder\n",
        "from spektral.data.graph import Graph\n",
        "from spektral.data import Dataset, BatchLoader\n",
        "from spektral.layers import GCNConv, GlobalSumPool\n",
        "\n",
        "# SciKit-Learn\n",
        "from sklearn.model_selection import KFold\n",
        "from sklearn.decomposition import PCA\n",
        "\n",
        "# TensorFlow & Keras\n",
        "from tensorflow.keras.layers import Dense\n",
        "from tensorflow.keras.models import Model\n",
        "from tensorflow.keras.optimizers import Adam\n",
        "from tensorflow.keras.metrics import RootMeanSquaredError\n",
        "from tensorflow.keras import regularizers\n",
        "from tensorflow.keras import backend as K\n",
        "\n",
        "# Matplotlib\n",
        "import matplotlib.pyplot as plt\n",
        "from matplotlib.colors import Normalize"
      ],
      "metadata": {
        "id": "MXbBM1BTqoyB"
      },
      "execution_count": null,
      "outputs": []
    },
    {
      "cell_type": "markdown",
      "source": [
        "# Atom Featurization"
      ],
      "metadata": {
        "id": "34HBVTh68jHR"
      }
    },
    {
      "cell_type": "markdown",
      "source": [
        "Onehot Encoding: Maps input elements x which are not in the permitted list to the last element of the permitted list."
      ],
      "metadata": {
        "id": "xFd7WAE59HM4"
      }
    },
    {
      "cell_type": "code",
      "source": [
        "# Onehot Encoding\n",
        "def one_hot_encoding(x, permitted_list):\n",
        "\n",
        "    if x not in permitted_list:\n",
        "        x = permitted_list[-1]\n",
        "\n",
        "    binary_encoding = [int(boolean_value) for boolean_value in list(map(lambda s: x == s, permitted_list))]\n",
        "\n",
        "    return binary_encoding"
      ],
      "metadata": {
        "id": "2wkSe_gZ8DVD"
      },
      "execution_count": null,
      "outputs": []
    },
    {
      "cell_type": "markdown",
      "source": [
        "Atom Featurization: Takes an RDKit atom object as input and gives a 1d-numpy array of atom features as output."
      ],
      "metadata": {
        "id": "EaWZf3teyKBP"
      }
    },
    {
      "cell_type": "code",
      "source": [
        "# Atom Featurization\n",
        "def get_atom_features(atom):\n",
        "\n",
        "    # Define list of permitted atoms\n",
        "    permitted_list_of_atoms = ['Br', 'C', 'Cl', 'F', 'Li', 'N', 'O', 'P', 'S', 'Si', '*']\n",
        "    \n",
        "    # Compute atom features\n",
        "    atom_type_enc = one_hot_encoding(str(atom.GetSymbol()), permitted_list_of_atoms)\n",
        "\n",
        "    n_hydrogens_enc = one_hot_encoding(int(atom.GetTotalNumHs()), [0, 1, 2, 3, 4, \"MoreThanFour\"])\n",
        "\n",
        "    implicit_valence_enc = one_hot_encoding(str(atom.GetImplicitValence()), [0, 1, 2, 3, 4, \"MoreThanFour\"])\n",
        "\n",
        "    degree_enc = one_hot_encoding(int(atom.GetDegree()), [0, 1, 2, 3, 4, \"MoreThanFour\"])\n",
        "\n",
        "    aromaticity_enc = [int(atom.GetIsAromatic())]\n",
        "\n",
        "    # Create atom feature vector\n",
        "    atom_feature_vector = atom_type_enc + n_hydrogens_enc + implicit_valence_enc + degree_enc + aromaticity_enc\n",
        "\n",
        "    return np.array(atom_feature_vector)"
      ],
      "metadata": {
        "id": "pw3eExGF8vK4"
      },
      "execution_count": null,
      "outputs": []
    },
    {
      "cell_type": "markdown",
      "source": [
        "# Create Dataset"
      ],
      "metadata": {
        "id": "Dd3rtzqR-hTy"
      }
    },
    {
      "cell_type": "markdown",
      "source": [
        "Subclass the Dataset class to standardize how graph datasets are represented in Spektral. Here, you can choose the endpoint to work with."
      ],
      "metadata": {
        "id": "qadRGli7V02I"
      }
    },
    {
      "cell_type": "code",
      "source": [
        "class MyDataset(Dataset):\n",
        "  def read(self):\n",
        "\n",
        "    global polymer_data # Access data globally\n",
        "    \n",
        "    # Set of 445 polymers with every endpoint (Tg, Tm, D) curated from Liu et al. (https://arxiv.org/pdf/2206.02886.pdf) \n",
        "    polymer_data = pd.read_csv(\"https://raw.githubusercontent.com/carlosmatherson/PolymerGCN/main/SMILESwithAllProps.csv\")\n",
        "    # Label is \"Tg\"\n",
        "    \n",
        "    # Full dataset from from Liu et al. (https://arxiv.org/pdf/2206.02886.pdf)\n",
        "    # polymer_data = pd.read_csv(\"https://raw.githubusercontent.com/liugangcode/GREA/main/data/tg_prop/raw/tg_raw.csv\")\n",
        "    # Label is \"tg\"\n",
        "    \n",
        "    dataset = makeGraphObjList(polymer_data[\"SMILES\"], polymer_data[\"Tg\"]) \n",
        "   \n",
        "    return dataset"
      ],
      "metadata": {
        "id": "zMcD28857JwV"
      },
      "execution_count": null,
      "outputs": []
    },
    {
      "cell_type": "markdown",
      "source": [
        "Define `makeGraphObjList` to create Spektral graph dataset from smiles and labels. The function takes a list of SMILES strings `x_smiles = [smiles_1, smiles_2, ....]` and a list of numerial labels for the SMILES strings `y = [y_1, y_2, ...]` as inputs. The output is a list of spektral.data.graph.Graph objects that can readily be used for machine learning with Spektral, `graph_list = [G_1, G_2, ...]`. \n",
        "\n",
        "\n",
        "\n",
        "\n"
      ],
      "metadata": {
        "id": "hMFxmFiCy0jI"
      }
    },
    {
      "cell_type": "code",
      "source": [
        "def makeGraphObjList(x_smiles, y):\n",
        "    \n",
        "    graph_list = []\n",
        "\n",
        "    for (smiles, y_val) in zip(x_smiles, y):\n",
        "        \n",
        "        # Convert SMILES to RDKit mol object\n",
        "        mol = Chem.MolFromSmiles(smiles)\n",
        "\n",
        "        # Avoid O=O\n",
        "        unrelated_smiles = \"O=O\"\n",
        "        unrelated_mol = Chem.MolFromSmiles(unrelated_smiles)\n",
        "        \n",
        "        # Get feature dimensions\n",
        "        n_nodes = mol.GetNumAtoms()\n",
        "        n_node_features = len(get_atom_features(unrelated_mol.GetAtomWithIdx(0)))\n",
        "\n",
        "        # Construct adjacency matrix A of shape(n_nodes, n_nodes)\n",
        "        A = np.array(GetAdjacencyMatrix(mol)) # full matrix\n",
        "\n",
        "        # Construct node feature matrix X of shape (n_nodes, n_node_features)\n",
        "        X = np.zeros((n_nodes, n_node_features))\n",
        "        for atom in mol.GetAtoms():\n",
        "            X[atom.GetIdx(), :] = get_atom_features(atom)\n",
        "                \n",
        "        # Construct endpoint tensor\n",
        "        Y = np.array([y_val])\n",
        "\n",
        "        # Construct Spektral graph object and append to dataset (list)\n",
        "        graph_list.append(Graph(x=X, a=A, e=None, y=Y))\n",
        "        \n",
        "    return graph_list "
      ],
      "metadata": {
        "id": "mUflMN2i-p7Y"
      },
      "execution_count": null,
      "outputs": []
    },
    {
      "cell_type": "markdown",
      "source": [
        "Load data."
      ],
      "metadata": {
        "id": "lrbucS1G879u"
      }
    },
    {
      "cell_type": "code",
      "source": [
        "data = MyDataset()  # Store data in data"
      ],
      "metadata": {
        "id": "49_LrRJM87ps"
      },
      "execution_count": null,
      "outputs": []
    },
    {
      "cell_type": "markdown",
      "source": [
        "# Helper Functions"
      ],
      "metadata": {
        "id": "xuu4sTDFW4v3"
      }
    },
    {
      "cell_type": "markdown",
      "source": [
        "Define R-squared function not available through Keras."
      ],
      "metadata": {
        "id": "XQIkWsJ5EgKK"
      }
    },
    {
      "cell_type": "code",
      "source": [
        "# Coefficient of determination metric\n",
        "def coeff_determination(y_true, y_pred):\n",
        "  SS_res =  K.sum(K.square(y_true-y_pred))\n",
        "  SS_tot = K.sum(K.square(y_true - K.mean(y_true)))\n",
        "  return (1 - SS_res/(SS_tot + K.epsilon()))"
      ],
      "metadata": {
        "id": "p4ivqThKEftI"
      },
      "execution_count": null,
      "outputs": []
    },
    {
      "cell_type": "markdown",
      "source": [
        "# Graph Convolutional Network"
      ],
      "metadata": {
        "id": "LIQBZjmdZnay"
      }
    },
    {
      "cell_type": "markdown",
      "source": [
        "Configure hyperparameters."
      ],
      "metadata": {
        "id": "pjI97nIMZwRK"
      }
    },
    {
      "cell_type": "code",
      "source": [
        "train_split = 0.8                   # Train/Test split\n",
        "learning_rate = 1e-3                # Learning rate\n",
        "epochs = 1                       # Number of training epochs, 4000\n",
        "batch_size = 15                     # Batch size \n",
        "\n",
        "num_folds = 5                       # Number of folds for Cross Validation\n",
        "optimizer = Adam(learning_rate)     # Optimizer\n",
        "l2 = regularizers.L2(1e-2)          # L2 kernel reg. with weight decay parameter\n",
        "validation_steps = 5                # Validation steps\n",
        "\n",
        "loss = 'mse'                        # Loss function\n",
        "metrics = [RootMeanSquaredError(), \n",
        "           coeff_determination]     # Metrics"
      ],
      "metadata": {
        "id": "z9_d_lqTDuQ_"
      },
      "execution_count": null,
      "outputs": []
    },
    {
      "cell_type": "markdown",
      "source": [
        "Define GCN architecture.\n"
      ],
      "metadata": {
        "id": "-gWGDAatgoxM"
      }
    },
    {
      "cell_type": "code",
      "source": [
        "#Model\n",
        "class myGCN(Model):\n",
        "\n",
        "    # Define GCN structure\n",
        "    def __init__(self):\n",
        "      super().__init__()\n",
        "      \n",
        "      # GCN+LR: 6 convolutional layers with 100 nodes each, batch input 0-padded\n",
        "      self.conv1 = GCNConv(100, activation=\"relu\", kernel_regularizer=l2)  \n",
        "      self.conv2 = GCNConv(100, activation=\"relu\", kernel_regularizer=l2)  \n",
        "      self.conv3 = GCNConv(100, activation=\"relu\", kernel_regularizer=l2)  \n",
        "      self.conv4 = GCNConv(100, activation=\"relu\", kernel_regularizer=l2)\n",
        "      self.conv5 = GCNConv(100, activation=\"relu\", kernel_regularizer=l2)\n",
        "      self.conv6 = GCNConv(100, activation=\"relu\", kernel_regularizer=l2)  \n",
        "      self.global_pool = GlobalSumPool()                        # graph embed\n",
        "      self.dense1 = Dense(data.n_labels, kernel_regularizer=l2) # GCN out\n",
        "      \n",
        "      # GCN+NN: 2 hidden layers with 300 nodes each\n",
        "      self.mlp1 = Dense(units=300, activation=\"relu\", kernel_regularizer=l2)\n",
        "      self.mlp2 = Dense(units=300, activation=\"relu\", kernel_regularizer=l2)\n",
        "      self.dense2 = Dense(data.n_labels, kernel_regularizer=l2) # output       \n",
        "\n",
        "\n",
        "    # Call GCN \n",
        "    def call(self, inputs):\n",
        "\n",
        "      # global variables for results\n",
        "      global embed, gcn_out, nn_out\n",
        "\n",
        "      # Calling GCN\n",
        "      x, a = inputs[0], inputs[1]\n",
        "      x = self.conv1([x, a])\n",
        "      x = self.conv2([x, a])\n",
        "      x = self.conv3([x, a])\n",
        "      x = self.conv4([x, a])\n",
        "      x = self.conv5([x, a])\n",
        "      x = self.conv6([x, a])\n",
        "      embed = x = self.global_pool(x)\n",
        "      gcn_out = self.dense1(x)\n",
        "      x = self.mlp1(x)\n",
        "      x = self.mlp2(x)\n",
        "      nn_out = self.dense2(x)\n",
        "\n",
        "      # Return loss and metrics for GCN-LR and GCN-NN\n",
        "      return gcn_out, nn_out\n",
        "\n",
        "\n",
        "model = myGCN() # Compile model\n",
        "model.compile(optimizer=optimizer, metrics=metrics, loss=loss, run_eagerly=True)"
      ],
      "metadata": {
        "id": "8ZE87fbsvCM8"
      },
      "execution_count": null,
      "outputs": []
    },
    {
      "cell_type": "markdown",
      "source": [
        "# Model Training/Testing"
      ],
      "metadata": {
        "id": "p3OGweaqXGDC"
      }
    },
    {
      "cell_type": "markdown",
      "source": [
        "Train and evaluate model with 5-fold cross validation"
      ],
      "metadata": {
        "id": "zKS9ESf0aksl"
      }
    },
    {
      "cell_type": "code",
      "source": [
        "# Implement 5-fold cross validation with shuffled dataset\n",
        "k = KFold(n_splits=num_folds, random_state=None, shuffle=True)\n",
        "\n",
        "loss = [] # array to store loss metrics\n",
        "i=0       # count to display loss information at end of loop\n",
        "\n",
        "# Iterate through folds, train data, evaluate model\n",
        "for train_index, test_index in k.split(data):\n",
        "  # Split data into training and testing sets\n",
        "  dataset_tr = data[train_index]  # Kth training set (fold)\n",
        "  dataset_te = data[test_index]   # Kth testing set (fold)\n",
        "  \n",
        "  # Load batch data from datasets with zero-padding and more shuffling\n",
        "  loader_tr = BatchLoader(dataset_tr, batch_size=batch_size, mask=True, shuffle=True)\n",
        "  loader_te = BatchLoader(dataset_te, batch_size=batch_size, mask=True, shuffle=True)\n",
        "  \n",
        "  # Fit model and store results\n",
        "  results = model.fit(loader_tr.load(), \n",
        "                      steps_per_epoch=loader_tr.steps_per_epoch, \n",
        "                      epochs=epochs\n",
        "  #                 validation_data=loader_te.load(),\n",
        "  #                 validation_steps=5\n",
        "  )\n",
        "\n",
        "  print(\"\\nTesting model\") # Show test results for each fold\n",
        "  # Append loss metrics to array\n",
        "  loss.append(model.evaluate(loader_te.load(), steps=loader_te.steps_per_epoch))\n",
        "  \n",
        "  # Output test results\n",
        "  print(\"Done. \\n\\nTest loss: {}\".format(loss[i]))\n",
        "  print(\"\\n\")\n",
        "\n",
        "  i+=1 # increment counter for array\n",
        "  # End of loop\n"
      ],
      "metadata": {
        "id": "HW7N-re_bqU3",
        "colab": {
          "base_uri": "https://localhost:8080/"
        },
        "outputId": "5368ff15-14c0-4498-f069-4ae30df3664a"
      },
      "execution_count": null,
      "outputs": [
        {
          "output_type": "stream",
          "name": "stderr",
          "text": [
            "/usr/local/lib/python3.7/dist-packages/spektral/data/utils.py:221: UserWarning: you are shuffling a 'MyDataset' object which is not a subclass of 'Sequence'; `shuffle` is not guaranteed to behave correctly. E.g., non-numpy array/tensor objects with view semantics may contain duplicates after shuffling.\n",
            "  np.random.shuffle(a)\n",
            "/usr/local/lib/python3.7/dist-packages/spektral/layers/convolutional/conv.py:94: UserWarning: The adjacency matrix of dtype <dtype: 'int32'> is incompatible with the dtype of the node features <dtype: 'float32'> and has been automatically cast to <dtype: 'float32'>.\n",
            "  f\"The adjacency matrix of dtype {a.dtype} is incompatible with the dtype \"\n"
          ]
        },
        {
          "output_type": "stream",
          "name": "stdout",
          "text": [
            "24/24 [==============================] - 2s 90ms/step - loss: 3780.9238 - output_1_loss: 2078.5330 - output_2_loss: 1694.3225 - output_1_root_mean_squared_error: 45.5909 - output_1_coeff_determination: 0.7339 - output_2_root_mean_squared_error: 41.1621 - output_2_coeff_determination: 0.7826\n",
            "\n",
            "Testing model\n",
            "6/6 [==============================] - 0s 37ms/step - loss: 4098.9702 - output_1_loss: 2380.7166 - output_2_loss: 1710.1674 - output_1_root_mean_squared_error: 48.7926 - output_1_coeff_determination: 0.6812 - output_2_root_mean_squared_error: 41.3542 - output_2_coeff_determination: 0.7875\n",
            "Done. \n",
            "\n",
            "Test loss: [4098.97021484375, 2380.716552734375, 1710.1673583984375, 48.79258728027344, 0.6811835765838623, 41.35416793823242, 0.7875085473060608]\n",
            "\n",
            "\n",
            "24/24 [==============================] - 2s 76ms/step - loss: 3773.4397 - output_1_loss: 2086.6169 - output_2_loss: 1678.7188 - output_1_root_mean_squared_error: 45.6795 - output_1_coeff_determination: 0.6987 - output_2_root_mean_squared_error: 40.9722 - output_2_coeff_determination: 0.7597\n",
            "\n",
            "Testing model\n",
            "6/6 [==============================] - 0s 40ms/step - loss: 3782.9814 - output_1_loss: 2143.2429 - output_2_loss: 1631.6182 - output_1_root_mean_squared_error: 46.2952 - output_1_coeff_determination: 0.7461 - output_2_root_mean_squared_error: 40.3933 - output_2_coeff_determination: 0.8039\n",
            "Done. \n",
            "\n",
            "Test loss: [3782.9814453125, 2143.242919921875, 1631.6181640625, 46.295169830322266, 0.7460939884185791, 40.39329528808594, 0.8039116859436035]\n",
            "\n",
            "\n",
            "24/24 [==============================] - 2s 100ms/step - loss: 4113.6431 - output_1_loss: 2161.1941 - output_2_loss: 1944.3260 - output_1_root_mean_squared_error: 46.4886 - output_1_coeff_determination: 0.7236 - output_2_root_mean_squared_error: 44.0945 - output_2_coeff_determination: 0.7540\n",
            "\n",
            "Testing model\n",
            "6/6 [==============================] - 0s 60ms/step - loss: 4410.7695 - output_1_loss: 2461.8015 - output_2_loss: 1940.8402 - output_1_root_mean_squared_error: 49.6165 - output_1_coeff_determination: 0.6995 - output_2_root_mean_squared_error: 44.0550 - output_2_coeff_determination: 0.7563\n",
            "Done. \n",
            "\n",
            "Test loss: [4410.76953125, 2461.801513671875, 1940.8402099609375, 49.616546630859375, 0.6995403170585632, 44.05496597290039, 0.7563487887382507]\n",
            "\n",
            "\n",
            "24/24 [==============================] - 3s 138ms/step - loss: 3676.1484 - output_1_loss: 2089.1641 - output_2_loss: 1578.8477 - output_1_root_mean_squared_error: 45.7074 - output_1_coeff_determination: 0.7453 - output_2_root_mean_squared_error: 39.7347 - output_2_coeff_determination: 0.7906\n",
            "\n",
            "Testing model\n",
            "6/6 [==============================] - 0s 37ms/step - loss: 3127.5415 - output_1_loss: 1741.7727 - output_2_loss: 1377.6191 - output_1_root_mean_squared_error: 41.7346 - output_1_coeff_determination: 0.7388 - output_2_root_mean_squared_error: 37.1163 - output_2_coeff_determination: 0.7935\n",
            "Done. \n",
            "\n",
            "Test loss: [3127.54150390625, 1741.772705078125, 1377.619140625, 41.73455047607422, 0.7388055920600891, 37.11629104614258, 0.7934980392456055]\n",
            "\n",
            "\n",
            "24/24 [==============================] - 2s 77ms/step - loss: 3690.6721 - output_1_loss: 2006.1935 - output_2_loss: 1676.3148 - output_1_root_mean_squared_error: 44.7906 - output_1_coeff_determination: 0.7309 - output_2_root_mean_squared_error: 40.9428 - output_2_coeff_determination: 0.7645\n",
            "\n",
            "Testing model\n",
            "6/6 [==============================] - 0s 39ms/step - loss: 2864.7834 - output_1_loss: 1525.8081 - output_2_loss: 1330.7997 - output_1_root_mean_squared_error: 39.0616 - output_1_coeff_determination: 0.8050 - output_2_root_mean_squared_error: 36.4801 - output_2_coeff_determination: 0.8298\n",
            "Done. \n",
            "\n",
            "Test loss: [2864.783447265625, 1525.80810546875, 1330.7996826171875, 39.06159210205078, 0.8050263524055481, 36.480125427246094, 0.8297865390777588]\n",
            "\n",
            "\n"
          ]
        }
      ]
    },
    {
      "cell_type": "markdown",
      "source": [
        "# Results"
      ],
      "metadata": {
        "id": "2_rUQ8HQXN37"
      }
    },
    {
      "cell_type": "code",
      "source": [
        "# Create dataframe with results\n",
        "lossDF = pd.DataFrame(loss, columns = ['Tot. MSE','GCN MSE','NN MSE','GCN RMSE','GCN R^2','NN RMSE','NN R^2'])\n",
        "lossDF.loc['Mean'] = lossDF.mean()\n",
        "display(lossDF)"
      ],
      "metadata": {
        "colab": {
          "base_uri": "https://localhost:8080/",
          "height": 238
        },
        "id": "-S3pikv45Fpt",
        "outputId": "b88ae152-bf9a-4760-a6d9-5d1b0f6c8d9c"
      },
      "execution_count": null,
      "outputs": [
        {
          "output_type": "display_data",
          "data": {
            "text/plain": [
              "         Tot. MSE      GCN MSE       NN MSE   GCN RMSE   GCN R^2    NN RMSE  \\\n",
              "0     4098.970215  2380.716553  1710.167358  48.792587  0.681184  41.354168   \n",
              "1     3782.981445  2143.242920  1631.618164  46.295170  0.746094  40.393295   \n",
              "2     4410.769531  2461.801514  1940.840210  49.616547  0.699540  44.054966   \n",
              "3     3127.541504  1741.772705  1377.619141  41.734550  0.738806  37.116291   \n",
              "4     2864.783447  1525.808105  1330.799683  39.061592  0.805026  36.480125   \n",
              "Mean  3657.009229  2050.668359  1598.208911  45.100089  0.734130  39.879769   \n",
              "\n",
              "        NN R^2  \n",
              "0     0.787509  \n",
              "1     0.803912  \n",
              "2     0.756349  \n",
              "3     0.793498  \n",
              "4     0.829787  \n",
              "Mean  0.794211  "
            ],
            "text/html": [
              "\n",
              "  <div id=\"df-4d028866-8b53-40f9-a07b-8a824a8ca0e2\">\n",
              "    <div class=\"colab-df-container\">\n",
              "      <div>\n",
              "<style scoped>\n",
              "    .dataframe tbody tr th:only-of-type {\n",
              "        vertical-align: middle;\n",
              "    }\n",
              "\n",
              "    .dataframe tbody tr th {\n",
              "        vertical-align: top;\n",
              "    }\n",
              "\n",
              "    .dataframe thead th {\n",
              "        text-align: right;\n",
              "    }\n",
              "</style>\n",
              "<table border=\"1\" class=\"dataframe\">\n",
              "  <thead>\n",
              "    <tr style=\"text-align: right;\">\n",
              "      <th></th>\n",
              "      <th>Tot. MSE</th>\n",
              "      <th>GCN MSE</th>\n",
              "      <th>NN MSE</th>\n",
              "      <th>GCN RMSE</th>\n",
              "      <th>GCN R^2</th>\n",
              "      <th>NN RMSE</th>\n",
              "      <th>NN R^2</th>\n",
              "    </tr>\n",
              "  </thead>\n",
              "  <tbody>\n",
              "    <tr>\n",
              "      <th>0</th>\n",
              "      <td>4098.970215</td>\n",
              "      <td>2380.716553</td>\n",
              "      <td>1710.167358</td>\n",
              "      <td>48.792587</td>\n",
              "      <td>0.681184</td>\n",
              "      <td>41.354168</td>\n",
              "      <td>0.787509</td>\n",
              "    </tr>\n",
              "    <tr>\n",
              "      <th>1</th>\n",
              "      <td>3782.981445</td>\n",
              "      <td>2143.242920</td>\n",
              "      <td>1631.618164</td>\n",
              "      <td>46.295170</td>\n",
              "      <td>0.746094</td>\n",
              "      <td>40.393295</td>\n",
              "      <td>0.803912</td>\n",
              "    </tr>\n",
              "    <tr>\n",
              "      <th>2</th>\n",
              "      <td>4410.769531</td>\n",
              "      <td>2461.801514</td>\n",
              "      <td>1940.840210</td>\n",
              "      <td>49.616547</td>\n",
              "      <td>0.699540</td>\n",
              "      <td>44.054966</td>\n",
              "      <td>0.756349</td>\n",
              "    </tr>\n",
              "    <tr>\n",
              "      <th>3</th>\n",
              "      <td>3127.541504</td>\n",
              "      <td>1741.772705</td>\n",
              "      <td>1377.619141</td>\n",
              "      <td>41.734550</td>\n",
              "      <td>0.738806</td>\n",
              "      <td>37.116291</td>\n",
              "      <td>0.793498</td>\n",
              "    </tr>\n",
              "    <tr>\n",
              "      <th>4</th>\n",
              "      <td>2864.783447</td>\n",
              "      <td>1525.808105</td>\n",
              "      <td>1330.799683</td>\n",
              "      <td>39.061592</td>\n",
              "      <td>0.805026</td>\n",
              "      <td>36.480125</td>\n",
              "      <td>0.829787</td>\n",
              "    </tr>\n",
              "    <tr>\n",
              "      <th>Mean</th>\n",
              "      <td>3657.009229</td>\n",
              "      <td>2050.668359</td>\n",
              "      <td>1598.208911</td>\n",
              "      <td>45.100089</td>\n",
              "      <td>0.734130</td>\n",
              "      <td>39.879769</td>\n",
              "      <td>0.794211</td>\n",
              "    </tr>\n",
              "  </tbody>\n",
              "</table>\n",
              "</div>\n",
              "      <button class=\"colab-df-convert\" onclick=\"convertToInteractive('df-4d028866-8b53-40f9-a07b-8a824a8ca0e2')\"\n",
              "              title=\"Convert this dataframe to an interactive table.\"\n",
              "              style=\"display:none;\">\n",
              "        \n",
              "  <svg xmlns=\"http://www.w3.org/2000/svg\" height=\"24px\"viewBox=\"0 0 24 24\"\n",
              "       width=\"24px\">\n",
              "    <path d=\"M0 0h24v24H0V0z\" fill=\"none\"/>\n",
              "    <path d=\"M18.56 5.44l.94 2.06.94-2.06 2.06-.94-2.06-.94-.94-2.06-.94 2.06-2.06.94zm-11 1L8.5 8.5l.94-2.06 2.06-.94-2.06-.94L8.5 2.5l-.94 2.06-2.06.94zm10 10l.94 2.06.94-2.06 2.06-.94-2.06-.94-.94-2.06-.94 2.06-2.06.94z\"/><path d=\"M17.41 7.96l-1.37-1.37c-.4-.4-.92-.59-1.43-.59-.52 0-1.04.2-1.43.59L10.3 9.45l-7.72 7.72c-.78.78-.78 2.05 0 2.83L4 21.41c.39.39.9.59 1.41.59.51 0 1.02-.2 1.41-.59l7.78-7.78 2.81-2.81c.8-.78.8-2.07 0-2.86zM5.41 20L4 18.59l7.72-7.72 1.47 1.35L5.41 20z\"/>\n",
              "  </svg>\n",
              "      </button>\n",
              "      \n",
              "  <style>\n",
              "    .colab-df-container {\n",
              "      display:flex;\n",
              "      flex-wrap:wrap;\n",
              "      gap: 12px;\n",
              "    }\n",
              "\n",
              "    .colab-df-convert {\n",
              "      background-color: #E8F0FE;\n",
              "      border: none;\n",
              "      border-radius: 50%;\n",
              "      cursor: pointer;\n",
              "      display: none;\n",
              "      fill: #1967D2;\n",
              "      height: 32px;\n",
              "      padding: 0 0 0 0;\n",
              "      width: 32px;\n",
              "    }\n",
              "\n",
              "    .colab-df-convert:hover {\n",
              "      background-color: #E2EBFA;\n",
              "      box-shadow: 0px 1px 2px rgba(60, 64, 67, 0.3), 0px 1px 3px 1px rgba(60, 64, 67, 0.15);\n",
              "      fill: #174EA6;\n",
              "    }\n",
              "\n",
              "    [theme=dark] .colab-df-convert {\n",
              "      background-color: #3B4455;\n",
              "      fill: #D2E3FC;\n",
              "    }\n",
              "\n",
              "    [theme=dark] .colab-df-convert:hover {\n",
              "      background-color: #434B5C;\n",
              "      box-shadow: 0px 1px 3px 1px rgba(0, 0, 0, 0.15);\n",
              "      filter: drop-shadow(0px 1px 2px rgba(0, 0, 0, 0.3));\n",
              "      fill: #FFFFFF;\n",
              "    }\n",
              "  </style>\n",
              "\n",
              "      <script>\n",
              "        const buttonEl =\n",
              "          document.querySelector('#df-4d028866-8b53-40f9-a07b-8a824a8ca0e2 button.colab-df-convert');\n",
              "        buttonEl.style.display =\n",
              "          google.colab.kernel.accessAllowed ? 'block' : 'none';\n",
              "\n",
              "        async function convertToInteractive(key) {\n",
              "          const element = document.querySelector('#df-4d028866-8b53-40f9-a07b-8a824a8ca0e2');\n",
              "          const dataTable =\n",
              "            await google.colab.kernel.invokeFunction('convertToInteractive',\n",
              "                                                     [key], {});\n",
              "          if (!dataTable) return;\n",
              "\n",
              "          const docLinkHtml = 'Like what you see? Visit the ' +\n",
              "            '<a target=\"_blank\" href=https://colab.research.google.com/notebooks/data_table.ipynb>data table notebook</a>'\n",
              "            + ' to learn more about interactive tables.';\n",
              "          element.innerHTML = '';\n",
              "          dataTable['output_type'] = 'display_data';\n",
              "          await google.colab.output.renderOutput(dataTable, element);\n",
              "          const docLink = document.createElement('div');\n",
              "          docLink.innerHTML = docLinkHtml;\n",
              "          element.appendChild(docLink);\n",
              "        }\n",
              "      </script>\n",
              "    </div>\n",
              "  </div>\n",
              "  "
            ]
          },
          "metadata": {}
        }
      ]
    },
    {
      "cell_type": "markdown",
      "source": [
        "# Visualization (future work)"
      ],
      "metadata": {
        "id": "PwgqP7Gxv2HS"
      }
    },
    {
      "cell_type": "markdown",
      "source": [
        "Plot root mean square error per epoch."
      ],
      "metadata": {
        "id": "20EZLJ17ew46"
      }
    },
    {
      "cell_type": "code",
      "source": [
        "# Plott RMSE per epoch\n",
        "fig, ax = plt.subplots()\n",
        "plt.plot(results.history['output_1_root_mean_squared_error'], label=\"GCN-LR\")\n",
        "plt.plot(results.history['output_2_root_mean_squared_error'], label=\"GCN-NN\")\n",
        "plt.title(\"Loss: GCN vs GCN-NN\")\n",
        "plt.xlabel(\"Epoch\")\n",
        "plt.ylabel(\"RMSE\")\n",
        "ax.legend()\n",
        "plt.show()"
      ],
      "metadata": {
        "colab": {
          "base_uri": "https://localhost:8080/",
          "height": 295
        },
        "id": "ME-ODKthUvHV",
        "outputId": "f375f70b-9ba4-4ee4-d019-3180f630dfe4"
      },
      "execution_count": null,
      "outputs": [
        {
          "output_type": "display_data",
          "data": {
            "text/plain": [
              "<Figure size 432x288 with 1 Axes>"
            ],
            "image/png": "[encoded data removed]"
          },
          "metadata": {
            "needs_background": "light"
          }
        }
      ]
    },
    {
      "cell_type": "markdown",
      "source": [
        "Plot coefficient of determination."
      ],
      "metadata": {
        "id": "HKdv83FOe5jE"
      }
    },
    {
      "cell_type": "code",
      "source": [
        "# Plott R^2 "
      ],
      "metadata": {
        "id": "6A-jUmR-e9GK"
      },
      "execution_count": null,
      "outputs": []
    },
    {
      "cell_type": "markdown",
      "source": [
        "Plot PCA "
      ],
      "metadata": {
        "id": "G_JuV1-ojoXr"
      }
    },
    {
      "cell_type": "code",
      "source": [
        "# Create a 2D PCA projection of the embeddings\n",
        "GCNrepresentation = embed.numpy()\n",
        "pca = PCA(n_components=2)\n",
        "pca.fit(GCNrepresentation)\n",
        "pca_gcn = pca.transform(GCNrepresentation)\n",
        "print(pca.explained_variance_ratio_)\n",
        "\n",
        "# Plot those points as a scatter plot \n",
        "fig, ax = plt.subplots(figsize=(8,8))\n",
        "num_categories = data.n_labels\n",
        "plt.title(\"PCA from Pooled Graph Embedding\")\n",
        "plt.xlabel(\"PC1\")\n",
        "plt.ylabel(\"PC2\")\n",
        "ax.legend()\n",
        "ax.scatter(pca_gcn[:,0],pca_gcn[:,1]) # c=np.array(cmap(lab)).reshape(1,4)\n",
        "plt.show()"
      ],
      "metadata": {
        "id": "cwdKu9wWet_G",
        "colab": {
          "base_uri": "https://localhost:8080/",
          "height": 240
        },
        "outputId": "d84fc856-780b-4aa5-ba19-c8d9853d4a81"
      },
      "execution_count": null,
      "outputs": [
        {
          "output_type": "error",
          "ename": "NameError",
          "evalue": "ignored",
          "traceback": [
            "\u001b[0;31m---------------------------------------------------------------------------\u001b[0m",
            "\u001b[0;31mNameError\u001b[0m                                 Traceback (most recent call last)",
            "\u001b[0;32m<ipython-input-67-aa3506f21568>\u001b[0m in \u001b[0;36m<module>\u001b[0;34m()\u001b[0m\n\u001b[1;32m      1\u001b[0m \u001b[0;31m# Create a 2D PCA projection of the embeddings\u001b[0m\u001b[0;34m\u001b[0m\u001b[0;34m\u001b[0m\u001b[0;34m\u001b[0m\u001b[0m\n\u001b[1;32m      2\u001b[0m \u001b[0mGCNrepresentation\u001b[0m \u001b[0;34m=\u001b[0m \u001b[0membed\u001b[0m\u001b[0;34m.\u001b[0m\u001b[0mnumpy\u001b[0m\u001b[0;34m(\u001b[0m\u001b[0;34m)\u001b[0m\u001b[0;34m\u001b[0m\u001b[0;34m\u001b[0m\u001b[0m\n\u001b[0;32m----> 3\u001b[0;31m \u001b[0mpca\u001b[0m \u001b[0;34m=\u001b[0m \u001b[0mPCA\u001b[0m\u001b[0;34m(\u001b[0m\u001b[0mn_components\u001b[0m\u001b[0;34m=\u001b[0m\u001b[0;36m2\u001b[0m\u001b[0;34m)\u001b[0m\u001b[0;34m\u001b[0m\u001b[0;34m\u001b[0m\u001b[0m\n\u001b[0m\u001b[1;32m      4\u001b[0m \u001b[0mpca\u001b[0m\u001b[0;34m.\u001b[0m\u001b[0mfit\u001b[0m\u001b[0;34m(\u001b[0m\u001b[0mGCNrepresentation\u001b[0m\u001b[0;34m)\u001b[0m\u001b[0;34m\u001b[0m\u001b[0;34m\u001b[0m\u001b[0m\n\u001b[1;32m      5\u001b[0m \u001b[0mpca_gcn\u001b[0m \u001b[0;34m=\u001b[0m \u001b[0mpca\u001b[0m\u001b[0;34m.\u001b[0m\u001b[0mtransform\u001b[0m\u001b[0;34m(\u001b[0m\u001b[0mGCNrepresentation\u001b[0m\u001b[0;34m)\u001b[0m\u001b[0;34m\u001b[0m\u001b[0;34m\u001b[0m\u001b[0m\n",
            "\u001b[0;31mNameError\u001b[0m: name 'PCA' is not defined"
          ]
        }
      ]
    }
  ]
}