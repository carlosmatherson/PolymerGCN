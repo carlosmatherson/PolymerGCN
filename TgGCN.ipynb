{
  "nbformat": 4,
  "nbformat_minor": 0,
  "metadata": {
    "colab": {
      "name": "TgGCN.ipynb",
      "provenance": [],
      "collapsed_sections": [
        "CEUFzE4j8WEq",
        "34HBVTh68jHR",
        "Dd3rtzqR-hTy"
      ],
      "mount_file_id": "1AERyupaWbPJ2fOAJMSBR6w2ZAqXQozn3",
      "authorship_tag": "ABX9TyNa1tOj/vhal7VP+3q1exZr",
      "include_colab_link": true
    },
    "kernelspec": {
      "name": "python3",
      "display_name": "Python 3"
    },
    "language_info": {
      "name": "python"
    }
  },
  "cells": [
    {
      "cell_type": "markdown",
      "metadata": {
        "id": "view-in-github",
        "colab_type": "text"
      },
      "source": [
        "<a href=\"https://colab.research.google.com/github/carlosmatherson/PolymerGCN/blob/main/TgGCN.ipynb\" target=\"_parent\"><img src=\"https://colab.research.google.com/assets/colab-badge.svg\" alt=\"Open In Colab\"/></a>"
      ]
    },
    {
      "cell_type": "markdown",
      "source": [
        "# Setup\n"
      ],
      "metadata": {
        "id": "CEUFzE4j8WEq"
      }
    },
    {
      "cell_type": "markdown",
      "source": [
        "Install Spektral and RDKit."
      ],
      "metadata": {
        "id": "CSYHeRogUOQK"
      }
    },
    {
      "cell_type": "code",
      "source": [
        "!pip install spektral\n",
        "!pip install rdkit"
      ],
      "metadata": {
        "id": "mKWD-j7lBFaU"
      },
      "execution_count": null,
      "outputs": []
    },
    {
      "cell_type": "markdown",
      "source": [
        "Import necessary packages and functions."
      ],
      "metadata": {
        "id": "8CbOumsVUTNT"
      }
    },
    {
      "cell_type": "code",
      "source": [
        "# general tools\n",
        "import numpy as np\n",
        "import pandas as pd\n",
        "import colour\n",
        "\n",
        "# RDkit\n",
        "from rdkit import Chem\n",
        "from rdkit.Chem.rdmolops import GetAdjacencyMatrix\n",
        "\n",
        "# Spektral\n",
        "from spektral.utils.sparse import reorder\n",
        "from spektral.data.graph import Graph\n",
        "from spektral.data import Dataset, BatchLoader\n",
        "from spektral.layers import GCNConv, GlobalSumPool\n",
        "\n",
        "# TensorFlow & Keras\n",
        "from tensorflow.keras.layers import Dense\n",
        "from tensorflow.keras.models import Model\n",
        "from tensorflow.keras.optimizers import Adam\n",
        "from tensorflow.keras.metrics import RootMeanSquaredError\n",
        "\n",
        "# Matplotlib\n",
        "import matplotlib.pyplot as plt"
      ],
      "metadata": {
        "id": "MXbBM1BTqoyB"
      },
      "execution_count": 2,
      "outputs": []
    },
    {
      "cell_type": "markdown",
      "source": [
        "# Featurization"
      ],
      "metadata": {
        "id": "34HBVTh68jHR"
      }
    },
    {
      "cell_type": "markdown",
      "source": [
        "Onehot Encoding: Maps input elements x which are not in the permitted list to the last element of the permitted list."
      ],
      "metadata": {
        "id": "xFd7WAE59HM4"
      }
    },
    {
      "cell_type": "code",
      "source": [
        "# Onehot Encoding\n",
        "def one_hot_encoding(x, permitted_list):\n",
        "\n",
        "    if x not in permitted_list:\n",
        "        x = permitted_list[-1]\n",
        "\n",
        "    binary_encoding = [int(boolean_value) for boolean_value in list(map(lambda s: x == s, permitted_list))]\n",
        "\n",
        "    return binary_encoding"
      ],
      "metadata": {
        "id": "2wkSe_gZ8DVD"
      },
      "execution_count": 3,
      "outputs": []
    },
    {
      "cell_type": "markdown",
      "source": [
        "Atom Featurization: Takes an RDKit atom object as input and gives a 1d-numpy array of atom features as output."
      ],
      "metadata": {
        "id": "EaWZf3teyKBP"
      }
    },
    {
      "cell_type": "code",
      "source": [
        "# Atom Featurization\n",
        "def get_atom_features(atom, \n",
        "                      use_chirality = True, \n",
        "                      hydrogens_implicit = True):\n",
        "\n",
        "    # define list of permitted atoms\n",
        "    \n",
        "    permitted_list_of_atoms =  ['C','N','O','S','F','Si','P','Cl','Br','Mg','Na','Ca','Fe','As','Al','I', 'B','V','K','Tl','Yb','Sb','Sn','Ag','Pd','Co','Se','Ti','Zn', 'Li','Ge','Cu','Au','Ni','Cd','In','Mn','Zr','Cr','Pt','Hg','Pb','Unknown']\n",
        "    \n",
        "    if hydrogens_implicit == False:\n",
        "        permitted_list_of_atoms = ['H'] + permitted_list_of_atoms\n",
        "    \n",
        "    # compute atom features\n",
        "    \n",
        "    atom_type_enc = one_hot_encoding(str(atom.GetSymbol()), permitted_list_of_atoms)\n",
        "    \n",
        "    n_heavy_neighbors_enc = one_hot_encoding(int(atom.GetDegree()), [0, 1, 2, 3, 4, \"MoreThanFour\"])\n",
        "    \n",
        "    formal_charge_enc = one_hot_encoding(int(atom.GetFormalCharge()), [-3, -2, -1, 0, 1, 2, 3, \"Extreme\"])\n",
        "    \n",
        "    hybridisation_type_enc = one_hot_encoding(str(atom.GetHybridization()), [\"S\", \"SP\", \"SP2\", \"SP3\", \"SP3D\", \"SP3D2\", \"OTHER\"])\n",
        "    \n",
        "    is_in_a_ring_enc = [int(atom.IsInRing())]\n",
        "    \n",
        "    is_aromatic_enc = [int(atom.GetIsAromatic())]\n",
        "    \n",
        "    atomic_mass_scaled = [float((atom.GetMass() - 10.812)/116.092)]\n",
        "    \n",
        "    vdw_radius_scaled = [float((Chem.GetPeriodicTable().GetRvdw(atom.GetAtomicNum()) - 1.5)/0.6)]\n",
        "    \n",
        "    covalent_radius_scaled = [float((Chem.GetPeriodicTable().GetRcovalent(atom.GetAtomicNum()) - 0.64)/0.76)]\n",
        "\n",
        "    atom_feature_vector = atom_type_enc + n_heavy_neighbors_enc + formal_charge_enc + hybridisation_type_enc + is_in_a_ring_enc + is_aromatic_enc + atomic_mass_scaled + vdw_radius_scaled + covalent_radius_scaled\n",
        "                                    \n",
        "    if use_chirality == True:\n",
        "        chirality_type_enc = one_hot_encoding(str(atom.GetChiralTag()), [\"CHI_UNSPECIFIED\", \"CHI_TETRAHEDRAL_CW\", \"CHI_TETRAHEDRAL_CCW\", \"CHI_OTHER\"])\n",
        "        atom_feature_vector += chirality_type_enc\n",
        "    \n",
        "    if hydrogens_implicit == True:\n",
        "        n_hydrogens_enc = one_hot_encoding(int(atom.GetTotalNumHs()), [0, 1, 2, 3, 4, \"MoreThanFour\"])\n",
        "        atom_feature_vector += n_hydrogens_enc\n",
        "\n",
        "    return np.array(atom_feature_vector)"
      ],
      "metadata": {
        "id": "pw3eExGF8vK4"
      },
      "execution_count": 4,
      "outputs": []
    },
    {
      "cell_type": "markdown",
      "source": [
        "Bond Featurization: Takes an RDKit bond object as input and gives a 1d-numpy array of bond features as output."
      ],
      "metadata": {
        "id": "MImwLle79JdI"
      }
    },
    {
      "cell_type": "code",
      "source": [
        "# Bond Featurisation\n",
        "def get_bond_features(bond, \n",
        "                      use_stereochemistry = True):\n",
        "\n",
        "    permitted_list_of_bond_types = [Chem.rdchem.BondType.SINGLE, Chem.rdchem.BondType.DOUBLE, Chem.rdchem.BondType.TRIPLE, Chem.rdchem.BondType.AROMATIC]\n",
        "\n",
        "    bond_type_enc = one_hot_encoding(bond.GetBondType(), permitted_list_of_bond_types)\n",
        "    \n",
        "    bond_is_conj_enc = [int(bond.GetIsConjugated())]\n",
        "    \n",
        "    bond_is_in_ring_enc = [int(bond.IsInRing())]\n",
        "    \n",
        "    bond_feature_vector = bond_type_enc + bond_is_conj_enc + bond_is_in_ring_enc\n",
        "    \n",
        "    if use_stereochemistry == True:\n",
        "        stereo_type_enc = one_hot_encoding(str(bond.GetStereo()), [\"STEREOZ\", \"STEREOE\", \"STEREOANY\", \"STEREONONE\"])\n",
        "        bond_feature_vector += stereo_type_enc\n",
        "\n",
        "    return np.array(bond_feature_vector)"
      ],
      "metadata": {
        "id": "orE6-80h9ZA9"
      },
      "execution_count": 5,
      "outputs": []
    },
    {
      "cell_type": "markdown",
      "source": [
        "Dablander, Markus. How to Turn a SMILES String into a Molecular Graph for Pytorch Geometric | Oxford Protein Informatics Group. https://www.blopig.com/blog/2022/02/how-to-turn-a-smiles-string-into-a-molecular-graph-for-pytorch-geometric/. Accessed 11 July 2022.\n"
      ],
      "metadata": {
        "id": "1WtI5xIG_L_f"
      }
    },
    {
      "cell_type": "markdown",
      "source": [
        "# Create Dataset"
      ],
      "metadata": {
        "id": "Dd3rtzqR-hTy"
      }
    },
    {
      "cell_type": "markdown",
      "source": [
        "Subclass the Dataset class to standardize how graph datasets are represented in Spektral. Here, you can choose the endpoint to work with."
      ],
      "metadata": {
        "id": "qadRGli7V02I"
      }
    },
    {
      "cell_type": "code",
      "source": [
        "class MyDataset(Dataset):\n",
        "  def read(self):\n",
        "    global polydata\n",
        "    #polydata = pd.read_csv(\"https://raw.githubusercontent.com/carlosmatherson/SULI-Project/main/SMILES_Density_Tg_Mt.csv\") #\"Tg\"\n",
        "    polydata = pd.read_csv(\"https://raw.githubusercontent.com/liugangcode/GREA/main/data/tg_prop/raw/tg_raw.csv\") # \"tg\"\n",
        "    graph_list = makeGraphObjList(polydata[\"SMILES\"], polydata[\"tg\"]) \n",
        "    return graph_list"
      ],
      "metadata": {
        "id": "zMcD28857JwV"
      },
      "execution_count": 6,
      "outputs": []
    },
    {
      "cell_type": "markdown",
      "source": [
        "Define `makeGraphObjList` to create Spektral graph dataset from smiles and labels. The function takes a list of SMILES strings `x_smiles = [smiles_1, smiles_2, ....]` and a list of numerial labels for the SMILES strings `y = [y_1, y_2, ...]` as inputs. The output is a list of spektral.data.graph.Graph objects that can readily be used for machine learning, `graph_list = [G_1, G_2, ...]`. \n",
        "\n",
        "\n",
        "\n",
        "\n"
      ],
      "metadata": {
        "id": "hMFxmFiCy0jI"
      }
    },
    {
      "cell_type": "code",
      "source": [
        "def makeGraphObjList(x_smiles, y):\n",
        "    \n",
        "    graph_list = []\n",
        "\n",
        "    for (smiles, y_val) in zip(x_smiles, y):\n",
        "        \n",
        "        # convert SMILES to RDKit mol object\n",
        "        mol = Chem.MolFromSmiles(smiles)\n",
        "        \n",
        "        # get feature dimensions\n",
        "        n_nodes = mol.GetNumAtoms()\n",
        "        n_edges = 2*mol.GetNumBonds()\n",
        "        unrelated_smiles = \"O=O\"\n",
        "        unrelated_mol = Chem.MolFromSmiles(unrelated_smiles)\n",
        "        n_node_features = len(get_atom_features(unrelated_mol.GetAtomWithIdx(0)))\n",
        "        n_edge_features = len(get_bond_features(unrelated_mol.GetBondBetweenAtoms(0,1)))\n",
        "\n",
        "        # construct adjacency matrix (n_nodes, n_nodes), full matrix\n",
        "        A = np.array(GetAdjacencyMatrix(mol)) # full matrix\n",
        "\n",
        "        # construct edge index array Ei of shape (n_edges, 2), sparse matrix\n",
        "        Ei = np.transpose(np.nonzero(A)) # vertical format\n",
        "        (rows, cols) = np.transpose(Ei)\n",
        "\n",
        "        # construct node feature matrix Xn of shape (n_nodes, n_node_features)\n",
        "        X = np.zeros((n_nodes, n_node_features))\n",
        "        for atom in mol.GetAtoms():\n",
        "            X[atom.GetIdx(), :] = get_atom_features(atom)\n",
        "        \n",
        "        # construct edge feature array Ef of shape (n_edges, n_edge_features)\n",
        "        E = np.zeros((n_edges, n_edge_features))\n",
        "        for (k, (i,j)) in enumerate(zip(rows, cols)):\n",
        "            E[k] = get_bond_features(mol.GetBondBetweenAtoms(int(i),int(j)))\n",
        "        reorder(Ei, E)\n",
        "        \n",
        "        # construct label tensor\n",
        "        Y = np.array([y_val])\n",
        "\n",
        "        # construct Spektral graph object and append to dataset (list)\n",
        "        graph_list.append(Graph(x=X, a=A, e=E, y=Y))\n",
        "        \n",
        "    return graph_list "
      ],
      "metadata": {
        "id": "mUflMN2i-p7Y"
      },
      "execution_count": 7,
      "outputs": []
    },
    {
      "cell_type": "markdown",
      "source": [
        "# Graph Convolutional Network"
      ],
      "metadata": {
        "id": "LIQBZjmdZnay"
      }
    },
    {
      "cell_type": "markdown",
      "source": [
        "Load data."
      ],
      "metadata": {
        "id": "lrbucS1G879u"
      }
    },
    {
      "cell_type": "code",
      "source": [
        "data = MyDataset()  # store data in data\n",
        "#gradient = polydata[\"Tg\"]"
      ],
      "metadata": {
        "id": "49_LrRJM87ps"
      },
      "execution_count": 8,
      "outputs": []
    },
    {
      "cell_type": "markdown",
      "source": [
        "Hyperparameters"
      ],
      "metadata": {
        "id": "pjI97nIMZwRK"
      }
    },
    {
      "cell_type": "code",
      "source": [
        "learning_rate = 1e-3                # Learning rate\n",
        "epochs = 5                          # Number of training epochs, 4000\n",
        "batch_size = data.n_graphs          # Batch size \n",
        "train_split = 0.6                   # split %\n",
        "optimizer = Adam(learning_rate)     # Optimizer\n",
        "metrics = [RootMeanSquaredError()]  # metric\n",
        "loss = 'mse'                        # Loss function"
      ],
      "metadata": {
        "id": "z9_d_lqTDuQ_"
      },
      "execution_count": 9,
      "outputs": []
    },
    {
      "cell_type": "markdown",
      "source": [
        "Split the dataset created above."
      ],
      "metadata": {
        "id": "Be4iVLCbdD3N"
      }
    },
    {
      "cell_type": "code",
      "source": [
        "lendata = int(len(data)/2)\n",
        "idxs = np.random.permutation(lendata)             # shuffle dataset\n",
        "split = int(train_split * lendata)                # choose train split %\n",
        "idx_tr, idx_te = np.split(idxs, [split])            # sort tr/te indices \n",
        "dataset_tr, dataset_te = data[idx_tr], data[idx_te] # store train / test data"
      ],
      "metadata": {
        "id": "HW7N-re_bqU3"
      },
      "execution_count": 11,
      "outputs": []
    },
    {
      "cell_type": "markdown",
      "source": [
        "GCN body: 6 layers, 100 nodes each, global pooling, no masking"
      ],
      "metadata": {
        "id": "-gWGDAatgoxM"
      }
    },
    {
      "cell_type": "code",
      "source": [
        "#model\n",
        "class myGCN(Model):\n",
        "\n",
        "    def __init__(self):\n",
        "      super().__init__()\n",
        "      self.conv1 = GCNConv(100, activation=\"relu\")    # 6 convolutional layers\n",
        "      self.conv2 = GCNConv(100, activation=\"relu\")\n",
        "      self.conv3 = GCNConv(100, activation=\"relu\")\n",
        "      self.conv4 = GCNConv(100, activation=\"relu\")\n",
        "      self.conv5 = GCNConv(100, activation=\"relu\")\n",
        "      self.conv6 = GCNConv(100, activation=\"relu\")  \n",
        "      self.global_pool = GlobalSumPool()              # global sum\n",
        "      self.mlp1 = Dense(units=300, activation=\"relu\") # 2 hidden layers\n",
        "      self.mlp2 = Dense(units=300, activation=\"relu\")\n",
        "      self.dense = Dense(data.n_labels)               # output       \n",
        "\n",
        "    def call(self, inputs):\n",
        "      global x, a, gcn_out, nn_out\n",
        "      x, a = inputs[0], inputs[1]\n",
        "      x = self.conv1([x, a])\n",
        "      x = self.conv2([x, a])\n",
        "      x = self.conv3([x, a])\n",
        "      x = self.conv4([x, a])\n",
        "      x = self.conv5([x, a])\n",
        "      x = self.conv6([x, a])\n",
        "      gcn_out = self.global_pool(x)\n",
        "      x = self.mlp1(gcn_out)\n",
        "      x = self.mlp2(x)\n",
        "      nn_out = self.dense(x)\n",
        "\n",
        "      return gcn_out, nn_out # return loss and metric for GCN and NN layers\n",
        "        \n",
        "model = myGCN()"
      ],
      "metadata": {
        "id": "8ZE87fbsvCM8"
      },
      "execution_count": 12,
      "outputs": []
    },
    {
      "cell_type": "markdown",
      "source": [
        "Compile model & choose loss"
      ],
      "metadata": {
        "id": "sYF2p9Bpg9dA"
      }
    },
    {
      "cell_type": "code",
      "source": [
        "model.compile(optimizer=optimizer, metrics=metrics, loss=loss, run_eagerly=True)"
      ],
      "metadata": {
        "id": "HRGFnIRVg6wM"
      },
      "execution_count": 13,
      "outputs": []
    },
    {
      "cell_type": "markdown",
      "source": [
        "Load training data as batch (zero-padded with masking) and train the model"
      ],
      "metadata": {
        "id": "oUNZr_GsiSUR"
      }
    },
    {
      "cell_type": "code",
      "source": [
        "loader_tr = BatchLoader(dataset_tr, batch_size=batch_size, mask=True)\n",
        "history = model.fit(loader_tr.load(), steps_per_epoch=loader_tr.steps_per_epoch, epochs=epochs)"
      ],
      "metadata": {
        "id": "K0Il2bvz6CCd",
        "colab": {
          "base_uri": "https://localhost:8080/"
        },
        "outputId": "59779d33-07bb-4439-cde1-527a0593e401"
      },
      "execution_count": 14,
      "outputs": [
        {
          "output_type": "stream",
          "name": "stderr",
          "text": [
            "/usr/local/lib/python3.7/dist-packages/spektral/data/utils.py:221: UserWarning: you are shuffling a 'MyDataset' object which is not a subclass of 'Sequence'; `shuffle` is not guaranteed to behave correctly. E.g., non-numpy array/tensor objects with view semantics may contain duplicates after shuffling.\n",
            "  np.random.shuffle(a)\n",
            "/usr/local/lib/python3.7/dist-packages/spektral/layers/convolutional/conv.py:94: UserWarning: The adjacency matrix of dtype <dtype: 'int32'> is incompatible with the dtype of the node features <dtype: 'float32'> and has been automatically cast to <dtype: 'float32'>.\n",
            "  f\"The adjacency matrix of dtype {a.dtype} is incompatible with the dtype \"\n"
          ]
        },
        {
          "output_type": "stream",
          "name": "stdout",
          "text": [
            "Epoch 1/5\n",
            "1/1 [==============================] - 8s 8s/step - loss: 73082.9844 - output_1_loss: 24819.3125 - output_2_loss: 48263.6719 - output_1_root_mean_squared_error: 157.5414 - output_2_root_mean_squared_error: 219.6899\n",
            "Epoch 2/5\n",
            "1/1 [==============================] - 8s 8s/step - loss: 47163.1406 - output_1_loss: 24207.3848 - output_2_loss: 22955.7559 - output_1_root_mean_squared_error: 155.5872 - output_2_root_mean_squared_error: 151.5116\n",
            "Epoch 3/5\n",
            "1/1 [==============================] - 10s 10s/step - loss: 31480.3262 - output_1_loss: 22042.0117 - output_2_loss: 9438.3174 - output_1_root_mean_squared_error: 148.4655 - output_2_root_mean_squared_error: 97.1510\n",
            "Epoch 4/5\n",
            "1/1 [==============================] - 7s 7s/step - loss: 28513.9980 - output_1_loss: 20651.9902 - output_2_loss: 7862.0083 - output_1_root_mean_squared_error: 143.7080 - output_2_root_mean_squared_error: 88.6680\n",
            "Epoch 5/5\n",
            "1/1 [==============================] - 8s 8s/step - loss: 28956.4258 - output_1_loss: 19600.5605 - output_2_loss: 9355.8643 - output_1_root_mean_squared_error: 140.0020 - output_2_root_mean_squared_error: 96.7257\n"
          ]
        }
      ]
    },
    {
      "cell_type": "markdown",
      "source": [
        "Load testing data as batch (zero-padded with masking) and evaluate the model"
      ],
      "metadata": {
        "id": "qJ-7OnMgizEx"
      }
    },
    {
      "cell_type": "code",
      "source": [
        "print(\"Testing model\")\n",
        "loader_te = BatchLoader(dataset_te, batch_size=batch_size, mask=True)\n",
        "loss = model.evaluate(loader_te.load(), steps=loader_te.steps_per_epoch)\n",
        "print(\"Done. Test loss: \\tMSE \\t\\t RMSE \\n \\t\\t{}\".format(loss))"
      ],
      "metadata": {
        "id": "sDcsm5LK67WG",
        "colab": {
          "base_uri": "https://localhost:8080/"
        },
        "outputId": "e568eac5-d1ce-4faa-819d-23a7bd605842"
      },
      "execution_count": 15,
      "outputs": [
        {
          "output_type": "stream",
          "name": "stdout",
          "text": [
            "Testing model\n"
          ]
        },
        {
          "output_type": "stream",
          "name": "stderr",
          "text": [
            "/usr/local/lib/python3.7/dist-packages/spektral/data/utils.py:221: UserWarning: you are shuffling a 'MyDataset' object which is not a subclass of 'Sequence'; `shuffle` is not guaranteed to behave correctly. E.g., non-numpy array/tensor objects with view semantics may contain duplicates after shuffling.\n",
            "  np.random.shuffle(a)\n",
            "/usr/local/lib/python3.7/dist-packages/spektral/layers/convolutional/conv.py:94: UserWarning: The adjacency matrix of dtype <dtype: 'int32'> is incompatible with the dtype of the node features <dtype: 'float32'> and has been automatically cast to <dtype: 'float32'>.\n",
            "  f\"The adjacency matrix of dtype {a.dtype} is incompatible with the dtype \"\n"
          ]
        },
        {
          "output_type": "stream",
          "name": "stdout",
          "text": [
            "1/1 [==============================] - 2s 2s/step - loss: 26465.5137 - output_1_loss: 18993.1074 - output_2_loss: 7472.4058 - output_1_root_mean_squared_error: 137.8155 - output_2_root_mean_squared_error: 86.4431\n",
            "Done. Test loss: \tMSE \t\t RMSE \n",
            " \t\t[26465.513671875, 18993.107421875, 7472.40576171875, 137.8154754638672, 86.44307708740234]\n"
          ]
        }
      ]
    },
    {
      "cell_type": "markdown",
      "source": [
        "# Visualization (future work)"
      ],
      "metadata": {
        "id": "PwgqP7Gxv2HS"
      }
    },
    {
      "cell_type": "code",
      "source": [
        "plt.plot(history.history['output_1_root_mean_squared_error'])\n",
        "plt.plot(history.history['output_2_root_mean_squared_error'])\n",
        "plt.show()"
      ],
      "metadata": {
        "colab": {
          "base_uri": "https://localhost:8080/",
          "height": 265
        },
        "id": "ME-ODKthUvHV",
        "outputId": "ff4ea856-cd55-4a6e-a3a9-e99210481991"
      },
      "execution_count": 16,
      "outputs": [
        {
          "output_type": "display_data",
          "data": {
            "text/plain": [
              "<Figure size 432x288 with 1 Axes>"
            ],
            "image/png": "[encoded data removed]"
          },
          "metadata": {
            "needs_background": "light"
          }
        }
      ]
    },
    {
      "cell_type": "code",
      "source": [
        "from sklearn.decomposition import PCA\n",
        "from matplotlib.colors import Normalize\n",
        "\n",
        "# Create a 2D PCA projection of the embeddings\n",
        "GCNrepresentation = gcn_out.numpy()\n",
        "pca = PCA(n_components=2)\n",
        "pca.fit(GCNrepresentation)\n",
        "pca_gcn = pca.transform(GCNrepresentation)\n",
        "print(pca.explained_variance_ratio_)\n",
        "\n",
        "# Plot those points as a scatter plot \n",
        "fig, ax = plt.subplots(figsize=(8,8))\n",
        "num_categories = data.n_labels\n",
        "ax.scatter(pca_gcn[:,0],pca_gcn[:,1]) # c=np.array(cmap(lab)).reshape(1,4)\n",
        "plt.show()"
      ],
      "metadata": {
        "colab": {
          "base_uri": "https://localhost:8080/",
          "height": 501
        },
        "id": "cwdKu9wWet_G",
        "outputId": "6770f581-c759-4d10-9753-1db32d5527cb"
      },
      "execution_count": 17,
      "outputs": [
        {
          "output_type": "stream",
          "name": "stdout",
          "text": [
            "[0.9611047  0.01491873]\n"
          ]
        },
        {
          "output_type": "display_data",
          "data": {
            "text/plain": [
              "<Figure size 576x576 with 1 Axes>"
            ],
            "image/png": "[encoded data removed]"
          },
          "metadata": {
            "needs_background": "light"
          }
        }
      ]
    }
  ]
}