{
  "nbformat": 4,
  "nbformat_minor": 0,
  "metadata": {
    "colab": {
      "name": "TgGCN.ipynb",
      "provenance": [],
      "collapsed_sections": [
        "CEUFzE4j8WEq",
        "34HBVTh68jHR"
      ],
      "toc_visible": true,
      "mount_file_id": "1AERyupaWbPJ2fOAJMSBR6w2ZAqXQozn3",
      "authorship_tag": "ABX9TyMiFgyVckURQRSDMvKOP5xV",
      "include_colab_link": true
    },
    "kernelspec": {
      "name": "python3",
      "display_name": "Python 3"
    },
    "language_info": {
      "name": "python"
    }
  },
  "cells": [
    {
      "cell_type": "markdown",
      "metadata": {
        "id": "view-in-github",
        "colab_type": "text"
      },
      "source": [
        "<a href=\"https://colab.research.google.com/github/carlosmatherson/SULI-Project/blob/main/TgGCN.ipynb\" target=\"_parent\"><img src=\"https://colab.research.google.com/assets/colab-badge.svg\" alt=\"Open In Colab\"/></a>"
      ]
    },
    {
      "cell_type": "markdown",
      "source": [
        "# Setup\n"
      ],
      "metadata": {
        "id": "CEUFzE4j8WEq"
      }
    },
    {
      "cell_type": "markdown",
      "source": [
        "Install Spektral and RDKit."
      ],
      "metadata": {
        "id": "CSYHeRogUOQK"
      }
    },
    {
      "cell_type": "code",
      "source": [
        "#!pip install spektral\n",
        "#!pip install rdkit"
      ],
      "metadata": {
        "id": "mKWD-j7lBFaU"
      },
      "execution_count": 7,
      "outputs": []
    },
    {
      "cell_type": "markdown",
      "source": [
        "Import necessary packages and functions."
      ],
      "metadata": {
        "id": "8CbOumsVUTNT"
      }
    },
    {
      "cell_type": "code",
      "source": [
        "# general tools\n",
        "import numpy as np\n",
        "import pandas as pd\n",
        "\n",
        "# RDkit\n",
        "from rdkit import Chem\n",
        "from rdkit.Chem.rdmolops import GetAdjacencyMatrix\n",
        "\n",
        "# Spektral\n",
        "from spektral.utils.sparse import reorder\n",
        "from spektral.data.graph import Graph\n",
        "from spektral.data import Dataset, BatchLoader\n",
        "from spektral.layers import GCNConv, GlobalSumPool\n",
        "\n",
        "# TensorFlow & Keras\n",
        "from tensorflow.keras.layers import Dense\n",
        "from tensorflow.keras.models import Model\n",
        "from tensorflow.keras.optimizers import Adam\n",
        "from tensorflow.keras.metrics import RootMeanSquaredError"
      ],
      "metadata": {
        "id": "MXbBM1BTqoyB"
      },
      "execution_count": 8,
      "outputs": []
    },
    {
      "cell_type": "markdown",
      "source": [
        "# Featurization"
      ],
      "metadata": {
        "id": "34HBVTh68jHR"
      }
    },
    {
      "cell_type": "markdown",
      "source": [
        "Onehot Encoding: Maps input elements x which are not in the permitted list to the last element of the permitted list."
      ],
      "metadata": {
        "id": "xFd7WAE59HM4"
      }
    },
    {
      "cell_type": "code",
      "source": [
        "# Onehot Encoding\n",
        "def one_hot_encoding(x, permitted_list):\n",
        "\n",
        "    if x not in permitted_list:\n",
        "        x = permitted_list[-1]\n",
        "\n",
        "    binary_encoding = [int(boolean_value) for boolean_value in list(map(lambda s: x == s, permitted_list))]\n",
        "\n",
        "    return binary_encoding"
      ],
      "metadata": {
        "id": "2wkSe_gZ8DVD"
      },
      "execution_count": 9,
      "outputs": []
    },
    {
      "cell_type": "markdown",
      "source": [
        "Atom Featurization: Takes an RDKit atom object as input and gives a 1d-numpy array of atom features as output."
      ],
      "metadata": {
        "id": "EaWZf3teyKBP"
      }
    },
    {
      "cell_type": "code",
      "source": [
        "# Atom Featurization\n",
        "def get_atom_features(atom, \n",
        "                      use_chirality = True, \n",
        "                      hydrogens_implicit = True):\n",
        "\n",
        "    # define list of permitted atoms\n",
        "    \n",
        "    permitted_list_of_atoms =  ['C','N','O','S','F','Si','P','Cl','Br','Mg','Na','Ca','Fe','As','Al','I', 'B','V','K','Tl','Yb','Sb','Sn','Ag','Pd','Co','Se','Ti','Zn', 'Li','Ge','Cu','Au','Ni','Cd','In','Mn','Zr','Cr','Pt','Hg','Pb','Unknown']\n",
        "    \n",
        "    if hydrogens_implicit == False:\n",
        "        permitted_list_of_atoms = ['H'] + permitted_list_of_atoms\n",
        "    \n",
        "    # compute atom features\n",
        "    \n",
        "    atom_type_enc = one_hot_encoding(str(atom.GetSymbol()), permitted_list_of_atoms)\n",
        "    \n",
        "    n_heavy_neighbors_enc = one_hot_encoding(int(atom.GetDegree()), [0, 1, 2, 3, 4, \"MoreThanFour\"])\n",
        "    \n",
        "    formal_charge_enc = one_hot_encoding(int(atom.GetFormalCharge()), [-3, -2, -1, 0, 1, 2, 3, \"Extreme\"])\n",
        "    \n",
        "    hybridisation_type_enc = one_hot_encoding(str(atom.GetHybridization()), [\"S\", \"SP\", \"SP2\", \"SP3\", \"SP3D\", \"SP3D2\", \"OTHER\"])\n",
        "    \n",
        "    is_in_a_ring_enc = [int(atom.IsInRing())]\n",
        "    \n",
        "    is_aromatic_enc = [int(atom.GetIsAromatic())]\n",
        "    \n",
        "    atomic_mass_scaled = [float((atom.GetMass() - 10.812)/116.092)]\n",
        "    \n",
        "    vdw_radius_scaled = [float((Chem.GetPeriodicTable().GetRvdw(atom.GetAtomicNum()) - 1.5)/0.6)]\n",
        "    \n",
        "    covalent_radius_scaled = [float((Chem.GetPeriodicTable().GetRcovalent(atom.GetAtomicNum()) - 0.64)/0.76)]\n",
        "\n",
        "    atom_feature_vector = atom_type_enc + n_heavy_neighbors_enc + formal_charge_enc + hybridisation_type_enc + is_in_a_ring_enc + is_aromatic_enc + atomic_mass_scaled + vdw_radius_scaled + covalent_radius_scaled\n",
        "                                    \n",
        "    if use_chirality == True:\n",
        "        chirality_type_enc = one_hot_encoding(str(atom.GetChiralTag()), [\"CHI_UNSPECIFIED\", \"CHI_TETRAHEDRAL_CW\", \"CHI_TETRAHEDRAL_CCW\", \"CHI_OTHER\"])\n",
        "        atom_feature_vector += chirality_type_enc\n",
        "    \n",
        "    if hydrogens_implicit == True:\n",
        "        n_hydrogens_enc = one_hot_encoding(int(atom.GetTotalNumHs()), [0, 1, 2, 3, 4, \"MoreThanFour\"])\n",
        "        atom_feature_vector += n_hydrogens_enc\n",
        "\n",
        "    return np.array(atom_feature_vector)"
      ],
      "metadata": {
        "id": "pw3eExGF8vK4"
      },
      "execution_count": 10,
      "outputs": []
    },
    {
      "cell_type": "markdown",
      "source": [
        "Bond Featurization: Takes an RDKit bond object as input and gives a 1d-numpy array of bond features as output."
      ],
      "metadata": {
        "id": "MImwLle79JdI"
      }
    },
    {
      "cell_type": "code",
      "source": [
        "# Bond Featurisation\n",
        "def get_bond_features(bond, \n",
        "                      use_stereochemistry = True):\n",
        "\n",
        "    permitted_list_of_bond_types = [Chem.rdchem.BondType.SINGLE, Chem.rdchem.BondType.DOUBLE, Chem.rdchem.BondType.TRIPLE, Chem.rdchem.BondType.AROMATIC]\n",
        "\n",
        "    bond_type_enc = one_hot_encoding(bond.GetBondType(), permitted_list_of_bond_types)\n",
        "    \n",
        "    bond_is_conj_enc = [int(bond.GetIsConjugated())]\n",
        "    \n",
        "    bond_is_in_ring_enc = [int(bond.IsInRing())]\n",
        "    \n",
        "    bond_feature_vector = bond_type_enc + bond_is_conj_enc + bond_is_in_ring_enc\n",
        "    \n",
        "    if use_stereochemistry == True:\n",
        "        stereo_type_enc = one_hot_encoding(str(bond.GetStereo()), [\"STEREOZ\", \"STEREOE\", \"STEREOANY\", \"STEREONONE\"])\n",
        "        bond_feature_vector += stereo_type_enc\n",
        "\n",
        "    return np.array(bond_feature_vector)"
      ],
      "metadata": {
        "id": "orE6-80h9ZA9"
      },
      "execution_count": 11,
      "outputs": []
    },
    {
      "cell_type": "markdown",
      "source": [
        "Dablander, Markus. How to Turn a SMILES String into a Molecular Graph for Pytorch Geometric | Oxford Protein Informatics Group. https://www.blopig.com/blog/2022/02/how-to-turn-a-smiles-string-into-a-molecular-graph-for-pytorch-geometric/. Accessed 11 July 2022.\n"
      ],
      "metadata": {
        "id": "1WtI5xIG_L_f"
      }
    },
    {
      "cell_type": "markdown",
      "source": [
        "# Create Dataset"
      ],
      "metadata": {
        "id": "Dd3rtzqR-hTy"
      }
    },
    {
      "cell_type": "markdown",
      "source": [
        "Subclass the Dataset class to standardize how graph datasets are represented in Spektral. Here, you can choose the endpoint to work with."
      ],
      "metadata": {
        "id": "qadRGli7V02I"
      }
    },
    {
      "cell_type": "code",
      "source": [
        "class MyDataset(Dataset):\n",
        "  def read(self):\n",
        "    polydata = pd.read_csv(\"https://raw.githubusercontent.com/carlosmatherson/SULI-Project/main/SMILES_Density_Tg_Mt.csv\")\n",
        "    graph_list = makeGraphObjList(polydata[\"SMILES\"], polydata[\"Tg\"])\n",
        "    return graph_list"
      ],
      "metadata": {
        "id": "zMcD28857JwV"
      },
      "execution_count": 12,
      "outputs": []
    },
    {
      "cell_type": "markdown",
      "source": [
        "Define `makeGraphObjList` to create Spektral graph dataset from smiles and labels. The function takes a list of SMILES strings `x_smiles = [smiles_1, smiles_2, ....]` and a list of numerial labels for the SMILES strings `y = [y_1, y_2, ...]` as inputs. The output is a list of spektral.data.graph.Graph objects that can readily be used for machine learning, `graph_list = [G_1, G_2, ...]`. \n",
        "\n",
        "\n",
        "\n",
        "\n"
      ],
      "metadata": {
        "id": "hMFxmFiCy0jI"
      }
    },
    {
      "cell_type": "code",
      "source": [
        "def makeGraphObjList(x_smiles, y):\n",
        "    \n",
        "    graph_list = []\n",
        "\n",
        "    for (smiles, y_val) in zip(x_smiles, y):\n",
        "        \n",
        "        # convert SMILES to RDKit mol object\n",
        "        mol = Chem.MolFromSmiles(smiles)\n",
        "        \n",
        "        # get feature dimensions\n",
        "        n_nodes = mol.GetNumAtoms()\n",
        "        n_edges = 2*mol.GetNumBonds()\n",
        "        unrelated_smiles = \"O=O\"\n",
        "        unrelated_mol = Chem.MolFromSmiles(unrelated_smiles)\n",
        "        n_node_features = len(get_atom_features(unrelated_mol.GetAtomWithIdx(0)))\n",
        "        n_edge_features = len(get_bond_features(unrelated_mol.GetBondBetweenAtoms(0,1)))\n",
        "\n",
        "        # construct adjacency matrix (n_nodes, n_nodes), full matrix\n",
        "        A = np.array(GetAdjacencyMatrix(mol)) # full matrix\n",
        "\n",
        "        # construct edge index array Ei of shape (n_edges, 2), sparse matrix\n",
        "        Ei = np.transpose(np.nonzero(A)) # vertical format\n",
        "        (rows, cols) = np.transpose(Ei)\n",
        "        #Ei = np.stack([rows, cols])\n",
        "\n",
        "        # construct node feature matrix Xn of shape (n_nodes, n_node_features)\n",
        "        X = np.zeros((n_nodes, n_node_features))\n",
        "        for atom in mol.GetAtoms():\n",
        "            X[atom.GetIdx(), :] = get_atom_features(atom)\n",
        "        \n",
        "        # construct edge feature array Ef of shape (n_edges, n_edge_features)\n",
        "        E = np.zeros((n_edges, n_edge_features))\n",
        "        for (k, (i,j)) in enumerate(zip(rows, cols)):\n",
        "            E[k] = get_bond_features(mol.GetBondBetweenAtoms(int(i),int(j)))\n",
        "        reorder(Ei, E)\n",
        "        \n",
        "        # construct label tensor\n",
        "        Y = np.array([y_val])\n",
        "\n",
        "        # construct Spektral graph object and append to dataset (list)\n",
        "        graph_list.append(Graph(x=X, a=A, e=E, y=Y))\n",
        "        \n",
        "    return graph_list "
      ],
      "metadata": {
        "id": "mUflMN2i-p7Y"
      },
      "execution_count": 13,
      "outputs": []
    },
    {
      "cell_type": "markdown",
      "source": [
        "# Load Dataset"
      ],
      "metadata": {
        "id": "IAbyQAMOZ2dg"
      }
    },
    {
      "cell_type": "markdown",
      "source": [
        "# Graph Convolutional Network"
      ],
      "metadata": {
        "id": "LIQBZjmdZnay"
      }
    },
    {
      "cell_type": "markdown",
      "source": [
        "Hyperparameters"
      ],
      "metadata": {
        "id": "pjI97nIMZwRK"
      }
    },
    {
      "cell_type": "code",
      "source": [
        "# train/test split\n",
        "idxs = np.random.permutation(len(data))\n",
        "split = int(0.7 * len(data))\n",
        "idx_tr, idx_te = np.split(idxs, [split])\n",
        "dataset_tr, dataset_te = data[idx_tr], data[idx_te]"
      ],
      "metadata": {
        "id": "qSGw5HDxEFLP",
        "colab": {
          "base_uri": "https://localhost:8080/",
          "height": 240
        },
        "outputId": "4a309cd6-7edf-413b-b6b2-fedf26503100"
      },
      "execution_count": 14,
      "outputs": [
        {
          "output_type": "error",
          "ename": "NameError",
          "evalue": "ignored",
          "traceback": [
            "\u001b[0;31m---------------------------------------------------------------------------\u001b[0m",
            "\u001b[0;31mNameError\u001b[0m                                 Traceback (most recent call last)",
            "\u001b[0;32m<ipython-input-14-c8e5b5bc9b75>\u001b[0m in \u001b[0;36m<module>\u001b[0;34m()\u001b[0m\n\u001b[1;32m      1\u001b[0m \u001b[0;31m# train/test split\u001b[0m\u001b[0;34m\u001b[0m\u001b[0;34m\u001b[0m\u001b[0;34m\u001b[0m\u001b[0m\n\u001b[0;32m----> 2\u001b[0;31m \u001b[0midxs\u001b[0m \u001b[0;34m=\u001b[0m \u001b[0mnp\u001b[0m\u001b[0;34m.\u001b[0m\u001b[0mrandom\u001b[0m\u001b[0;34m.\u001b[0m\u001b[0mpermutation\u001b[0m\u001b[0;34m(\u001b[0m\u001b[0mlen\u001b[0m\u001b[0;34m(\u001b[0m\u001b[0mdata\u001b[0m\u001b[0;34m)\u001b[0m\u001b[0;34m)\u001b[0m\u001b[0;34m\u001b[0m\u001b[0;34m\u001b[0m\u001b[0m\n\u001b[0m\u001b[1;32m      3\u001b[0m \u001b[0msplit\u001b[0m \u001b[0;34m=\u001b[0m \u001b[0mint\u001b[0m\u001b[0;34m(\u001b[0m\u001b[0;36m0.7\u001b[0m \u001b[0;34m*\u001b[0m \u001b[0mlen\u001b[0m\u001b[0;34m(\u001b[0m\u001b[0mdata\u001b[0m\u001b[0;34m)\u001b[0m\u001b[0;34m)\u001b[0m\u001b[0;34m\u001b[0m\u001b[0;34m\u001b[0m\u001b[0m\n\u001b[1;32m      4\u001b[0m \u001b[0midx_tr\u001b[0m\u001b[0;34m,\u001b[0m \u001b[0midx_te\u001b[0m \u001b[0;34m=\u001b[0m \u001b[0mnp\u001b[0m\u001b[0;34m.\u001b[0m\u001b[0msplit\u001b[0m\u001b[0;34m(\u001b[0m\u001b[0midxs\u001b[0m\u001b[0;34m,\u001b[0m \u001b[0;34m[\u001b[0m\u001b[0msplit\u001b[0m\u001b[0;34m]\u001b[0m\u001b[0;34m)\u001b[0m\u001b[0;34m\u001b[0m\u001b[0;34m\u001b[0m\u001b[0m\n\u001b[1;32m      5\u001b[0m \u001b[0mdataset_tr\u001b[0m\u001b[0;34m,\u001b[0m \u001b[0mdataset_te\u001b[0m \u001b[0;34m=\u001b[0m \u001b[0mdata\u001b[0m\u001b[0;34m[\u001b[0m\u001b[0midx_tr\u001b[0m\u001b[0;34m]\u001b[0m\u001b[0;34m,\u001b[0m \u001b[0mdata\u001b[0m\u001b[0;34m[\u001b[0m\u001b[0midx_te\u001b[0m\u001b[0;34m]\u001b[0m\u001b[0;34m\u001b[0m\u001b[0;34m\u001b[0m\u001b[0m\n",
            "\u001b[0;31mNameError\u001b[0m: name 'data' is not defined"
          ]
        }
      ]
    },
    {
      "cell_type": "code",
      "source": [
        "# parameters\n",
        "F = data.n_node_features  # Dimension of node features, 79\n",
        "S = data.n_edge_features  # Dimension of edge features, 10\n",
        "n_out = data.n_labels  # Dimension of the target\n",
        "\n",
        "# config\n",
        "learning_rate = 1e-3  # Learning rate\n",
        "epochs = 50  # Number of training epochs\n",
        "batch_size = 15  # Batch size"
      ],
      "metadata": {
        "id": "z9_d_lqTDuQ_"
      },
      "execution_count": 167,
      "outputs": []
    },
    {
      "cell_type": "code",
      "source": [
        "#model\n",
        "class myGCN(Model):\n",
        "    def __init__(self):\n",
        "        super().__init__()\n",
        "        self.conv1 = GCNConv(100, activation=\"relu\")\n",
        "        self.conv2 = GCNConv(100, activation=\"relu\")\n",
        "        self.conv3 = GCNConv(100, activation=\"relu\")\n",
        "        self.conv4 = GCNConv(100, activation=\"relu\")\n",
        "        self.conv5 = GCNConv(100, activation=\"relu\")\n",
        "        self.conv6 = GCNConv(100, activation=\"relu\")\n",
        "        self.global_pool = GlobalSumPool()\n",
        "        self.dense = Dense(n_out)\n",
        "        \n",
        "    def call(self, inputs):\n",
        "        x, a = inputs[0], inputs[1]\n",
        "        x = self.conv1([x, a])\n",
        "        x = self.conv2([x, a])\n",
        "        output = self.global_pool(x)\n",
        "        output = self.dense(output)\n",
        "\n",
        "        return output\n",
        "\n",
        "\n",
        "model = myGCN()\n",
        "optimizer = Adam(learning_rate)\n",
        "model.compile(optimizer=optimizer, metrics=[RootMeanSquaredError()], loss=\"mse\")"
      ],
      "metadata": {
        "id": "8ZE87fbsvCM8"
      },
      "execution_count": 169,
      "outputs": []
    },
    {
      "cell_type": "code",
      "source": [
        "loader_tr = BatchLoader(dataset_tr, batch_size=batch_size, mask=True)\n",
        "model.fit(loader_tr.load(), steps_per_epoch=loader_tr.steps_per_epoch, epochs=epochs)"
      ],
      "metadata": {
        "colab": {
          "base_uri": "https://localhost:8080/",
          "height": 1000
        },
        "id": "K0Il2bvz6CCd",
        "outputId": "d24ae887-381d-4f00-b04e-5a9e7750509e"
      },
      "execution_count": 170,
      "outputs": [
        {
          "output_type": "stream",
          "name": "stdout",
          "text": [
            "Epoch 1/50\n"
          ]
        },
        {
          "output_type": "stream",
          "name": "stderr",
          "text": [
            "/usr/local/lib/python3.7/dist-packages/spektral/data/utils.py:221: UserWarning: you are shuffling a 'MyDataset' object which is not a subclass of 'Sequence'; `shuffle` is not guaranteed to behave correctly. E.g., non-numpy array/tensor objects with view semantics may contain duplicates after shuffling.\n",
            "  np.random.shuffle(a)\n",
            "/usr/local/lib/python3.7/dist-packages/spektral/layers/convolutional/conv.py:94: UserWarning: The adjacency matrix of dtype <dtype: 'int32'> is incompatible with the dtype of the node features <dtype: 'float32'> and has been automatically cast to <dtype: 'float32'>.\n",
            "  f\"The adjacency matrix of dtype {a.dtype} is incompatible with the dtype \"\n",
            "/usr/local/lib/python3.7/dist-packages/tensorflow/python/autograph/impl/api.py:371: UserWarning: The adjacency matrix of dtype <dtype: 'int32'> is incompatible with the dtype of the node features <dtype: 'float32'> and has been automatically cast to <dtype: 'float32'>.\n",
            "  return py_builtins.overload_of(f)(*args)\n"
          ]
        },
        {
          "output_type": "stream",
          "name": "stdout",
          "text": [
            "21/21 [==============================] - 31s 9ms/step - loss: 6405.9575 - root_mean_squared_error: 80.0372\n",
            "Epoch 2/50\n",
            "21/21 [==============================] - 0s 9ms/step - loss: 4948.7969 - root_mean_squared_error: 70.3477\n",
            "Epoch 3/50\n",
            "21/21 [==============================] - 0s 9ms/step - loss: 4668.7056 - root_mean_squared_error: 68.3279\n",
            "Epoch 4/50\n",
            "21/21 [==============================] - 0s 9ms/step - loss: 4639.9087 - root_mean_squared_error: 68.1169\n",
            "Epoch 5/50\n",
            "21/21 [==============================] - 0s 9ms/step - loss: 4597.1870 - root_mean_squared_error: 67.8026\n",
            "Epoch 6/50\n",
            "21/21 [==============================] - 0s 9ms/step - loss: 4370.8579 - root_mean_squared_error: 66.1125\n",
            "Epoch 7/50\n",
            "21/21 [==============================] - 0s 10ms/step - loss: 4322.4365 - root_mean_squared_error: 65.7452\n",
            "Epoch 8/50\n",
            "21/21 [==============================] - 0s 10ms/step - loss: 4109.6113 - root_mean_squared_error: 64.1062\n",
            "Epoch 9/50\n",
            "21/21 [==============================] - 0s 10ms/step - loss: 3945.1194 - root_mean_squared_error: 62.8102\n",
            "Epoch 10/50\n",
            "21/21 [==============================] - 0s 10ms/step - loss: 3789.8135 - root_mean_squared_error: 61.5615\n",
            "Epoch 11/50\n",
            "21/21 [==============================] - 0s 10ms/step - loss: 3864.4775 - root_mean_squared_error: 62.1649\n",
            "Epoch 12/50\n",
            "21/21 [==============================] - 0s 9ms/step - loss: 3712.2346 - root_mean_squared_error: 60.9281\n",
            "Epoch 13/50\n",
            "21/21 [==============================] - 0s 10ms/step - loss: 3596.2026 - root_mean_squared_error: 59.9683\n",
            "Epoch 14/50\n",
            "21/21 [==============================] - 0s 9ms/step - loss: 3405.8220 - root_mean_squared_error: 58.3594\n",
            "Epoch 15/50\n",
            "21/21 [==============================] - 0s 10ms/step - loss: 3224.4353 - root_mean_squared_error: 56.7841\n",
            "Epoch 16/50\n",
            "21/21 [==============================] - 0s 10ms/step - loss: 3129.4929 - root_mean_squared_error: 55.9419\n",
            "Epoch 17/50\n",
            "21/21 [==============================] - 0s 9ms/step - loss: 3350.9097 - root_mean_squared_error: 57.8870\n",
            "Epoch 18/50\n",
            "21/21 [==============================] - 0s 10ms/step - loss: 3014.0032 - root_mean_squared_error: 54.8999\n",
            "Epoch 19/50\n",
            "21/21 [==============================] - 0s 13ms/step - loss: 2873.9346 - root_mean_squared_error: 53.6091\n",
            "Epoch 20/50\n",
            "21/21 [==============================] - 0s 12ms/step - loss: 2873.5850 - root_mean_squared_error: 53.6058\n",
            "Epoch 21/50\n",
            "21/21 [==============================] - 0s 13ms/step - loss: 2768.1687 - root_mean_squared_error: 52.6134\n",
            "Epoch 22/50\n",
            "21/21 [==============================] - 0s 13ms/step - loss: 2641.8831 - root_mean_squared_error: 51.3993\n",
            "Epoch 23/50\n",
            "21/21 [==============================] - 0s 13ms/step - loss: 2727.9456 - root_mean_squared_error: 52.2297\n",
            "Epoch 24/50\n",
            "21/21 [==============================] - 0s 13ms/step - loss: 2605.3232 - root_mean_squared_error: 51.0424\n",
            "Epoch 25/50\n",
            "21/21 [==============================] - 0s 15ms/step - loss: 2438.6267 - root_mean_squared_error: 49.3825\n",
            "Epoch 26/50\n",
            "21/21 [==============================] - 0s 13ms/step - loss: 2600.2986 - root_mean_squared_error: 50.9931\n",
            "Epoch 27/50\n",
            "21/21 [==============================] - 0s 13ms/step - loss: 2447.1160 - root_mean_squared_error: 49.4683\n",
            "Epoch 28/50\n",
            "21/21 [==============================] - 0s 13ms/step - loss: 2360.1970 - root_mean_squared_error: 48.5819\n",
            "Epoch 29/50\n",
            "21/21 [==============================] - 0s 14ms/step - loss: 2449.1152 - root_mean_squared_error: 49.4885\n",
            "Epoch 30/50\n",
            "21/21 [==============================] - 0s 13ms/step - loss: 2298.3159 - root_mean_squared_error: 47.9408\n",
            "Epoch 31/50\n",
            "21/21 [==============================] - 0s 12ms/step - loss: 2262.6870 - root_mean_squared_error: 47.5677\n",
            "Epoch 32/50\n",
            "21/21 [==============================] - 0s 12ms/step - loss: 2212.1858 - root_mean_squared_error: 47.0339\n",
            "Epoch 33/50\n",
            "21/21 [==============================] - 0s 11ms/step - loss: 2308.8040 - root_mean_squared_error: 48.0500\n",
            "Epoch 34/50\n",
            "21/21 [==============================] - 0s 14ms/step - loss: 2227.2043 - root_mean_squared_error: 47.1933\n",
            "Epoch 35/50\n",
            "21/21 [==============================] - 0s 9ms/step - loss: 2115.2141 - root_mean_squared_error: 45.9915\n",
            "Epoch 36/50\n",
            "21/21 [==============================] - 0s 9ms/step - loss: 2168.3853 - root_mean_squared_error: 46.5659\n",
            "Epoch 37/50\n",
            "21/21 [==============================] - 0s 9ms/step - loss: 2166.5210 - root_mean_squared_error: 46.5459\n",
            "Epoch 38/50\n",
            "21/21 [==============================] - 0s 9ms/step - loss: 2051.9700 - root_mean_squared_error: 45.2987\n",
            "Epoch 39/50\n",
            "21/21 [==============================] - 0s 9ms/step - loss: 2108.1069 - root_mean_squared_error: 45.9141\n",
            "Epoch 40/50\n",
            "21/21 [==============================] - 0s 9ms/step - loss: 1999.8843 - root_mean_squared_error: 44.7201\n",
            "Epoch 41/50\n",
            "21/21 [==============================] - 0s 9ms/step - loss: 2030.7242 - root_mean_squared_error: 45.0636\n",
            "Epoch 42/50\n",
            "21/21 [==============================] - 0s 9ms/step - loss: 1971.5374 - root_mean_squared_error: 44.4020\n",
            "Epoch 43/50\n",
            "21/21 [==============================] - 0s 9ms/step - loss: 2218.6643 - root_mean_squared_error: 47.1027\n",
            "Epoch 44/50\n",
            "21/21 [==============================] - 0s 9ms/step - loss: 2240.4678 - root_mean_squared_error: 47.3336\n",
            "Epoch 45/50\n",
            "21/21 [==============================] - 0s 9ms/step - loss: 2106.8689 - root_mean_squared_error: 45.9006\n",
            "Epoch 46/50\n",
            "21/21 [==============================] - 0s 10ms/step - loss: 2018.2634 - root_mean_squared_error: 44.9251\n",
            "Epoch 47/50\n",
            "21/21 [==============================] - 0s 9ms/step - loss: 1977.7076 - root_mean_squared_error: 44.4714\n",
            "Epoch 48/50\n",
            "21/21 [==============================] - 0s 13ms/step - loss: 1911.0554 - root_mean_squared_error: 43.7156\n",
            "Epoch 49/50\n",
            "21/21 [==============================] - 0s 15ms/step - loss: 1856.0621 - root_mean_squared_error: 43.0820\n",
            "Epoch 50/50\n",
            "21/21 [==============================] - 0s 10ms/step - loss: 1867.6315 - root_mean_squared_error: 43.2161\n"
          ]
        },
        {
          "output_type": "error",
          "ename": "KeyboardInterrupt",
          "evalue": "ignored",
          "traceback": [
            "\u001b[0;31m---------------------------------------------------------------------------\u001b[0m",
            "\u001b[0;31mKeyboardInterrupt\u001b[0m                         Traceback (most recent call last)",
            "\u001b[0;32m<ipython-input-170-6cae9c377f35>\u001b[0m in \u001b[0;36m<module>\u001b[0;34m()\u001b[0m\n\u001b[1;32m      1\u001b[0m \u001b[0mloader_tr\u001b[0m \u001b[0;34m=\u001b[0m \u001b[0mBatchLoader\u001b[0m\u001b[0;34m(\u001b[0m\u001b[0mdataset_tr\u001b[0m\u001b[0;34m,\u001b[0m \u001b[0mbatch_size\u001b[0m\u001b[0;34m=\u001b[0m\u001b[0mbatch_size\u001b[0m\u001b[0;34m,\u001b[0m \u001b[0mmask\u001b[0m\u001b[0;34m=\u001b[0m\u001b[0;32mTrue\u001b[0m\u001b[0;34m)\u001b[0m\u001b[0;34m\u001b[0m\u001b[0;34m\u001b[0m\u001b[0m\n\u001b[0;32m----> 2\u001b[0;31m \u001b[0mmodel\u001b[0m\u001b[0;34m.\u001b[0m\u001b[0mfit\u001b[0m\u001b[0;34m(\u001b[0m\u001b[0mloader_tr\u001b[0m\u001b[0;34m.\u001b[0m\u001b[0mload\u001b[0m\u001b[0;34m(\u001b[0m\u001b[0;34m)\u001b[0m\u001b[0;34m,\u001b[0m \u001b[0msteps_per_epoch\u001b[0m\u001b[0;34m=\u001b[0m\u001b[0mloader_tr\u001b[0m\u001b[0;34m.\u001b[0m\u001b[0msteps_per_epoch\u001b[0m\u001b[0;34m,\u001b[0m \u001b[0mepochs\u001b[0m\u001b[0;34m=\u001b[0m\u001b[0mepochs\u001b[0m\u001b[0;34m)\u001b[0m\u001b[0;34m\u001b[0m\u001b[0;34m\u001b[0m\u001b[0m\n\u001b[0m",
            "\u001b[0;32m/usr/local/lib/python3.7/dist-packages/keras/utils/traceback_utils.py\u001b[0m in \u001b[0;36merror_handler\u001b[0;34m(*args, **kwargs)\u001b[0m\n\u001b[1;32m     62\u001b[0m     \u001b[0mfiltered_tb\u001b[0m \u001b[0;34m=\u001b[0m \u001b[0;32mNone\u001b[0m\u001b[0;34m\u001b[0m\u001b[0;34m\u001b[0m\u001b[0m\n\u001b[1;32m     63\u001b[0m     \u001b[0;32mtry\u001b[0m\u001b[0;34m:\u001b[0m\u001b[0;34m\u001b[0m\u001b[0;34m\u001b[0m\u001b[0m\n\u001b[0;32m---> 64\u001b[0;31m       \u001b[0;32mreturn\u001b[0m \u001b[0mfn\u001b[0m\u001b[0;34m(\u001b[0m\u001b[0;34m*\u001b[0m\u001b[0margs\u001b[0m\u001b[0;34m,\u001b[0m \u001b[0;34m**\u001b[0m\u001b[0mkwargs\u001b[0m\u001b[0;34m)\u001b[0m\u001b[0;34m\u001b[0m\u001b[0;34m\u001b[0m\u001b[0m\n\u001b[0m\u001b[1;32m     65\u001b[0m     \u001b[0;32mexcept\u001b[0m \u001b[0mException\u001b[0m \u001b[0;32mas\u001b[0m \u001b[0me\u001b[0m\u001b[0;34m:\u001b[0m  \u001b[0;31m# pylint: disable=broad-except\u001b[0m\u001b[0;34m\u001b[0m\u001b[0;34m\u001b[0m\u001b[0m\n\u001b[1;32m     66\u001b[0m       \u001b[0mfiltered_tb\u001b[0m \u001b[0;34m=\u001b[0m \u001b[0m_process_traceback_frames\u001b[0m\u001b[0;34m(\u001b[0m\u001b[0me\u001b[0m\u001b[0;34m.\u001b[0m\u001b[0m__traceback__\u001b[0m\u001b[0;34m)\u001b[0m\u001b[0;34m\u001b[0m\u001b[0;34m\u001b[0m\u001b[0m\n",
            "\u001b[0;31mKeyboardInterrupt\u001b[0m: "
          ]
        }
      ]
    },
    {
      "cell_type": "code",
      "source": [
        "print(\"Testing model\")\n",
        "loader_te = BatchLoader(dataset_te, batch_size=batch_size, mask=True)\n",
        "loss = model.evaluate(loader_te.load(), steps=loader_te.steps_per_epoch)\n",
        "print(\"Done. Test loss: \\tMSE \\t\\t RMSE \\n \\t\\t{}\".format(loss))"
      ],
      "metadata": {
        "id": "sDcsm5LK67WG"
      },
      "execution_count": null,
      "outputs": []
    },
    {
      "cell_type": "code",
      "source": [
        "#load Data\n",
        "data = MyDataset()"
      ],
      "metadata": {
        "id": "HW7N-re_bqU3"
      },
      "execution_count": 166,
      "outputs": []
    }
  ]
}