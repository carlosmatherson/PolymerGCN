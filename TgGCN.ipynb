{
  "nbformat": 4,
  "nbformat_minor": 0,
  "metadata": {
    "colab": {
      "name": "TgGCN.ipynb",
      "provenance": [],
      "collapsed_sections": [
        "34HBVTh68jHR",
        "Dd3rtzqR-hTy",
        "PwgqP7Gxv2HS"
      ],
      "mount_file_id": "1AERyupaWbPJ2fOAJMSBR6w2ZAqXQozn3",
      "authorship_tag": "ABX9TyMxAz8erg1ZpbM5vpD4jIbK",
      "include_colab_link": true
    },
    "kernelspec": {
      "name": "python3",
      "display_name": "Python 3"
    },
    "language_info": {
      "name": "python"
    }
  },
  "cells": [
    {
      "cell_type": "markdown",
      "metadata": {
        "id": "view-in-github",
        "colab_type": "text"
      },
      "source": [
        "<a href=\"https://colab.research.google.com/github/carlosmatherson/PolymerGCN/blob/main/TgGCN.ipynb\" target=\"_parent\"><img src=\"https://colab.research.google.com/assets/colab-badge.svg\" alt=\"Open In Colab\"/></a>"
      ]
    },
    {
      "cell_type": "markdown",
      "source": [
        "# Setup\n"
      ],
      "metadata": {
        "id": "CEUFzE4j8WEq"
      }
    },
    {
      "cell_type": "markdown",
      "source": [
        "Install Spektral and RDKit."
      ],
      "metadata": {
        "id": "CSYHeRogUOQK"
      }
    },
    {
      "cell_type": "code",
      "source": [
        "!pip install spektral\n",
        "!pip install rdkit"
      ],
      "metadata": {
        "id": "mKWD-j7lBFaU"
      },
      "execution_count": null,
      "outputs": []
    },
    {
      "cell_type": "markdown",
      "source": [
        "Import necessary packages and functions."
      ],
      "metadata": {
        "id": "8CbOumsVUTNT"
      }
    },
    {
      "cell_type": "code",
      "source": [
        "# general tools\n",
        "import numpy as np\n",
        "import pandas as pd\n",
        "\n",
        "# RDkit\n",
        "from rdkit import Chem\n",
        "from rdkit.Chem.rdmolops import GetAdjacencyMatrix\n",
        "\n",
        "# Spektral\n",
        "from spektral.utils.sparse import reorder\n",
        "from spektral.data.graph import Graph\n",
        "from spektral.data import Dataset, BatchLoader\n",
        "from spektral.layers import GCNConv, GlobalSumPool\n",
        "\n",
        "# SciKit-Learn\n",
        "from sklearn.model_selection import KFold\n",
        "\n",
        "# TensorFlow & Keras\n",
        "from tensorflow.keras.layers import Dense\n",
        "from tensorflow.keras.models import Model\n",
        "from tensorflow.keras.optimizers import Adam\n",
        "from tensorflow.keras.metrics import RootMeanSquaredError\n",
        "from tensorflow.keras import regularizers\n",
        "from tensorflow.keras import backend as K\n",
        "\n",
        "# Matplotlib\n",
        "import matplotlib.pyplot as plt"
      ],
      "metadata": {
        "id": "MXbBM1BTqoyB"
      },
      "execution_count": 218,
      "outputs": []
    },
    {
      "cell_type": "markdown",
      "source": [
        "# Featurization"
      ],
      "metadata": {
        "id": "34HBVTh68jHR"
      }
    },
    {
      "cell_type": "markdown",
      "source": [
        "Onehot Encoding: Maps input elements x which are not in the permitted list to the last element of the permitted list."
      ],
      "metadata": {
        "id": "xFd7WAE59HM4"
      }
    },
    {
      "cell_type": "code",
      "source": [
        "# Onehot Encoding\n",
        "def one_hot_encoding(x, permitted_list):\n",
        "\n",
        "    if x not in permitted_list:\n",
        "        x = permitted_list[-1]\n",
        "\n",
        "    binary_encoding = [int(boolean_value) for boolean_value in list(map(lambda s: x == s, permitted_list))]\n",
        "\n",
        "    return binary_encoding"
      ],
      "metadata": {
        "id": "2wkSe_gZ8DVD"
      },
      "execution_count": 177,
      "outputs": []
    },
    {
      "cell_type": "markdown",
      "source": [
        "Atom Featurization: Takes an RDKit atom object as input and gives a 1d-numpy array of atom features as output."
      ],
      "metadata": {
        "id": "EaWZf3teyKBP"
      }
    },
    {
      "cell_type": "code",
      "source": [
        "# Atom Featurization\n",
        "def get_atom_features(atom):\n",
        "\n",
        "    # define list of permitted atoms\n",
        "    permitted_list_of_atoms = ['Br', 'C', 'Cl', 'F', 'Li', 'N', 'O', 'P', 'S', 'Si', '*']\n",
        "    \n",
        "    # compute atom features\n",
        "    atom_type_enc = one_hot_encoding(str(atom.GetSymbol()), permitted_list_of_atoms)\n",
        "    n_hydrogens_enc = one_hot_encoding(int(atom.GetTotalNumHs()), [0, 1, 2, 3, 4, \"MoreThanFour\"])\n",
        "    implicit_valence_enc = one_hot_encoding(str(atom.GetImplicitValence()), [0, 1, 2, 3, 4, \"MoreThanFour\"])\n",
        "    degree_enc = one_hot_encoding(int(atom.GetDegree()), [0, 1, 2, 3, 4, \"MoreThanFour\"])\n",
        "    aromaticity_enc = [int(atom.GetIsAromatic())]\n",
        "\n",
        "    atom_feature_vector = atom_type_enc + n_hydrogens_enc + implicit_valence_enc + degree_enc + aromaticity_enc\n",
        "\n",
        "    return np.array(atom_feature_vector)"
      ],
      "metadata": {
        "id": "pw3eExGF8vK4"
      },
      "execution_count": 178,
      "outputs": []
    },
    {
      "cell_type": "markdown",
      "source": [
        "Bond Featurization: Takes an RDKit bond object as input and gives a 1d-numpy array of bond features as output."
      ],
      "metadata": {
        "id": "MImwLle79JdI"
      }
    },
    {
      "cell_type": "code",
      "source": [
        "# Bond Featurisation\n",
        "def get_bond_features(bond, use_stereochemistry = True):\n",
        "\n",
        "    permitted_list_of_bond_types = [Chem.rdchem.BondType.SINGLE, Chem.rdchem.BondType.DOUBLE, Chem.rdchem.BondType.TRIPLE, Chem.rdchem.BondType.AROMATIC]\n",
        "    bond_type_enc = one_hot_encoding(bond.GetBondType(), permitted_list_of_bond_types)\n",
        "    bond_is_conj_enc = [int(bond.GetIsConjugated())]\n",
        "    bond_is_in_ring_enc = [int(bond.IsInRing())]\n",
        "    bond_feature_vector = bond_type_enc + bond_is_conj_enc + bond_is_in_ring_enc\n",
        "    \n",
        "    if use_stereochemistry == True:\n",
        "        stereo_type_enc = one_hot_encoding(str(bond.GetStereo()), [\"STEREOZ\", \"STEREOE\", \"STEREOANY\", \"STEREONONE\"])\n",
        "        bond_feature_vector += stereo_type_enc\n",
        "\n",
        "    return np.array(bond_feature_vector)"
      ],
      "metadata": {
        "id": "orE6-80h9ZA9"
      },
      "execution_count": 179,
      "outputs": []
    },
    {
      "cell_type": "markdown",
      "source": [
        "Dablander, Markus. How to Turn a SMILES String into a Molecular Graph for Pytorch Geometric | Oxford Protein Informatics Group. https://www.blopig.com/blog/2022/02/how-to-turn-a-smiles-string-into-a-molecular-graph-for-pytorch-geometric/. Accessed 11 July 2022.\n"
      ],
      "metadata": {
        "id": "1WtI5xIG_L_f"
      }
    },
    {
      "cell_type": "markdown",
      "source": [
        "# Create Dataset"
      ],
      "metadata": {
        "id": "Dd3rtzqR-hTy"
      }
    },
    {
      "cell_type": "markdown",
      "source": [
        "Subclass the Dataset class to standardize how graph datasets are represented in Spektral. Here, you can choose the endpoint to work with."
      ],
      "metadata": {
        "id": "qadRGli7V02I"
      }
    },
    {
      "cell_type": "code",
      "source": [
        "class MyDataset(Dataset):\n",
        "  def read(self):\n",
        "    global polydata\n",
        "    polydata = pd.read_csv(\"https://raw.githubusercontent.com/carlosmatherson/PolymerGCN/main/SMILESwithAllProps.csv\") #\"Tg\"\n",
        "    #polydata = pd.read_csv(\"https://raw.githubusercontent.com/liugangcode/GREA/main/data/tg_prop/raw/tg_raw.csv\") # \"tg\"\n",
        "    graph_list = makeGraphObjList(polydata[\"SMILES\"], polydata[\"Tg\"]) \n",
        "    return graph_list"
      ],
      "metadata": {
        "id": "zMcD28857JwV"
      },
      "execution_count": 188,
      "outputs": []
    },
    {
      "cell_type": "markdown",
      "source": [
        "Define `makeGraphObjList` to create Spektral graph dataset from smiles and labels. The function takes a list of SMILES strings `x_smiles = [smiles_1, smiles_2, ....]` and a list of numerial labels for the SMILES strings `y = [y_1, y_2, ...]` as inputs. The output is a list of spektral.data.graph.Graph objects that can readily be used for machine learning, `graph_list = [G_1, G_2, ...]`. \n",
        "\n",
        "\n",
        "\n",
        "\n"
      ],
      "metadata": {
        "id": "hMFxmFiCy0jI"
      }
    },
    {
      "cell_type": "code",
      "source": [
        "def makeGraphObjList(x_smiles, y):\n",
        "    \n",
        "    graph_list = []\n",
        "\n",
        "    for (smiles, y_val) in zip(x_smiles, y):\n",
        "        \n",
        "        # convert SMILES to RDKit mol object\n",
        "        mol = Chem.MolFromSmiles(smiles)\n",
        "        \n",
        "        # get feature dimensions\n",
        "        n_nodes = mol.GetNumAtoms()\n",
        "        n_edges = 2*mol.GetNumBonds()\n",
        "        unrelated_smiles = \"O=O\"\n",
        "        unrelated_mol = Chem.MolFromSmiles(unrelated_smiles)\n",
        "        n_node_features = len(get_atom_features(unrelated_mol.GetAtomWithIdx(0)))\n",
        "        n_edge_features = len(get_bond_features(unrelated_mol.GetBondBetweenAtoms(0,1)))\n",
        "\n",
        "        # construct adjacency matrix (n_nodes, n_nodes), full matrix\n",
        "        A = np.array(GetAdjacencyMatrix(mol)) # full matrix\n",
        "\n",
        "        # construct edge index array Ei of shape (n_edges, 2), sparse matrix\n",
        "        Ei = np.transpose(np.nonzero(A)) # vertical format\n",
        "        (rows, cols) = np.transpose(Ei)\n",
        "\n",
        "        # construct node feature matrix Xn of shape (n_nodes, n_node_features)\n",
        "        X = np.zeros((n_nodes, n_node_features))\n",
        "        for atom in mol.GetAtoms():\n",
        "            X[atom.GetIdx(), :] = get_atom_features(atom)\n",
        "        \n",
        "        # construct edge feature array Ef of shape (n_edges, n_edge_features)\n",
        "        E = np.zeros((n_edges, n_edge_features))\n",
        "        # for (k, (i,j)) in enumerate(zip(rows, cols)):\n",
        "        #     E[k] = get_bond_features(mol.GetBondBetweenAtoms(int(i),int(j)))\n",
        "        # reorder(Ei, E)\n",
        "        \n",
        "        # construct label tensor\n",
        "        Y = np.array([y_val])\n",
        "\n",
        "        # construct Spektral graph object and append to dataset (list)\n",
        "        graph_list.append(Graph(x=X, a=A, e=E, y=Y))\n",
        "        \n",
        "    return graph_list "
      ],
      "metadata": {
        "id": "mUflMN2i-p7Y"
      },
      "execution_count": 189,
      "outputs": []
    },
    {
      "cell_type": "markdown",
      "source": [
        "Load data."
      ],
      "metadata": {
        "id": "lrbucS1G879u"
      }
    },
    {
      "cell_type": "code",
      "source": [
        "data = MyDataset()  # store data in data\n",
        "#gradient = polydata[\"Tg\"]"
      ],
      "metadata": {
        "id": "49_LrRJM87ps"
      },
      "execution_count": 210,
      "outputs": []
    },
    {
      "cell_type": "markdown",
      "source": [
        "# Graph Convolutional Network"
      ],
      "metadata": {
        "id": "LIQBZjmdZnay"
      }
    },
    {
      "cell_type": "markdown",
      "source": [
        "Defining R-squared function not available through Keras"
      ],
      "metadata": {
        "id": "XQIkWsJ5EgKK"
      }
    },
    {
      "cell_type": "code",
      "source": [
        "def coeff_determination(y_true, y_pred):\n",
        "    SS_res =  K.sum(K.square(y_true-y_pred))\n",
        "    SS_tot = K.sum(K.square(y_true - K.mean(y_true)))\n",
        "    return (1 - SS_res/(SS_tot + K.epsilon()))"
      ],
      "metadata": {
        "id": "p4ivqThKEftI"
      },
      "execution_count": 227,
      "outputs": []
    },
    {
      "cell_type": "markdown",
      "source": [
        "Hyperparameters"
      ],
      "metadata": {
        "id": "pjI97nIMZwRK"
      }
    },
    {
      "cell_type": "code",
      "source": [
        "learning_rate = 1e-3                # Learning rate\n",
        "epochs = 2 #4000                    # Number of training epochs, 4000\n",
        "batch_size = 15                     # Batch size \n",
        "train_split = 0.8                   # split %\n",
        "num_folds = 5\n",
        "optimizer = Adam(learning_rate)     # Optimizer\n",
        "metrics = [RootMeanSquaredError(), coeff_determination]  # metric\n",
        "validation_steps = 5                # Validation steps\n",
        "l2 = regularizers.L2(1e-2)\n",
        "loss = 'mse'                        # Loss function"
      ],
      "metadata": {
        "id": "z9_d_lqTDuQ_"
      },
      "execution_count": 228,
      "outputs": []
    },
    {
      "cell_type": "markdown",
      "source": [
        "GCN body: 6 layers, 100 nodes each, global pooling, no masking\n",
        "\n",
        "NN body: 2 layers, 300 nodes each, output layer"
      ],
      "metadata": {
        "id": "-gWGDAatgoxM"
      }
    },
    {
      "cell_type": "code",
      "source": [
        "#model\n",
        "class myGCN(Model):\n",
        "\n",
        "    def __init__(self):\n",
        "      super().__init__()\n",
        "      # GCN+LR\n",
        "      self.conv1 = GCNConv(100, activation=\"relu\", kernel_regularizer=l2)  # 6 convolutional layers\n",
        "      self.conv2 = GCNConv(100, activation=\"relu\", kernel_regularizer=l2)  # 100 nodes per\n",
        "      self.conv3 = GCNConv(100, activation=\"relu\", kernel_regularizer=l2)  # inputs are zero-padded\n",
        "      self.conv4 = GCNConv(100, activation=\"relu\", kernel_regularizer=l2)\n",
        "      self.conv5 = GCNConv(100, activation=\"relu\", kernel_regularizer=l2)\n",
        "      self.conv6 = GCNConv(100, activation=\"relu\", kernel_regularizer=l2)  \n",
        "      self.global_pool = GlobalSumPool()                                   # \"graph embedding\"\n",
        "      self.dense1 = Dense(data.n_labels, kernel_regularizer=l2)            # GCN lin. regression out\n",
        "      # GCN+NN\n",
        "      self.mlp1 = Dense(units=300, activation=\"relu\", kernel_regularizer=l2) # 2 hidden layers\n",
        "      self.mlp2 = Dense(units=300, activation=\"relu\", kernel_regularizer=l2) # 300 nodes per\n",
        "      self.dense2 = Dense(data.n_labels, kernel_regularizer=l2)              # output       \n",
        "\n",
        "    def call(self, inputs):\n",
        "      global embed, gcn_out, nn_out\n",
        "      x, a = inputs[0], inputs[1]\n",
        "      x = self.conv1([x, a])\n",
        "      x = self.conv2([x, a])\n",
        "      x = self.conv3([x, a])\n",
        "      x = self.conv4([x, a])\n",
        "      x = self.conv5([x, a])\n",
        "      x = self.conv6([x, a])\n",
        "      embed = x = self.global_pool(x)\n",
        "      gcn_out = self.dense1(x)\n",
        "      x = self.mlp1(x)\n",
        "      x = self.mlp2(x)\n",
        "      nn_out = self.dense2(x)\n",
        "\n",
        "      return gcn_out, nn_out # return loss and metric for GCN and NN layers\n",
        "\n",
        "model = myGCN()\n",
        "model.compile(optimizer=optimizer, metrics=metrics, loss=loss, run_eagerly=True)"
      ],
      "metadata": {
        "id": "8ZE87fbsvCM8"
      },
      "execution_count": 225,
      "outputs": []
    },
    {
      "cell_type": "markdown",
      "source": [
        "Load testing data as batch (zero-padded with masking) and evaluate the model"
      ],
      "metadata": {
        "id": "qJ-7OnMgizEx"
      }
    },
    {
      "cell_type": "markdown",
      "source": [
        "Load training data as batch (zero-padded with masking) and train the model"
      ],
      "metadata": {
        "id": "oUNZr_GsiSUR"
      }
    },
    {
      "cell_type": "code",
      "source": [
        "k = KFold(n_splits=num_folds, random_state=None, shuffle=True)\n",
        "loss = []\n",
        "\n",
        "i=0\n",
        "for train_index, test_index in k.split(data):\n",
        "  #print(\"TRAIN:\", train_index, \"TEST:\", test_index)\n",
        "  dataset_tr = data[train_index]\n",
        "  dataset_te = data[test_index]\n",
        "  \n",
        "  loader_tr = BatchLoader(dataset_tr, batch_size=batch_size, mask=True, shuffle=True)\n",
        "  loader_te = BatchLoader(dataset_te, batch_size=batch_size, mask=True)\n",
        "  \n",
        "  results = model.fit(loader_tr.load(), steps_per_epoch=loader_tr.steps_per_epoch, epochs=epochs)\n",
        "\n",
        "  # results = model.fit(\n",
        "  #                 loader_tr.load(),\n",
        "  #                 steps_per_epoch=loader_tr.steps_per_epoch,\n",
        "  #                 epochs=epochs,\n",
        "  #                 validation_data=loader_te.load(),\n",
        "  #                 validation_steps=5,\n",
        "  # )\n",
        "\n",
        "  print(\"Testing model\")\n",
        "  loss.append(model.evaluate(loader_te.load(), steps=loader_te.steps_per_epoch))\n",
        "\n",
        "  print(\"\\n\\nDone. Test loss: \\tMSE \\t\\t  GCN MSE \\t NN MSE \\t GCN RMSE \\t\\t NN RMSE \\n \\t\\t{}\".format(loss[i]))\n",
        "  print(\"\\n\")\n",
        "  i+=1"
      ],
      "metadata": {
        "id": "HW7N-re_bqU3",
        "colab": {
          "base_uri": "https://localhost:8080/"
        },
        "outputId": "93f11eff-dd89-4b90-a69a-2156f54cd2cc"
      },
      "execution_count": 238,
      "outputs": [
        {
          "output_type": "stream",
          "name": "stdout",
          "text": [
            "Epoch 1/2\n"
          ]
        },
        {
          "output_type": "stream",
          "name": "stderr",
          "text": [
            "/usr/local/lib/python3.7/dist-packages/spektral/data/utils.py:221: UserWarning: you are shuffling a 'MyDataset' object which is not a subclass of 'Sequence'; `shuffle` is not guaranteed to behave correctly. E.g., non-numpy array/tensor objects with view semantics may contain duplicates after shuffling.\n",
            "  np.random.shuffle(a)\n",
            "/usr/local/lib/python3.7/dist-packages/spektral/layers/convolutional/conv.py:94: UserWarning: The adjacency matrix of dtype <dtype: 'int32'> is incompatible with the dtype of the node features <dtype: 'float32'> and has been automatically cast to <dtype: 'float32'>.\n",
            "  f\"The adjacency matrix of dtype {a.dtype} is incompatible with the dtype \"\n"
          ]
        },
        {
          "output_type": "stream",
          "name": "stdout",
          "text": [
            "24/24 [==============================] - 3s 105ms/step - loss: 3342.1594 - output_1_loss: 1907.0822 - output_2_loss: 1427.6340 - output_1_root_mean_squared_error: 43.6702 - output_1_coeff_determination: 0.7158 - output_2_root_mean_squared_error: 37.7840 - output_2_coeff_determination: 0.7849\n",
            "Epoch 2/2\n",
            "24/24 [==============================] - 3s 123ms/step - loss: 3264.5095 - output_1_loss: 1741.0848 - output_2_loss: 1515.9608 - output_1_root_mean_squared_error: 41.7263 - output_1_coeff_determination: 0.7544 - output_2_root_mean_squared_error: 38.9353 - output_2_coeff_determination: 0.7814\n",
            "Testing model\n",
            "6/6 [==============================] - 1s 80ms/step - loss: 4963.3125 - output_1_loss: 2678.3779 - output_2_loss: 2277.4600 - output_1_root_mean_squared_error: 51.7530 - output_1_coeff_determination: 0.6965 - output_2_root_mean_squared_error: 47.7227 - output_2_coeff_determination: 0.7228\n",
            "\n",
            "\n",
            "Done. Test loss: \tMSE \t\t  GCN MSE \t NN MSE \t GCN RMSE \t\t NN RMSE \n",
            " \t\t[4963.3125, 2678.3779296875, 2277.4599609375, 51.75304412841797, 0.6964898109436035, 47.722740173339844, 0.722764790058136]\n",
            "\n",
            "\n",
            "Epoch 1/2\n",
            "24/24 [==============================] - 3s 116ms/step - loss: 3947.1785 - output_1_loss: 2156.3188 - output_2_loss: 1783.3711 - output_1_root_mean_squared_error: 46.4362 - output_1_coeff_determination: 0.7192 - output_2_root_mean_squared_error: 42.2300 - output_2_coeff_determination: 0.7720\n",
            "Epoch 2/2\n",
            "24/24 [==============================] - 3s 106ms/step - loss: 3881.9958 - output_1_loss: 2005.8190 - output_2_loss: 1868.6735 - output_1_root_mean_squared_error: 44.7864 - output_1_coeff_determination: 0.7331 - output_2_root_mean_squared_error: 43.2282 - output_2_coeff_determination: 0.7560\n",
            "Testing model\n",
            "6/6 [==============================] - 0s 56ms/step - loss: 2869.1340 - output_1_loss: 1653.7367 - output_2_loss: 1207.8801 - output_1_root_mean_squared_error: 40.6662 - output_1_coeff_determination: 0.7765 - output_2_root_mean_squared_error: 34.7546 - output_2_coeff_determination: 0.8235\n",
            "\n",
            "\n",
            "Done. Test loss: \tMSE \t\t  GCN MSE \t NN MSE \t GCN RMSE \t\t NN RMSE \n",
            " \t\t[2869.134033203125, 1653.7366943359375, 1207.880126953125, 40.666160583496094, 0.7764909863471985, 34.75457000732422, 0.8235288262367249]\n",
            "\n",
            "\n",
            "Epoch 1/2\n",
            "24/24 [==============================] - 2s 99ms/step - loss: 4389.0854 - output_1_loss: 2317.8416 - output_2_loss: 2063.7183 - output_1_root_mean_squared_error: 48.1440 - output_1_coeff_determination: 0.7089 - output_2_root_mean_squared_error: 45.4282 - output_2_coeff_determination: 0.7420\n",
            "Epoch 2/2\n",
            "24/24 [==============================] - 3s 115ms/step - loss: 3637.4084 - output_1_loss: 1970.8822 - output_2_loss: 1658.9655 - output_1_root_mean_squared_error: 44.3946 - output_1_coeff_determination: 0.7323 - output_2_root_mean_squared_error: 40.7304 - output_2_coeff_determination: 0.7632\n",
            "Testing model\n",
            "6/6 [==============================] - 1s 135ms/step - loss: 3683.8430 - output_1_loss: 1975.9628 - output_2_loss: 1700.3085 - output_1_root_mean_squared_error: 44.4518 - output_1_coeff_determination: 0.7513 - output_2_root_mean_squared_error: 41.2348 - output_2_coeff_determination: 0.7851\n",
            "\n",
            "\n",
            "Done. Test loss: \tMSE \t\t  GCN MSE \t NN MSE \t GCN RMSE \t\t NN RMSE \n",
            " \t\t[3683.843017578125, 1975.9627685546875, 1700.3084716796875, 44.45180130004883, 0.7513359189033508, 41.234798431396484, 0.7851284146308899]\n",
            "\n",
            "\n",
            "Epoch 1/2\n",
            "24/24 [==============================] - 4s 177ms/step - loss: 3689.4985 - output_1_loss: 2025.6633 - output_2_loss: 1656.2504 - output_1_root_mean_squared_error: 45.0074 - output_1_coeff_determination: 0.7444 - output_2_root_mean_squared_error: 40.6971 - output_2_coeff_determination: 0.7894\n",
            "Epoch 2/2\n",
            "24/24 [==============================] - 4s 156ms/step - loss: 3542.3679 - output_1_loss: 1851.2249 - output_2_loss: 1683.5349 - output_1_root_mean_squared_error: 43.0259 - output_1_coeff_determination: 0.7717 - output_2_root_mean_squared_error: 41.0309 - output_2_coeff_determination: 0.7935\n",
            "Testing model\n",
            "6/6 [==============================] - 0s 55ms/step - loss: 3795.4480 - output_1_loss: 2102.2896 - output_2_loss: 1685.5432 - output_1_root_mean_squared_error: 45.8507 - output_1_coeff_determination: 0.7353 - output_2_root_mean_squared_error: 41.0554 - output_2_coeff_determination: 0.7871\n",
            "\n",
            "\n",
            "Done. Test loss: \tMSE \t\t  GCN MSE \t NN MSE \t GCN RMSE \t\t NN RMSE \n",
            " \t\t[3795.447998046875, 2102.28955078125, 1685.543212890625, 45.850730895996094, 0.7353416085243225, 41.05536651611328, 0.7871299386024475]\n",
            "\n",
            "\n",
            "Epoch 1/2\n",
            "24/24 [==============================] - 4s 158ms/step - loss: 3622.1572 - output_1_loss: 1985.6403 - output_2_loss: 1628.8887 - output_1_root_mean_squared_error: 44.5605 - output_1_coeff_determination: 0.7583 - output_2_root_mean_squared_error: 40.3595 - output_2_coeff_determination: 0.8042\n",
            "Epoch 2/2\n",
            "24/24 [==============================] - 3s 137ms/step - loss: 3693.0945 - output_1_loss: 1969.1780 - output_2_loss: 1716.2589 - output_1_root_mean_squared_error: 44.3754 - output_1_coeff_determination: 0.7548 - output_2_root_mean_squared_error: 41.4278 - output_2_coeff_determination: 0.7896\n",
            "Testing model\n",
            "6/6 [==============================] - 1s 91ms/step - loss: 2855.8638 - output_1_loss: 1439.3849 - output_2_loss: 1408.8195 - output_1_root_mean_squared_error: 37.9392 - output_1_coeff_determination: 0.8034 - output_2_root_mean_squared_error: 37.5342 - output_2_coeff_determination: 0.8127\n",
            "\n",
            "\n",
            "Done. Test loss: \tMSE \t\t  GCN MSE \t NN MSE \t GCN RMSE \t\t NN RMSE \n",
            " \t\t[2855.86376953125, 1439.3848876953125, 1408.8194580078125, 37.93922805786133, 0.8033668398857117, 37.534244537353516, 0.8127431273460388]\n",
            "\n",
            "\n"
          ]
        }
      ]
    },
    {
      "cell_type": "code",
      "source": [
        "lossDF = pd.DataFrame(loss, columns = ['Tot. MSE','GCN MSE','NN MSE','GCN RMSE','GCN R^2','NN RMSE','NN R^2'])\n",
        "lossDF.loc['Mean'] = lossDF.mean()\n",
        "display(lossDF)"
      ],
      "metadata": {
        "colab": {
          "base_uri": "https://localhost:8080/",
          "height": 238
        },
        "id": "-S3pikv45Fpt",
        "outputId": "159c49ab-773f-481a-dc2f-c80dc0b53931"
      },
      "execution_count": 264,
      "outputs": [
        {
          "output_type": "display_data",
          "data": {
            "text/plain": [
              "         Tot. MSE      GCN MSE       NN MSE   GCN RMSE   GCN R^2    NN RMSE  \\\n",
              "0     4963.312500  2678.377930  2277.459961  51.753044  0.696490  47.722740   \n",
              "1     2869.134033  1653.736694  1207.880127  40.666161  0.776491  34.754570   \n",
              "2     3683.843018  1975.962769  1700.308472  44.451801  0.751336  41.234798   \n",
              "3     3795.447998  2102.289551  1685.543213  45.850731  0.735342  41.055367   \n",
              "4     2855.863770  1439.384888  1408.819458  37.939228  0.803367  37.534245   \n",
              "Mean  3633.520264  1969.950366  1656.002246  44.132193  0.752605  40.460344   \n",
              "\n",
              "        NN R^2  \n",
              "0     0.722765  \n",
              "1     0.823529  \n",
              "2     0.785128  \n",
              "3     0.787130  \n",
              "4     0.812743  \n",
              "Mean  0.786259  "
            ],
            "text/html": [
              "\n",
              "  <div id=\"df-a24fa55a-812c-44a7-876c-671f5bcc3e3e\">\n",
              "    <div class=\"colab-df-container\">\n",
              "      <div>\n",
              "<style scoped>\n",
              "    .dataframe tbody tr th:only-of-type {\n",
              "        vertical-align: middle;\n",
              "    }\n",
              "\n",
              "    .dataframe tbody tr th {\n",
              "        vertical-align: top;\n",
              "    }\n",
              "\n",
              "    .dataframe thead th {\n",
              "        text-align: right;\n",
              "    }\n",
              "</style>\n",
              "<table border=\"1\" class=\"dataframe\">\n",
              "  <thead>\n",
              "    <tr style=\"text-align: right;\">\n",
              "      <th></th>\n",
              "      <th>Tot. MSE</th>\n",
              "      <th>GCN MSE</th>\n",
              "      <th>NN MSE</th>\n",
              "      <th>GCN RMSE</th>\n",
              "      <th>GCN R^2</th>\n",
              "      <th>NN RMSE</th>\n",
              "      <th>NN R^2</th>\n",
              "    </tr>\n",
              "  </thead>\n",
              "  <tbody>\n",
              "    <tr>\n",
              "      <th>0</th>\n",
              "      <td>4963.312500</td>\n",
              "      <td>2678.377930</td>\n",
              "      <td>2277.459961</td>\n",
              "      <td>51.753044</td>\n",
              "      <td>0.696490</td>\n",
              "      <td>47.722740</td>\n",
              "      <td>0.722765</td>\n",
              "    </tr>\n",
              "    <tr>\n",
              "      <th>1</th>\n",
              "      <td>2869.134033</td>\n",
              "      <td>1653.736694</td>\n",
              "      <td>1207.880127</td>\n",
              "      <td>40.666161</td>\n",
              "      <td>0.776491</td>\n",
              "      <td>34.754570</td>\n",
              "      <td>0.823529</td>\n",
              "    </tr>\n",
              "    <tr>\n",
              "      <th>2</th>\n",
              "      <td>3683.843018</td>\n",
              "      <td>1975.962769</td>\n",
              "      <td>1700.308472</td>\n",
              "      <td>44.451801</td>\n",
              "      <td>0.751336</td>\n",
              "      <td>41.234798</td>\n",
              "      <td>0.785128</td>\n",
              "    </tr>\n",
              "    <tr>\n",
              "      <th>3</th>\n",
              "      <td>3795.447998</td>\n",
              "      <td>2102.289551</td>\n",
              "      <td>1685.543213</td>\n",
              "      <td>45.850731</td>\n",
              "      <td>0.735342</td>\n",
              "      <td>41.055367</td>\n",
              "      <td>0.787130</td>\n",
              "    </tr>\n",
              "    <tr>\n",
              "      <th>4</th>\n",
              "      <td>2855.863770</td>\n",
              "      <td>1439.384888</td>\n",
              "      <td>1408.819458</td>\n",
              "      <td>37.939228</td>\n",
              "      <td>0.803367</td>\n",
              "      <td>37.534245</td>\n",
              "      <td>0.812743</td>\n",
              "    </tr>\n",
              "    <tr>\n",
              "      <th>Mean</th>\n",
              "      <td>3633.520264</td>\n",
              "      <td>1969.950366</td>\n",
              "      <td>1656.002246</td>\n",
              "      <td>44.132193</td>\n",
              "      <td>0.752605</td>\n",
              "      <td>40.460344</td>\n",
              "      <td>0.786259</td>\n",
              "    </tr>\n",
              "  </tbody>\n",
              "</table>\n",
              "</div>\n",
              "      <button class=\"colab-df-convert\" onclick=\"convertToInteractive('df-a24fa55a-812c-44a7-876c-671f5bcc3e3e')\"\n",
              "              title=\"Convert this dataframe to an interactive table.\"\n",
              "              style=\"display:none;\">\n",
              "        \n",
              "  <svg xmlns=\"http://www.w3.org/2000/svg\" height=\"24px\"viewBox=\"0 0 24 24\"\n",
              "       width=\"24px\">\n",
              "    <path d=\"M0 0h24v24H0V0z\" fill=\"none\"/>\n",
              "    <path d=\"M18.56 5.44l.94 2.06.94-2.06 2.06-.94-2.06-.94-.94-2.06-.94 2.06-2.06.94zm-11 1L8.5 8.5l.94-2.06 2.06-.94-2.06-.94L8.5 2.5l-.94 2.06-2.06.94zm10 10l.94 2.06.94-2.06 2.06-.94-2.06-.94-.94-2.06-.94 2.06-2.06.94z\"/><path d=\"M17.41 7.96l-1.37-1.37c-.4-.4-.92-.59-1.43-.59-.52 0-1.04.2-1.43.59L10.3 9.45l-7.72 7.72c-.78.78-.78 2.05 0 2.83L4 21.41c.39.39.9.59 1.41.59.51 0 1.02-.2 1.41-.59l7.78-7.78 2.81-2.81c.8-.78.8-2.07 0-2.86zM5.41 20L4 18.59l7.72-7.72 1.47 1.35L5.41 20z\"/>\n",
              "  </svg>\n",
              "      </button>\n",
              "      \n",
              "  <style>\n",
              "    .colab-df-container {\n",
              "      display:flex;\n",
              "      flex-wrap:wrap;\n",
              "      gap: 12px;\n",
              "    }\n",
              "\n",
              "    .colab-df-convert {\n",
              "      background-color: #E8F0FE;\n",
              "      border: none;\n",
              "      border-radius: 50%;\n",
              "      cursor: pointer;\n",
              "      display: none;\n",
              "      fill: #1967D2;\n",
              "      height: 32px;\n",
              "      padding: 0 0 0 0;\n",
              "      width: 32px;\n",
              "    }\n",
              "\n",
              "    .colab-df-convert:hover {\n",
              "      background-color: #E2EBFA;\n",
              "      box-shadow: 0px 1px 2px rgba(60, 64, 67, 0.3), 0px 1px 3px 1px rgba(60, 64, 67, 0.15);\n",
              "      fill: #174EA6;\n",
              "    }\n",
              "\n",
              "    [theme=dark] .colab-df-convert {\n",
              "      background-color: #3B4455;\n",
              "      fill: #D2E3FC;\n",
              "    }\n",
              "\n",
              "    [theme=dark] .colab-df-convert:hover {\n",
              "      background-color: #434B5C;\n",
              "      box-shadow: 0px 1px 3px 1px rgba(0, 0, 0, 0.15);\n",
              "      filter: drop-shadow(0px 1px 2px rgba(0, 0, 0, 0.3));\n",
              "      fill: #FFFFFF;\n",
              "    }\n",
              "  </style>\n",
              "\n",
              "      <script>\n",
              "        const buttonEl =\n",
              "          document.querySelector('#df-a24fa55a-812c-44a7-876c-671f5bcc3e3e button.colab-df-convert');\n",
              "        buttonEl.style.display =\n",
              "          google.colab.kernel.accessAllowed ? 'block' : 'none';\n",
              "\n",
              "        async function convertToInteractive(key) {\n",
              "          const element = document.querySelector('#df-a24fa55a-812c-44a7-876c-671f5bcc3e3e');\n",
              "          const dataTable =\n",
              "            await google.colab.kernel.invokeFunction('convertToInteractive',\n",
              "                                                     [key], {});\n",
              "          if (!dataTable) return;\n",
              "\n",
              "          const docLinkHtml = 'Like what you see? Visit the ' +\n",
              "            '<a target=\"_blank\" href=https://colab.research.google.com/notebooks/data_table.ipynb>data table notebook</a>'\n",
              "            + ' to learn more about interactive tables.';\n",
              "          element.innerHTML = '';\n",
              "          dataTable['output_type'] = 'display_data';\n",
              "          await google.colab.output.renderOutput(dataTable, element);\n",
              "          const docLink = document.createElement('div');\n",
              "          docLink.innerHTML = docLinkHtml;\n",
              "          element.appendChild(docLink);\n",
              "        }\n",
              "      </script>\n",
              "    </div>\n",
              "  </div>\n",
              "  "
            ]
          },
          "metadata": {}
        }
      ]
    },
    {
      "cell_type": "markdown",
      "source": [
        "# Visualization (future work)"
      ],
      "metadata": {
        "id": "PwgqP7Gxv2HS"
      }
    },
    {
      "cell_type": "code",
      "source": [
        "fig, ax = plt.subplots()\n",
        "plt.plot(results.history['output_1_root_mean_squared_error'], label=\"GCN\")\n",
        "plt.plot(results.history['output_2_root_mean_squared_error'], label=\"GCN-NN\")\n",
        "plt.title(\"Loss: GCN vs GCN-NN\")\n",
        "plt.xlabel(\"Epoch\")\n",
        "plt.ylabel(\"RMSE\")\n",
        "ax.legend()\n",
        "plt.show()"
      ],
      "metadata": {
        "colab": {
          "base_uri": "https://localhost:8080/",
          "height": 295
        },
        "id": "ME-ODKthUvHV",
        "outputId": "9f02bbce-7dca-4671-b2d9-5b2579e36340"
      },
      "execution_count": 233,
      "outputs": [
        {
          "output_type": "display_data",
          "data": {
            "text/plain": [
              "<Figure size 432x288 with 1 Axes>"
            ],
            "image/png": "[encoded data removed]"
          },
          "metadata": {
            "needs_background": "light"
          }
        }
      ]
    },
    {
      "cell_type": "code",
      "source": [
        "from sklearn.decomposition import PCA\n",
        "from matplotlib.colors import Normalize\n",
        "\n",
        "# Create a 2D PCA projection of the embeddings\n",
        "GCNrepresentation = embed.numpy()\n",
        "pca = PCA(n_components=2)\n",
        "pca.fit(GCNrepresentation)\n",
        "pca_gcn = pca.transform(GCNrepresentation)\n",
        "print(pca.explained_variance_ratio_)\n",
        "\n",
        "# Plot those points as a scatter plot \n",
        "fig, ax = plt.subplots(figsize=(8,8))\n",
        "num_categories = data.n_labels\n",
        "plt.title(\"PCA from Pooled Graph Embedding\")\n",
        "plt.xlabel(\"PC1\")\n",
        "plt.ylabel(\"PC2\")\n",
        "ax.legend()\n",
        "ax.scatter(pca_gcn[:,0],pca_gcn[:,1]) # c=np.array(cmap(lab)).reshape(1,4)\n",
        "plt.show()"
      ],
      "metadata": {
        "id": "cwdKu9wWet_G",
        "colab": {
          "base_uri": "https://localhost:8080/",
          "height": 549
        },
        "outputId": "ffc2b216-1875-4f11-e39a-6f9c0ecc83f0"
      },
      "execution_count": 234,
      "outputs": [
        {
          "output_type": "stream",
          "name": "stderr",
          "text": [
            "WARNING:matplotlib.legend:No handles with labels found to put in legend.\n"
          ]
        },
        {
          "output_type": "stream",
          "name": "stdout",
          "text": [
            "[0.6071281  0.31629074]\n"
          ]
        },
        {
          "output_type": "display_data",
          "data": {
            "text/plain": [
              "<Figure size 576x576 with 1 Axes>"
            ],
            "image/png": "[encoded data removed]"
          },
          "metadata": {
            "needs_background": "light"
          }
        }
      ]
    }
  ]
}