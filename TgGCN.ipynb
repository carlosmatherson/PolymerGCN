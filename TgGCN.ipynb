{
  "nbformat": 4,
  "nbformat_minor": 0,
  "metadata": {
    "colab": {
      "name": "TgGCN.ipynb",
      "provenance": [],
      "collapsed_sections": [
        "CEUFzE4j8WEq",
        "Dd3rtzqR-hTy"
      ],
      "mount_file_id": "1AERyupaWbPJ2fOAJMSBR6w2ZAqXQozn3",
      "authorship_tag": "ABX9TyMgqzOZzKF7JcjJovgujP1N",
      "include_colab_link": true
    },
    "kernelspec": {
      "name": "python3",
      "display_name": "Python 3"
    },
    "language_info": {
      "name": "python"
    }
  },
  "cells": [
    {
      "cell_type": "markdown",
      "metadata": {
        "id": "view-in-github",
        "colab_type": "text"
      },
      "source": [
        "<a href=\"https://colab.research.google.com/github/carlosmatherson/PolymerGCN/blob/main/TgGCN.ipynb\" target=\"_parent\"><img src=\"https://colab.research.google.com/assets/colab-badge.svg\" alt=\"Open In Colab\"/></a>"
      ]
    },
    {
      "cell_type": "markdown",
      "source": [
        "# Setup\n"
      ],
      "metadata": {
        "id": "CEUFzE4j8WEq"
      }
    },
    {
      "cell_type": "markdown",
      "source": [
        "Install Spektral and RDKit."
      ],
      "metadata": {
        "id": "CSYHeRogUOQK"
      }
    },
    {
      "cell_type": "code",
      "source": [
        "!pip install spektral\n",
        "!pip install rdkit"
      ],
      "metadata": {
        "id": "mKWD-j7lBFaU"
      },
      "execution_count": null,
      "outputs": []
    },
    {
      "cell_type": "markdown",
      "source": [
        "Import necessary packages and functions."
      ],
      "metadata": {
        "id": "8CbOumsVUTNT"
      }
    },
    {
      "cell_type": "code",
      "source": [
        "# general tools\n",
        "import numpy as np\n",
        "import pandas as pd\n",
        "\n",
        "# RDkit\n",
        "from rdkit import Chem\n",
        "from rdkit.Chem.rdmolops import GetAdjacencyMatrix\n",
        "\n",
        "# Spektral\n",
        "from spektral.utils.sparse import reorder\n",
        "from spektral.data.graph import Graph\n",
        "from spektral.data import Dataset, BatchLoader\n",
        "from spektral.layers import GCNConv, GlobalSumPool\n",
        "\n",
        "# TensorFlow & Keras\n",
        "from tensorflow.keras.layers import Dense\n",
        "from tensorflow.keras.models import Model\n",
        "from tensorflow.keras.optimizers import Adam\n",
        "from tensorflow.keras.metrics import RootMeanSquaredError\n",
        "\n",
        "# Matplotlib\n",
        "import matplotlib.pyplot as plt"
      ],
      "metadata": {
        "id": "MXbBM1BTqoyB"
      },
      "execution_count": 37,
      "outputs": []
    },
    {
      "cell_type": "markdown",
      "source": [
        "# Featurization"
      ],
      "metadata": {
        "id": "34HBVTh68jHR"
      }
    },
    {
      "cell_type": "markdown",
      "source": [
        "Onehot Encoding: Maps input elements x which are not in the permitted list to the last element of the permitted list."
      ],
      "metadata": {
        "id": "xFd7WAE59HM4"
      }
    },
    {
      "cell_type": "code",
      "source": [
        "# Onehot Encoding\n",
        "def one_hot_encoding(x, permitted_list):\n",
        "\n",
        "    if x not in permitted_list:\n",
        "        x = permitted_list[-1]\n",
        "\n",
        "    binary_encoding = [int(boolean_value) for boolean_value in list(map(lambda s: x == s, permitted_list))]\n",
        "\n",
        "    return binary_encoding"
      ],
      "metadata": {
        "id": "2wkSe_gZ8DVD"
      },
      "execution_count": 38,
      "outputs": []
    },
    {
      "cell_type": "markdown",
      "source": [
        "Atom Featurization: Takes an RDKit atom object as input and gives a 1d-numpy array of atom features as output."
      ],
      "metadata": {
        "id": "EaWZf3teyKBP"
      }
    },
    {
      "cell_type": "code",
      "source": [
        "# Atom Featurization\n",
        "def get_atom_features(atom):\n",
        "\n",
        "    # define list of permitted atoms\n",
        "    permitted_list_of_atoms = ['Br', 'C', 'Cl', 'F', 'Li', 'N', 'O', 'P', 'S', 'Si', '*']\n",
        "    \n",
        "    # compute atom features\n",
        "    atom_type_enc = one_hot_encoding(str(atom.GetSymbol()), permitted_list_of_atoms)\n",
        "    n_hydrogens_enc = one_hot_encoding(int(atom.GetTotalNumHs()), [0, 1, 2, 3, 4, \"MoreThanFour\"])\n",
        "    implicit_valence_enc = one_hot_encoding(str(atom.GetImplicitValence()), [0, 1, 2, 3, 4, \"MoreThanFour\"])\n",
        "    degree_enc = one_hot_encoding(int(atom.GetDegree()), [0, 1, 2, 3, 4, \"MoreThanFour\"])\n",
        "    aromaticity_enc = [int(atom.GetIsAromatic())]\n",
        "\n",
        "    atom_feature_vector = atom_type_enc + n_hydrogens_enc + implicit_valence_enc + degree_enc + aromaticity_enc\n",
        "\n",
        "    return np.array(atom_feature_vector)"
      ],
      "metadata": {
        "id": "pw3eExGF8vK4"
      },
      "execution_count": 39,
      "outputs": []
    },
    {
      "cell_type": "markdown",
      "source": [
        "Bond Featurization: Takes an RDKit bond object as input and gives a 1d-numpy array of bond features as output."
      ],
      "metadata": {
        "id": "MImwLle79JdI"
      }
    },
    {
      "cell_type": "code",
      "source": [
        "# Bond Featurisation\n",
        "def get_bond_features(bond, use_stereochemistry = True):\n",
        "\n",
        "    permitted_list_of_bond_types = [Chem.rdchem.BondType.SINGLE, Chem.rdchem.BondType.DOUBLE, Chem.rdchem.BondType.TRIPLE, Chem.rdchem.BondType.AROMATIC]\n",
        "    bond_type_enc = one_hot_encoding(bond.GetBondType(), permitted_list_of_bond_types)\n",
        "    bond_is_conj_enc = [int(bond.GetIsConjugated())]\n",
        "    bond_is_in_ring_enc = [int(bond.IsInRing())]\n",
        "    bond_feature_vector = bond_type_enc + bond_is_conj_enc + bond_is_in_ring_enc\n",
        "    \n",
        "    if use_stereochemistry == True:\n",
        "        stereo_type_enc = one_hot_encoding(str(bond.GetStereo()), [\"STEREOZ\", \"STEREOE\", \"STEREOANY\", \"STEREONONE\"])\n",
        "        bond_feature_vector += stereo_type_enc\n",
        "\n",
        "    return np.array(bond_feature_vector)"
      ],
      "metadata": {
        "id": "orE6-80h9ZA9"
      },
      "execution_count": 40,
      "outputs": []
    },
    {
      "cell_type": "markdown",
      "source": [
        "Dablander, Markus. How to Turn a SMILES String into a Molecular Graph for Pytorch Geometric | Oxford Protein Informatics Group. https://www.blopig.com/blog/2022/02/how-to-turn-a-smiles-string-into-a-molecular-graph-for-pytorch-geometric/. Accessed 11 July 2022.\n"
      ],
      "metadata": {
        "id": "1WtI5xIG_L_f"
      }
    },
    {
      "cell_type": "markdown",
      "source": [
        "# Create Dataset"
      ],
      "metadata": {
        "id": "Dd3rtzqR-hTy"
      }
    },
    {
      "cell_type": "markdown",
      "source": [
        "Subclass the Dataset class to standardize how graph datasets are represented in Spektral. Here, you can choose the endpoint to work with."
      ],
      "metadata": {
        "id": "qadRGli7V02I"
      }
    },
    {
      "cell_type": "code",
      "source": [
        "class MyDataset(Dataset):\n",
        "  def read(self):\n",
        "    global polydata\n",
        "    polydata = pd.read_csv(\"https://raw.githubusercontent.com/carlosmatherson/PolymerGCN/main/SMILESwithAllProps.csv\") #\"Tg\"\n",
        "    #polydata = pd.read_csv(\"https://raw.githubusercontent.com/liugangcode/GREA/main/data/tg_prop/raw/tg_raw.csv\") # \"tg\"\n",
        "    graph_list = makeGraphObjList(polydata[\"SMILES\"], polydata[\"Tg\"]) \n",
        "    return graph_list"
      ],
      "metadata": {
        "id": "zMcD28857JwV"
      },
      "execution_count": 41,
      "outputs": []
    },
    {
      "cell_type": "markdown",
      "source": [
        "Define `makeGraphObjList` to create Spektral graph dataset from smiles and labels. The function takes a list of SMILES strings `x_smiles = [smiles_1, smiles_2, ....]` and a list of numerial labels for the SMILES strings `y = [y_1, y_2, ...]` as inputs. The output is a list of spektral.data.graph.Graph objects that can readily be used for machine learning, `graph_list = [G_1, G_2, ...]`. \n",
        "\n",
        "\n",
        "\n",
        "\n"
      ],
      "metadata": {
        "id": "hMFxmFiCy0jI"
      }
    },
    {
      "cell_type": "code",
      "source": [
        "def makeGraphObjList(x_smiles, y):\n",
        "    \n",
        "    graph_list = []\n",
        "\n",
        "    for (smiles, y_val) in zip(x_smiles, y):\n",
        "        \n",
        "        # convert SMILES to RDKit mol object\n",
        "        mol = Chem.MolFromSmiles(smiles)\n",
        "        \n",
        "        # get feature dimensions\n",
        "        n_nodes = mol.GetNumAtoms()\n",
        "        n_edges = 2*mol.GetNumBonds()\n",
        "        unrelated_smiles = \"O=O\"\n",
        "        unrelated_mol = Chem.MolFromSmiles(unrelated_smiles)\n",
        "        n_node_features = len(get_atom_features(unrelated_mol.GetAtomWithIdx(0)))\n",
        "        n_edge_features = len(get_bond_features(unrelated_mol.GetBondBetweenAtoms(0,1)))\n",
        "\n",
        "        # construct adjacency matrix (n_nodes, n_nodes), full matrix\n",
        "        A = np.array(GetAdjacencyMatrix(mol)) # full matrix\n",
        "\n",
        "        # construct edge index array Ei of shape (n_edges, 2), sparse matrix\n",
        "        Ei = np.transpose(np.nonzero(A)) # vertical format\n",
        "        (rows, cols) = np.transpose(Ei)\n",
        "\n",
        "        # construct node feature matrix Xn of shape (n_nodes, n_node_features)\n",
        "        X = np.zeros((n_nodes, n_node_features))\n",
        "        for atom in mol.GetAtoms():\n",
        "            X[atom.GetIdx(), :] = get_atom_features(atom)\n",
        "        \n",
        "        # construct edge feature array Ef of shape (n_edges, n_edge_features)\n",
        "        E = np.zeros((n_edges, n_edge_features))\n",
        "        # for (k, (i,j)) in enumerate(zip(rows, cols)):\n",
        "        #     E[k] = get_bond_features(mol.GetBondBetweenAtoms(int(i),int(j)))\n",
        "        # reorder(Ei, E)\n",
        "        \n",
        "        # construct label tensor\n",
        "        Y = np.array([y_val])\n",
        "\n",
        "        # construct Spektral graph object and append to dataset (list)\n",
        "        graph_list.append(Graph(x=X, a=A, e=E, y=Y))\n",
        "        \n",
        "    return graph_list "
      ],
      "metadata": {
        "id": "mUflMN2i-p7Y"
      },
      "execution_count": 42,
      "outputs": []
    },
    {
      "cell_type": "markdown",
      "source": [
        "# Graph Convolutional Network"
      ],
      "metadata": {
        "id": "LIQBZjmdZnay"
      }
    },
    {
      "cell_type": "markdown",
      "source": [
        "Load data."
      ],
      "metadata": {
        "id": "lrbucS1G879u"
      }
    },
    {
      "cell_type": "code",
      "source": [
        "data = MyDataset()  # store data in data\n",
        "#gradient = polydata[\"Tg\"]"
      ],
      "metadata": {
        "id": "49_LrRJM87ps"
      },
      "execution_count": 60,
      "outputs": []
    },
    {
      "cell_type": "markdown",
      "source": [
        "Hyperparameters"
      ],
      "metadata": {
        "id": "pjI97nIMZwRK"
      }
    },
    {
      "cell_type": "code",
      "source": [
        "learning_rate = 1e-3                # Learning rate\n",
        "epochs = 4 #4000                    # Number of training epochs, 4000\n",
        "batch_size = 15                     # Batch size \n",
        "train_split = 0.8                   # split %\n",
        "num_folds = 5\n",
        "optimizer = Adam(learning_rate)     # Optimizer\n",
        "metrics = [RootMeanSquaredError()]  # metric\n",
        "validation_steps = 5                # Validation steps\n",
        "loss = 'mse'                        # Loss function"
      ],
      "metadata": {
        "id": "z9_d_lqTDuQ_"
      },
      "execution_count": 61,
      "outputs": []
    },
    {
      "cell_type": "markdown",
      "source": [
        "Split the dataset created above."
      ],
      "metadata": {
        "id": "Be4iVLCbdD3N"
      }
    },
    {
      "cell_type": "code",
      "source": [
        "lendata = int(len(data))\n",
        "idxs = np.random.permutation(lendata)             # shuffle dataset\n",
        "split = int(train_split * lendata)                # choose train split %\n",
        "idx_tr, idx_te = np.split(idxs, [split])            # sort tr/te indices \n",
        "dataset_tr, dataset_te = data[idx_tr], data[idx_te] # store train / test data"
      ],
      "metadata": {
        "id": "HW7N-re_bqU3"
      },
      "execution_count": 62,
      "outputs": []
    },
    {
      "cell_type": "markdown",
      "source": [
        "GCN body: 6 layers, 100 nodes each, global pooling, no masking\n",
        "\n",
        "NN body: 2 layers, 300 nodes each, output layer"
      ],
      "metadata": {
        "id": "-gWGDAatgoxM"
      }
    },
    {
      "cell_type": "code",
      "source": [
        "#model\n",
        "class myGCN(Model):\n",
        "\n",
        "    def __init__(self):\n",
        "      super().__init__()\n",
        "      # GCN+LR\n",
        "      self.conv1 = GCNConv(100, activation=\"relu\")  # 6 convolutional layers\n",
        "      self.conv2 = GCNConv(100, activation=\"relu\")  # 100 nodes per\n",
        "      self.conv3 = GCNConv(100, activation=\"relu\")  # inputs are zero-padded\n",
        "      self.conv4 = GCNConv(100, activation=\"relu\")\n",
        "      self.conv5 = GCNConv(100, activation=\"relu\")\n",
        "      self.conv6 = GCNConv(100, activation=\"relu\")  \n",
        "      self.global_pool = GlobalSumPool()            # \"graph embedding\"\n",
        "      self.dense1 = Dense(data.n_labels)            # GCN lin. regression out\n",
        "      # GCN+NN\n",
        "      self.mlp1 = Dense(units=300, activation=\"relu\") # 2 hidden layers\n",
        "      self.mlp2 = Dense(units=300, activation=\"relu\") # 300 nodes per\n",
        "      self.dense2 = Dense(data.n_labels)              # output       \n",
        "\n",
        "    def call(self, inputs):\n",
        "      global embed, gcn_out, nn_out\n",
        "      x, a = inputs[0], inputs[1]\n",
        "      x = self.conv1([x, a])\n",
        "      x = self.conv2([x, a])\n",
        "      x = self.conv3([x, a])\n",
        "      x = self.conv4([x, a])\n",
        "      x = self.conv5([x, a])\n",
        "      x = self.conv6([x, a])\n",
        "      embed = x = self.global_pool(x)\n",
        "      gcn_out = self.dense1(x)\n",
        "      x = self.mlp1(x)\n",
        "      x = self.mlp2(x)\n",
        "      nn_out = self.dense2(x)\n",
        "\n",
        "      return gcn_out, nn_out # return loss and metric for GCN and NN layers\n",
        "        \n",
        "model = myGCN()"
      ],
      "metadata": {
        "id": "8ZE87fbsvCM8"
      },
      "execution_count": 45,
      "outputs": []
    },
    {
      "cell_type": "markdown",
      "source": [
        "Compile model & choose loss"
      ],
      "metadata": {
        "id": "sYF2p9Bpg9dA"
      }
    },
    {
      "cell_type": "code",
      "source": [
        "model.compile(optimizer=optimizer, metrics=metrics, loss=loss, run_eagerly=True)"
      ],
      "metadata": {
        "id": "HRGFnIRVg6wM"
      },
      "execution_count": 47,
      "outputs": []
    },
    {
      "cell_type": "markdown",
      "source": [
        "Load training data as batch (zero-padded with masking) and train the model"
      ],
      "metadata": {
        "id": "oUNZr_GsiSUR"
      }
    },
    {
      "cell_type": "code",
      "source": [
        "loader_tr = BatchLoader(dataset_tr, batch_size=batch_size, mask=True, shuffle=True, node_level=False)\n",
        "loader_te = BatchLoader(dataset_te, batch_size=batch_size, mask=True)\n",
        "#results = model.fit(loader_tr.load(), steps_per_epoch=loader_tr.steps_per_epoch, epochs=epochs)\n",
        "\n",
        "results = model.fit(\n",
        "                loader_tr.load(),\n",
        "                steps_per_epoch=loader_tr.steps_per_epoch,\n",
        "                epochs=epochs,\n",
        "                validation_data=loader_te.load(),\n",
        "                validation_steps=5,\n",
        ")"
      ],
      "metadata": {
        "id": "K0Il2bvz6CCd",
        "colab": {
          "base_uri": "https://localhost:8080/"
        },
        "outputId": "47b77db6-bd55-494c-851d-f82ac2082d4e"
      },
      "execution_count": 55,
      "outputs": [
        {
          "output_type": "stream",
          "name": "stdout",
          "text": [
            "Epoch 1/4\n",
            " 1/24 [>.............................] - ETA: 2s - loss: 8902.2910 - output_1_loss: 4528.3862 - output_2_loss: 4373.9043 - output_1_root_mean_squared_error: 67.2933 - output_2_root_mean_squared_error: 66.1355"
          ]
        },
        {
          "output_type": "stream",
          "name": "stderr",
          "text": [
            "/usr/local/lib/python3.7/dist-packages/spektral/data/utils.py:221: UserWarning: you are shuffling a 'MyDataset' object which is not a subclass of 'Sequence'; `shuffle` is not guaranteed to behave correctly. E.g., non-numpy array/tensor objects with view semantics may contain duplicates after shuffling.\n",
            "  np.random.shuffle(a)\n",
            "/usr/local/lib/python3.7/dist-packages/spektral/layers/convolutional/conv.py:94: UserWarning: The adjacency matrix of dtype <dtype: 'int32'> is incompatible with the dtype of the node features <dtype: 'float32'> and has been automatically cast to <dtype: 'float32'>.\n",
            "  f\"The adjacency matrix of dtype {a.dtype} is incompatible with the dtype \"\n"
          ]
        },
        {
          "output_type": "stream",
          "name": "stdout",
          "text": [
            "24/24 [==============================] - 3s 121ms/step - loss: 8793.9141 - output_1_loss: 4273.0220 - output_2_loss: 4520.8926 - output_1_root_mean_squared_error: 65.3684 - output_2_root_mean_squared_error: 67.2376 - val_loss: 7895.5601 - val_output_1_loss: 3818.0125 - val_output_2_loss: 4077.5479 - val_output_1_root_mean_squared_error: 61.7901 - val_output_2_root_mean_squared_error: 63.8557\n",
            "Epoch 2/4\n",
            "24/24 [==============================] - 2s 82ms/step - loss: 8009.1255 - output_1_loss: 3966.1921 - output_2_loss: 4042.9326 - output_1_root_mean_squared_error: 62.9777 - output_2_root_mean_squared_error: 63.5841 - val_loss: 5443.5894 - val_output_1_loss: 2736.0161 - val_output_2_loss: 2707.5737 - val_output_1_root_mean_squared_error: 52.3069 - val_output_2_root_mean_squared_error: 52.0344\n",
            "Epoch 3/4\n",
            "24/24 [==============================] - 2s 84ms/step - loss: 7501.9067 - output_1_loss: 3698.4473 - output_2_loss: 3803.4600 - output_1_root_mean_squared_error: 60.8149 - output_2_root_mean_squared_error: 61.6722 - val_loss: 10094.7305 - val_output_1_loss: 4827.4229 - val_output_2_loss: 5267.3081 - val_output_1_root_mean_squared_error: 69.4797 - val_output_2_root_mean_squared_error: 72.5762\n",
            "Epoch 4/4\n",
            "24/24 [==============================] - 2s 76ms/step - loss: 7645.6685 - output_1_loss: 3716.0745 - output_2_loss: 3929.5952 - output_1_root_mean_squared_error: 60.9596 - output_2_root_mean_squared_error: 62.6865 - val_loss: 7811.6665 - val_output_1_loss: 3856.1863 - val_output_2_loss: 3955.4807 - val_output_1_root_mean_squared_error: 62.0982 - val_output_2_root_mean_squared_error: 62.8926\n"
          ]
        }
      ]
    },
    {
      "cell_type": "markdown",
      "source": [
        "Load testing data as batch (zero-padded with masking) and evaluate the model"
      ],
      "metadata": {
        "id": "qJ-7OnMgizEx"
      }
    },
    {
      "cell_type": "code",
      "source": [
        "print(\"Testing model\")\n",
        "loss = model.evaluate(loader_te.load(), steps=loader_te.steps_per_epoch)\n",
        "print(\"Done. Test loss: \\tMSE \\t\\t  GCN MSE \\t NN MSE \\t GCN RMSE \\t\\t NN RMSE \\n \\t\\t{}\".format(loss))"
      ],
      "metadata": {
        "id": "sDcsm5LK67WG",
        "colab": {
          "base_uri": "https://localhost:8080/"
        },
        "outputId": "935d2b80-5e81-4c50-cf24-f67e74c3233c"
      },
      "execution_count": 57,
      "outputs": [
        {
          "output_type": "stream",
          "name": "stdout",
          "text": [
            "Testing model\n",
            "2/6 [=========>....................] - ETA: 0s - loss: 5843.1392 - output_1_loss: 2839.2922 - output_2_loss: 3003.8469 - output_1_root_mean_squared_error: 53.2850 - output_2_root_mean_squared_error: 54.8074"
          ]
        },
        {
          "output_type": "stream",
          "name": "stderr",
          "text": [
            "/usr/local/lib/python3.7/dist-packages/spektral/data/utils.py:221: UserWarning: you are shuffling a 'MyDataset' object which is not a subclass of 'Sequence'; `shuffle` is not guaranteed to behave correctly. E.g., non-numpy array/tensor objects with view semantics may contain duplicates after shuffling.\n",
            "  np.random.shuffle(a)\n",
            "/usr/local/lib/python3.7/dist-packages/spektral/layers/convolutional/conv.py:94: UserWarning: The adjacency matrix of dtype <dtype: 'int32'> is incompatible with the dtype of the node features <dtype: 'float32'> and has been automatically cast to <dtype: 'float32'>.\n",
            "  f\"The adjacency matrix of dtype {a.dtype} is incompatible with the dtype \"\n"
          ]
        },
        {
          "output_type": "stream",
          "name": "stdout",
          "text": [
            "6/6 [==============================] - 0s 61ms/step - loss: 7516.2598 - output_1_loss: 3713.7588 - output_2_loss: 3802.5015 - output_1_root_mean_squared_error: 60.9406 - output_2_root_mean_squared_error: 61.6644\n",
            "Done. Test loss: \tMSE \t\t  GCN MSE \t NN MSE \t GCN RMSE \t\t NN RMSE \n",
            " \t\t[7516.259765625, 3713.7587890625, 3802.50146484375, 60.940616607666016, 61.664424896240234]\n"
          ]
        }
      ]
    },
    {
      "cell_type": "markdown",
      "source": [
        "# Visualization (future work)"
      ],
      "metadata": {
        "id": "PwgqP7Gxv2HS"
      }
    },
    {
      "cell_type": "code",
      "source": [
        "fig, ax = plt.subplots()\n",
        "plt.plot(results.history['output_1_root_mean_squared_error'], label=\"GCN\")\n",
        "plt.plot(results.history['output_2_root_mean_squared_error'], label=\"GCN-NN\")\n",
        "plt.title(\"Loss: GCN vs GCN-NN\")\n",
        "plt.xlabel(\"Epoch\")\n",
        "plt.ylabel(\"RMSE\")\n",
        "ax.legend()\n",
        "plt.show()"
      ],
      "metadata": {
        "colab": {
          "base_uri": "https://localhost:8080/",
          "height": 295
        },
        "id": "ME-ODKthUvHV",
        "outputId": "ba75334a-91b2-486d-9d4d-44accfe64214"
      },
      "execution_count": 58,
      "outputs": [
        {
          "output_type": "display_data",
          "data": {
            "text/plain": [
              "<Figure size 432x288 with 1 Axes>"
            ],
            "image/png": "[encoded data removed]"
          },
          "metadata": {
            "needs_background": "light"
          }
        }
      ]
    },
    {
      "cell_type": "code",
      "source": [
        "from sklearn.decomposition import PCA\n",
        "from matplotlib.colors import Normalize\n",
        "\n",
        "# Create a 2D PCA projection of the embeddings\n",
        "GCNrepresentation = embed.numpy()\n",
        "pca = PCA(n_components=2)\n",
        "pca.fit(GCNrepresentation)\n",
        "pca_gcn = pca.transform(GCNrepresentation)\n",
        "print(pca.explained_variance_ratio_)\n",
        "\n",
        "# Plot those points as a scatter plot \n",
        "fig, ax = plt.subplots(figsize=(8,8))\n",
        "num_categories = data.n_labels\n",
        "plt.title(\"PCA from Pooled Graph Embedding\")\n",
        "plt.xlabel(\"PC1\")\n",
        "plt.ylabel(\"PC2\")\n",
        "ax.legend()\n",
        "ax.scatter(pca_gcn[:,0],pca_gcn[:,1]) # c=np.array(cmap(lab)).reshape(1,4)\n",
        "plt.show()"
      ],
      "metadata": {
        "id": "cwdKu9wWet_G",
        "colab": {
          "base_uri": "https://localhost:8080/",
          "height": 549
        },
        "outputId": "69ef0181-9cb6-4c0f-d4b3-8ac9da40686d"
      },
      "execution_count": 59,
      "outputs": [
        {
          "output_type": "stream",
          "name": "stderr",
          "text": [
            "WARNING:matplotlib.legend:No handles with labels found to put in legend.\n"
          ]
        },
        {
          "output_type": "stream",
          "name": "stdout",
          "text": [
            "[0.8635728  0.10057721]\n"
          ]
        },
        {
          "output_type": "display_data",
          "data": {
            "text/plain": [
              "<Figure size 576x576 with 1 Axes>"
            ],
            "image/png": "[encoded data removed]"
          },
          "metadata": {
            "needs_background": "light"
          }
        }
      ]
    }
  ]
}