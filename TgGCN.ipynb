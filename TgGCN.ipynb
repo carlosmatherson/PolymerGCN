{
  "nbformat": 4,
  "nbformat_minor": 0,
  "metadata": {
    "colab": {
      "name": "TgGCN.ipynb",
      "provenance": [],
      "collapsed_sections": [
        "CEUFzE4j8WEq",
        "34HBVTh68jHR",
        "Dd3rtzqR-hTy"
      ],
      "mount_file_id": "1AERyupaWbPJ2fOAJMSBR6w2ZAqXQozn3",
      "authorship_tag": "ABX9TyM6Qg1fZyedJrW4FrfeSn/l",
      "include_colab_link": true
    },
    "kernelspec": {
      "name": "python3",
      "display_name": "Python 3"
    },
    "language_info": {
      "name": "python"
    }
  },
  "cells": [
    {
      "cell_type": "markdown",
      "metadata": {
        "id": "view-in-github",
        "colab_type": "text"
      },
      "source": [
        "<a href=\"https://colab.research.google.com/github/carlosmatherson/PolymerGCN/blob/main/TgGCN.ipynb\" target=\"_parent\"><img src=\"https://colab.research.google.com/assets/colab-badge.svg\" alt=\"Open In Colab\"/></a>"
      ]
    },
    {
      "cell_type": "markdown",
      "source": [
        "# Setup\n"
      ],
      "metadata": {
        "id": "CEUFzE4j8WEq"
      }
    },
    {
      "cell_type": "markdown",
      "source": [
        "Install Spektral and RDKit."
      ],
      "metadata": {
        "id": "CSYHeRogUOQK"
      }
    },
    {
      "cell_type": "code",
      "source": [
        "!pip install spektral\n",
        "!pip install rdkit"
      ],
      "metadata": {
        "id": "mKWD-j7lBFaU"
      },
      "execution_count": null,
      "outputs": []
    },
    {
      "cell_type": "markdown",
      "source": [
        "Import necessary packages and functions."
      ],
      "metadata": {
        "id": "8CbOumsVUTNT"
      }
    },
    {
      "cell_type": "code",
      "source": [
        "# general tools\n",
        "import numpy as np\n",
        "import pandas as pd\n",
        "\n",
        "# RDkit\n",
        "from rdkit import Chem\n",
        "from rdkit.Chem.rdmolops import GetAdjacencyMatrix\n",
        "\n",
        "# Spektral\n",
        "from spektral.utils.sparse import reorder\n",
        "from spektral.data.graph import Graph\n",
        "from spektral.data import Dataset, BatchLoader\n",
        "from spektral.layers import GCNConv, GlobalSumPool\n",
        "\n",
        "# SciKit-Learn\n",
        "from sklearn.model_selection import KFold\n",
        "\n",
        "# TensorFlow & Keras\n",
        "from tensorflow.keras.layers import Dense\n",
        "from tensorflow.keras.models import Model\n",
        "from tensorflow.keras.optimizers import Adam\n",
        "from tensorflow.keras.metrics import RootMeanSquaredError\n",
        "\n",
        "# Matplotlib\n",
        "import matplotlib.pyplot as plt"
      ],
      "metadata": {
        "id": "MXbBM1BTqoyB"
      },
      "execution_count": 92,
      "outputs": []
    },
    {
      "cell_type": "markdown",
      "source": [
        "# Featurization"
      ],
      "metadata": {
        "id": "34HBVTh68jHR"
      }
    },
    {
      "cell_type": "markdown",
      "source": [
        "Onehot Encoding: Maps input elements x which are not in the permitted list to the last element of the permitted list."
      ],
      "metadata": {
        "id": "xFd7WAE59HM4"
      }
    },
    {
      "cell_type": "code",
      "source": [
        "# Onehot Encoding\n",
        "def one_hot_encoding(x, permitted_list):\n",
        "\n",
        "    if x not in permitted_list:\n",
        "        x = permitted_list[-1]\n",
        "\n",
        "    binary_encoding = [int(boolean_value) for boolean_value in list(map(lambda s: x == s, permitted_list))]\n",
        "\n",
        "    return binary_encoding"
      ],
      "metadata": {
        "id": "2wkSe_gZ8DVD"
      },
      "execution_count": 100,
      "outputs": []
    },
    {
      "cell_type": "markdown",
      "source": [
        "Atom Featurization: Takes an RDKit atom object as input and gives a 1d-numpy array of atom features as output."
      ],
      "metadata": {
        "id": "EaWZf3teyKBP"
      }
    },
    {
      "cell_type": "code",
      "source": [
        "# Atom Featurization\n",
        "def get_atom_features(atom):\n",
        "\n",
        "    # define list of permitted atoms\n",
        "    permitted_list_of_atoms = ['Br', 'C', 'Cl', 'F', 'Li', 'N', 'O', 'P', 'S', 'Si', '*']\n",
        "    \n",
        "    # compute atom features\n",
        "    atom_type_enc = one_hot_encoding(str(atom.GetSymbol()), permitted_list_of_atoms)\n",
        "    n_hydrogens_enc = one_hot_encoding(int(atom.GetTotalNumHs()), [0, 1, 2, 3, 4, \"MoreThanFour\"])\n",
        "    implicit_valence_enc = one_hot_encoding(str(atom.GetImplicitValence()), [0, 1, 2, 3, 4, \"MoreThanFour\"])\n",
        "    degree_enc = one_hot_encoding(int(atom.GetDegree()), [0, 1, 2, 3, 4, \"MoreThanFour\"])\n",
        "    aromaticity_enc = [int(atom.GetIsAromatic())]\n",
        "\n",
        "    atom_feature_vector = atom_type_enc + n_hydrogens_enc + implicit_valence_enc + degree_enc + aromaticity_enc\n",
        "\n",
        "    return np.array(atom_feature_vector)"
      ],
      "metadata": {
        "id": "pw3eExGF8vK4"
      },
      "execution_count": 101,
      "outputs": []
    },
    {
      "cell_type": "markdown",
      "source": [
        "Bond Featurization: Takes an RDKit bond object as input and gives a 1d-numpy array of bond features as output."
      ],
      "metadata": {
        "id": "MImwLle79JdI"
      }
    },
    {
      "cell_type": "code",
      "source": [
        "# Bond Featurisation\n",
        "def get_bond_features(bond, use_stereochemistry = True):\n",
        "\n",
        "    permitted_list_of_bond_types = [Chem.rdchem.BondType.SINGLE, Chem.rdchem.BondType.DOUBLE, Chem.rdchem.BondType.TRIPLE, Chem.rdchem.BondType.AROMATIC]\n",
        "    bond_type_enc = one_hot_encoding(bond.GetBondType(), permitted_list_of_bond_types)\n",
        "    bond_is_conj_enc = [int(bond.GetIsConjugated())]\n",
        "    bond_is_in_ring_enc = [int(bond.IsInRing())]\n",
        "    bond_feature_vector = bond_type_enc + bond_is_conj_enc + bond_is_in_ring_enc\n",
        "    \n",
        "    if use_stereochemistry == True:\n",
        "        stereo_type_enc = one_hot_encoding(str(bond.GetStereo()), [\"STEREOZ\", \"STEREOE\", \"STEREOANY\", \"STEREONONE\"])\n",
        "        bond_feature_vector += stereo_type_enc\n",
        "\n",
        "    return np.array(bond_feature_vector)"
      ],
      "metadata": {
        "id": "orE6-80h9ZA9"
      },
      "execution_count": 102,
      "outputs": []
    },
    {
      "cell_type": "markdown",
      "source": [
        "Dablander, Markus. How to Turn a SMILES String into a Molecular Graph for Pytorch Geometric | Oxford Protein Informatics Group. https://www.blopig.com/blog/2022/02/how-to-turn-a-smiles-string-into-a-molecular-graph-for-pytorch-geometric/. Accessed 11 July 2022.\n"
      ],
      "metadata": {
        "id": "1WtI5xIG_L_f"
      }
    },
    {
      "cell_type": "markdown",
      "source": [
        "# Create Dataset"
      ],
      "metadata": {
        "id": "Dd3rtzqR-hTy"
      }
    },
    {
      "cell_type": "markdown",
      "source": [
        "Subclass the Dataset class to standardize how graph datasets are represented in Spektral. Here, you can choose the endpoint to work with."
      ],
      "metadata": {
        "id": "qadRGli7V02I"
      }
    },
    {
      "cell_type": "code",
      "source": [
        "class MyDataset(Dataset):\n",
        "  def read(self):\n",
        "    global polydata\n",
        "    polydata = pd.read_csv(\"https://raw.githubusercontent.com/carlosmatherson/PolymerGCN/main/SMILESwithAllProps.csv\") #\"Tg\"\n",
        "    #polydata = pd.read_csv(\"https://raw.githubusercontent.com/liugangcode/GREA/main/data/tg_prop/raw/tg_raw.csv\") # \"tg\"\n",
        "    graph_list = makeGraphObjList(polydata[\"SMILES\"], polydata[\"Tg\"]) \n",
        "    return graph_list"
      ],
      "metadata": {
        "id": "zMcD28857JwV"
      },
      "execution_count": 103,
      "outputs": []
    },
    {
      "cell_type": "markdown",
      "source": [
        "Define `makeGraphObjList` to create Spektral graph dataset from smiles and labels. The function takes a list of SMILES strings `x_smiles = [smiles_1, smiles_2, ....]` and a list of numerial labels for the SMILES strings `y = [y_1, y_2, ...]` as inputs. The output is a list of spektral.data.graph.Graph objects that can readily be used for machine learning, `graph_list = [G_1, G_2, ...]`. \n",
        "\n",
        "\n",
        "\n",
        "\n"
      ],
      "metadata": {
        "id": "hMFxmFiCy0jI"
      }
    },
    {
      "cell_type": "code",
      "source": [
        "def makeGraphObjList(x_smiles, y):\n",
        "    \n",
        "    graph_list = []\n",
        "\n",
        "    for (smiles, y_val) in zip(x_smiles, y):\n",
        "        \n",
        "        # convert SMILES to RDKit mol object\n",
        "        mol = Chem.MolFromSmiles(smiles)\n",
        "        \n",
        "        # get feature dimensions\n",
        "        n_nodes = mol.GetNumAtoms()\n",
        "        n_edges = 2*mol.GetNumBonds()\n",
        "        unrelated_smiles = \"O=O\"\n",
        "        unrelated_mol = Chem.MolFromSmiles(unrelated_smiles)\n",
        "        n_node_features = len(get_atom_features(unrelated_mol.GetAtomWithIdx(0)))\n",
        "        n_edge_features = len(get_bond_features(unrelated_mol.GetBondBetweenAtoms(0,1)))\n",
        "\n",
        "        # construct adjacency matrix (n_nodes, n_nodes), full matrix\n",
        "        A = np.array(GetAdjacencyMatrix(mol)) # full matrix\n",
        "\n",
        "        # construct edge index array Ei of shape (n_edges, 2), sparse matrix\n",
        "        Ei = np.transpose(np.nonzero(A)) # vertical format\n",
        "        (rows, cols) = np.transpose(Ei)\n",
        "\n",
        "        # construct node feature matrix Xn of shape (n_nodes, n_node_features)\n",
        "        X = np.zeros((n_nodes, n_node_features))\n",
        "        for atom in mol.GetAtoms():\n",
        "            X[atom.GetIdx(), :] = get_atom_features(atom)\n",
        "        \n",
        "        # construct edge feature array Ef of shape (n_edges, n_edge_features)\n",
        "        E = np.zeros((n_edges, n_edge_features))\n",
        "        # for (k, (i,j)) in enumerate(zip(rows, cols)):\n",
        "        #     E[k] = get_bond_features(mol.GetBondBetweenAtoms(int(i),int(j)))\n",
        "        # reorder(Ei, E)\n",
        "        \n",
        "        # construct label tensor\n",
        "        Y = np.array([y_val])\n",
        "\n",
        "        # construct Spektral graph object and append to dataset (list)\n",
        "        graph_list.append(Graph(x=X, a=A, e=E, y=Y))\n",
        "        \n",
        "    return graph_list "
      ],
      "metadata": {
        "id": "mUflMN2i-p7Y"
      },
      "execution_count": 104,
      "outputs": []
    },
    {
      "cell_type": "markdown",
      "source": [
        "# Graph Convolutional Network"
      ],
      "metadata": {
        "id": "LIQBZjmdZnay"
      }
    },
    {
      "cell_type": "markdown",
      "source": [
        "Hyperparameters"
      ],
      "metadata": {
        "id": "pjI97nIMZwRK"
      }
    },
    {
      "cell_type": "code",
      "source": [
        "learning_rate = 1e-3                # Learning rate\n",
        "epochs = 2 #4000                    # Number of training epochs, 4000\n",
        "batch_size = 15                     # Batch size \n",
        "train_split = 0.8                   # split %\n",
        "num_folds = 5\n",
        "optimizer = Adam(learning_rate)     # Optimizer\n",
        "metrics = [RootMeanSquaredError()]  # metric\n",
        "validation_steps = 5                # Validation steps\n",
        "loss = 'mse'                        # Loss function"
      ],
      "metadata": {
        "id": "z9_d_lqTDuQ_"
      },
      "execution_count": 105,
      "outputs": []
    },
    {
      "cell_type": "markdown",
      "source": [
        "GCN body: 6 layers, 100 nodes each, global pooling, no masking\n",
        "\n",
        "NN body: 2 layers, 300 nodes each, output layer"
      ],
      "metadata": {
        "id": "-gWGDAatgoxM"
      }
    },
    {
      "cell_type": "code",
      "source": [
        "#model\n",
        "class myGCN(Model):\n",
        "\n",
        "    def __init__(self):\n",
        "      super().__init__()\n",
        "      # GCN+LR\n",
        "      self.conv1 = GCNConv(100, activation=\"relu\")  # 6 convolutional layers\n",
        "      self.conv2 = GCNConv(100, activation=\"relu\")  # 100 nodes per\n",
        "      self.conv3 = GCNConv(100, activation=\"relu\")  # inputs are zero-padded\n",
        "      self.conv4 = GCNConv(100, activation=\"relu\")\n",
        "      self.conv5 = GCNConv(100, activation=\"relu\")\n",
        "      self.conv6 = GCNConv(100, activation=\"relu\")  \n",
        "      self.global_pool = GlobalSumPool()            # \"graph embedding\"\n",
        "      self.dense1 = Dense(data.n_labels)            # GCN lin. regression out\n",
        "      # GCN+NN\n",
        "      self.mlp1 = Dense(units=300, activation=\"relu\") # 2 hidden layers\n",
        "      self.mlp2 = Dense(units=300, activation=\"relu\") # 300 nodes per\n",
        "      self.dense2 = Dense(data.n_labels)              # output       \n",
        "\n",
        "    def call(self, inputs):\n",
        "      global embed, gcn_out, nn_out\n",
        "      x, a = inputs[0], inputs[1]\n",
        "      x = self.conv1([x, a])\n",
        "      x = self.conv2([x, a])\n",
        "      x = self.conv3([x, a])\n",
        "      x = self.conv4([x, a])\n",
        "      x = self.conv5([x, a])\n",
        "      x = self.conv6([x, a])\n",
        "      embed = x = self.global_pool(x)\n",
        "      gcn_out = self.dense1(x)\n",
        "      x = self.mlp1(x)\n",
        "      x = self.mlp2(x)\n",
        "      nn_out = self.dense2(x)\n",
        "\n",
        "      return gcn_out, nn_out # return loss and metric for GCN and NN layers\n",
        "        \n",
        "model = myGCN()"
      ],
      "metadata": {
        "id": "8ZE87fbsvCM8"
      },
      "execution_count": 89,
      "outputs": []
    },
    {
      "cell_type": "markdown",
      "source": [
        "Compile model & choose loss"
      ],
      "metadata": {
        "id": "sYF2p9Bpg9dA"
      }
    },
    {
      "cell_type": "code",
      "source": [
        "model.compile(optimizer=optimizer, metrics=metrics, loss=loss, run_eagerly=True)"
      ],
      "metadata": {
        "id": "HRGFnIRVg6wM"
      },
      "execution_count": 106,
      "outputs": []
    },
    {
      "cell_type": "markdown",
      "source": [
        "Load data."
      ],
      "metadata": {
        "id": "lrbucS1G879u"
      }
    },
    {
      "cell_type": "code",
      "source": [
        "data = MyDataset()  # store data in data\n",
        "#gradient = polydata[\"Tg\"]"
      ],
      "metadata": {
        "id": "49_LrRJM87ps"
      },
      "execution_count": 107,
      "outputs": []
    },
    {
      "cell_type": "markdown",
      "source": [
        "Split the dataset created above."
      ],
      "metadata": {
        "id": "Be4iVLCbdD3N"
      }
    },
    {
      "cell_type": "markdown",
      "source": [
        "Load training data as batch (zero-padded with masking) and train the model"
      ],
      "metadata": {
        "id": "oUNZr_GsiSUR"
      }
    },
    {
      "cell_type": "code",
      "source": [
        "# lendata = int(len(data))\n",
        "# idxs = np.random.permutation(lendata)             # shuffle dataset\n",
        "# split = int(train_split * lendata)                # choose train split %\n",
        "# idx_tr, idx_te = np.split(idxs, [split])            # sort tr/te indices \n",
        "# dataset_tr, dataset_te = data[idx_tr], data[idx_te] # store train / test data\n",
        "\n",
        "k = KFold(n_splits=5, random_state=None, shuffle=True)\n",
        "\n",
        "for train_index, test_index in k.split(data):\n",
        "  #print(\"TRAIN:\", train_index, \"TEST:\", test_index)\n",
        "  dataset_tr = data[train_index]\n",
        "  dataset_te = data[test_index]\n",
        "  \n",
        "  loader_tr = BatchLoader(dataset_tr, batch_size=batch_size, mask=True, shuffle=True)\n",
        "  loader_te = BatchLoader(dataset_te, batch_size=batch_size, mask=True)\n",
        "  \n",
        "  results = model.fit(loader_tr.load(), steps_per_epoch=loader_tr.steps_per_epoch, epochs=epochs)\n",
        "\n",
        "  # results = model.fit(\n",
        "  #                 loader_tr.load(),\n",
        "  #                 steps_per_epoch=loader_tr.steps_per_epoch,\n",
        "  #                 epochs=epochs,\n",
        "  #                 validation_data=loader_te.load(),\n",
        "  #                 validation_steps=5,\n",
        "  # )\n",
        "\n",
        "  print(\"Testing model\")\n",
        "  loss = model.evaluate(loader_te.load(), steps=loader_te.steps_per_epoch)\n",
        "  print(\"Done. Test loss: \\tMSE \\t\\t  GCN MSE \\t NN MSE \\t GCN RMSE \\t\\t NN RMSE \\n \\t\\t{}\".format(loss))"
      ],
      "metadata": {
        "id": "HW7N-re_bqU3",
        "colab": {
          "base_uri": "https://localhost:8080/"
        },
        "outputId": "95267868-c414-4493-fef4-8338a217c672"
      },
      "execution_count": 115,
      "outputs": [
        {
          "output_type": "stream",
          "name": "stdout",
          "text": [
            "Epoch 1/2\n",
            " 1/24 [>.............................] - ETA: 1s - loss: 13185.3096 - output_1_loss: 5376.1724 - output_2_loss: 7809.1372 - output_1_root_mean_squared_error: 73.3224 - output_2_root_mean_squared_error: 88.3693"
          ]
        },
        {
          "output_type": "stream",
          "name": "stderr",
          "text": [
            "/usr/local/lib/python3.7/dist-packages/spektral/data/utils.py:221: UserWarning: you are shuffling a 'MyDataset' object which is not a subclass of 'Sequence'; `shuffle` is not guaranteed to behave correctly. E.g., non-numpy array/tensor objects with view semantics may contain duplicates after shuffling.\n",
            "  np.random.shuffle(a)\n",
            "/usr/local/lib/python3.7/dist-packages/spektral/layers/convolutional/conv.py:94: UserWarning: The adjacency matrix of dtype <dtype: 'int32'> is incompatible with the dtype of the node features <dtype: 'float32'> and has been automatically cast to <dtype: 'float32'>.\n",
            "  f\"The adjacency matrix of dtype {a.dtype} is incompatible with the dtype \"\n"
          ]
        },
        {
          "output_type": "stream",
          "name": "stdout",
          "text": [
            "24/24 [==============================] - 2s 83ms/step - loss: 5176.3042 - output_1_loss: 2633.1299 - output_2_loss: 2543.1748 - output_1_root_mean_squared_error: 51.3140 - output_2_root_mean_squared_error: 50.4299\n",
            "Epoch 2/2\n",
            "24/24 [==============================] - 2s 72ms/step - loss: 4466.8857 - output_1_loss: 2300.3845 - output_2_loss: 2166.5010 - output_1_root_mean_squared_error: 47.9623 - output_2_root_mean_squared_error: 46.5457\n",
            "Testing model\n",
            "6/6 [==============================] - 0s 40ms/step - loss: 5574.8784 - output_1_loss: 2863.9534 - output_2_loss: 2710.9248 - output_1_root_mean_squared_error: 53.5159 - output_2_root_mean_squared_error: 52.0665\n",
            "Done. Test loss: \tMSE \t\t  GCN MSE \t NN MSE \t GCN RMSE \t\t NN RMSE \n",
            " \t\t[5574.87841796875, 2863.953369140625, 2710.9248046875, 53.51591873168945, 52.06654357910156]\n",
            "Epoch 1/2\n",
            "24/24 [==============================] - 2s 74ms/step - loss: 5254.8403 - output_1_loss: 2721.0303 - output_2_loss: 2533.8096 - output_1_root_mean_squared_error: 52.1635 - output_2_root_mean_squared_error: 50.3370\n",
            "Epoch 2/2\n",
            "24/24 [==============================] - 2s 73ms/step - loss: 4374.3633 - output_1_loss: 2399.5200 - output_2_loss: 1974.8430 - output_1_root_mean_squared_error: 48.9849 - output_2_root_mean_squared_error: 44.4392\n",
            "Testing model\n",
            "6/6 [==============================] - 0s 38ms/step - loss: 3107.3835 - output_1_loss: 1637.7244 - output_2_loss: 1469.6589 - output_1_root_mean_squared_error: 40.4688 - output_2_root_mean_squared_error: 38.3361\n",
            "Done. Test loss: \tMSE \t\t  GCN MSE \t NN MSE \t GCN RMSE \t\t NN RMSE \n",
            " \t\t[3107.383544921875, 1637.724365234375, 1469.658935546875, 40.468807220458984, 38.33613204956055]\n",
            "Epoch 1/2\n",
            "24/24 [==============================] - 2s 71ms/step - loss: 4130.5786 - output_1_loss: 2204.1733 - output_2_loss: 1926.4050 - output_1_root_mean_squared_error: 46.9486 - output_2_root_mean_squared_error: 43.8908\n",
            "Epoch 2/2\n",
            "24/24 [==============================] - 2s 71ms/step - loss: 3946.0432 - output_1_loss: 2108.8196 - output_2_loss: 1837.2245 - output_1_root_mean_squared_error: 45.9219 - output_2_root_mean_squared_error: 42.8629\n",
            "Testing model\n",
            "6/6 [==============================] - 0s 40ms/step - loss: 3424.0840 - output_1_loss: 1836.8290 - output_2_loss: 1587.2549 - output_1_root_mean_squared_error: 42.8582 - output_2_root_mean_squared_error: 39.8404\n",
            "Done. Test loss: \tMSE \t\t  GCN MSE \t NN MSE \t GCN RMSE \t\t NN RMSE \n",
            " \t\t[3424.083984375, 1836.8289794921875, 1587.2548828125, 42.85824203491211, 39.84036636352539]\n",
            "Epoch 1/2\n",
            "24/24 [==============================] - 2s 73ms/step - loss: 3478.7578 - output_1_loss: 1898.6008 - output_2_loss: 1580.1570 - output_1_root_mean_squared_error: 43.5729 - output_2_root_mean_squared_error: 39.7512\n",
            "Epoch 2/2\n",
            "24/24 [==============================] - 2s 72ms/step - loss: 3514.7654 - output_1_loss: 1919.9250 - output_2_loss: 1594.8405 - output_1_root_mean_squared_error: 43.8169 - output_2_root_mean_squared_error: 39.9355\n",
            "Testing model\n",
            "6/6 [==============================] - 0s 40ms/step - loss: 3560.0808 - output_1_loss: 1917.3141 - output_2_loss: 1642.7671 - output_1_root_mean_squared_error: 43.7871 - output_2_root_mean_squared_error: 40.5311\n",
            "Done. Test loss: \tMSE \t\t  GCN MSE \t NN MSE \t GCN RMSE \t\t NN RMSE \n",
            " \t\t[3560.080810546875, 1917.3140869140625, 1642.76708984375, 43.78714370727539, 40.531063079833984]\n",
            "Epoch 1/2\n",
            "24/24 [==============================] - 2s 74ms/step - loss: 3922.7739 - output_1_loss: 1990.9698 - output_2_loss: 1931.8044 - output_1_root_mean_squared_error: 44.6203 - output_2_root_mean_squared_error: 43.9523\n",
            "Epoch 2/2\n",
            "24/24 [==============================] - 2s 72ms/step - loss: 3397.0503 - output_1_loss: 1882.5358 - output_2_loss: 1514.5145 - output_1_root_mean_squared_error: 43.3882 - output_2_root_mean_squared_error: 38.9168\n",
            "Testing model\n",
            "6/6 [==============================] - 0s 41ms/step - loss: 4496.4692 - output_1_loss: 2324.0964 - output_2_loss: 2172.3728 - output_1_root_mean_squared_error: 48.2089 - output_2_root_mean_squared_error: 46.6087\n",
            "Done. Test loss: \tMSE \t\t  GCN MSE \t NN MSE \t GCN RMSE \t\t NN RMSE \n",
            " \t\t[4496.46923828125, 2324.096435546875, 2172.372802734375, 48.208885192871094, 46.60871887207031]\n"
          ]
        }
      ]
    },
    {
      "cell_type": "markdown",
      "source": [
        "Load testing data as batch (zero-padded with masking) and evaluate the model"
      ],
      "metadata": {
        "id": "qJ-7OnMgizEx"
      }
    },
    {
      "cell_type": "markdown",
      "source": [
        "# Visualization (future work)"
      ],
      "metadata": {
        "id": "PwgqP7Gxv2HS"
      }
    },
    {
      "cell_type": "code",
      "source": [
        "fig, ax = plt.subplots()\n",
        "plt.plot(results.history['output_1_root_mean_squared_error'], label=\"GCN\")\n",
        "plt.plot(results.history['output_2_root_mean_squared_error'], label=\"GCN-NN\")\n",
        "plt.title(\"Loss: GCN vs GCN-NN\")\n",
        "plt.xlabel(\"Epoch\")\n",
        "plt.ylabel(\"RMSE\")\n",
        "ax.legend()\n",
        "plt.show()"
      ],
      "metadata": {
        "colab": {
          "base_uri": "https://localhost:8080/",
          "height": 295
        },
        "id": "ME-ODKthUvHV",
        "outputId": "92ad1b3c-994f-4677-ce11-389d8f777e0b"
      },
      "execution_count": 113,
      "outputs": [
        {
          "output_type": "display_data",
          "data": {
            "text/plain": [
              "<Figure size 432x288 with 1 Axes>"
            ],
            "image/png": "[encoded data removed]"
          },
          "metadata": {
            "needs_background": "light"
          }
        }
      ]
    },
    {
      "cell_type": "code",
      "source": [
        "from sklearn.decomposition import PCA\n",
        "from matplotlib.colors import Normalize\n",
        "\n",
        "# Create a 2D PCA projection of the embeddings\n",
        "GCNrepresentation = embed.numpy()\n",
        "pca = PCA(n_components=2)\n",
        "pca.fit(GCNrepresentation)\n",
        "pca_gcn = pca.transform(GCNrepresentation)\n",
        "print(pca.explained_variance_ratio_)\n",
        "\n",
        "# Plot those points as a scatter plot \n",
        "fig, ax = plt.subplots(figsize=(8,8))\n",
        "num_categories = data.n_labels\n",
        "plt.title(\"PCA from Pooled Graph Embedding\")\n",
        "plt.xlabel(\"PC1\")\n",
        "plt.ylabel(\"PC2\")\n",
        "ax.legend()\n",
        "ax.scatter(pca_gcn[:,0],pca_gcn[:,1]) # c=np.array(cmap(lab)).reshape(1,4)\n",
        "plt.show()"
      ],
      "metadata": {
        "id": "cwdKu9wWet_G",
        "colab": {
          "base_uri": "https://localhost:8080/",
          "height": 549
        },
        "outputId": "d7e86d04-037d-4ba7-d93d-72310e431545"
      },
      "execution_count": 114,
      "outputs": [
        {
          "output_type": "stream",
          "name": "stderr",
          "text": [
            "WARNING:matplotlib.legend:No handles with labels found to put in legend.\n"
          ]
        },
        {
          "output_type": "stream",
          "name": "stdout",
          "text": [
            "[0.8115538  0.09094153]\n"
          ]
        },
        {
          "output_type": "display_data",
          "data": {
            "text/plain": [
              "<Figure size 576x576 with 1 Axes>"
            ],
            "image/png": "[encoded data removed]"
          },
          "metadata": {
            "needs_background": "light"
          }
        }
      ]
    }
  ]
}