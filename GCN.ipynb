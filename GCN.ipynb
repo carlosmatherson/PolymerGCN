{
  "nbformat": 4,
  "nbformat_minor": 0,
  "metadata": {
    "colab": {
      "name": "GCN.ipynb",
      "provenance": [],
      "collapsed_sections": [
        "34HBVTh68jHR",
        "Dd3rtzqR-hTy"
      ],
      "toc_visible": true,
      "mount_file_id": "1AERyupaWbPJ2fOAJMSBR6w2ZAqXQozn3",
      "authorship_tag": "ABX9TyOqeNYm0A8JbL3h1z++HsXL",
      "include_colab_link": true
    },
    "kernelspec": {
      "name": "python3",
      "display_name": "Python 3"
    },
    "language_info": {
      "name": "python"
    }
  },
  "cells": [
    {
      "cell_type": "markdown",
      "metadata": {
        "id": "view-in-github",
        "colab_type": "text"
      },
      "source": [
        "<a href=\"https://colab.research.google.com/github/carlosmatherson/SULI-Project/blob/main/GCN.ipynb\" target=\"_parent\"><img src=\"https://colab.research.google.com/assets/colab-badge.svg\" alt=\"Open In Colab\"/></a>"
      ]
    },
    {
      "cell_type": "markdown",
      "source": [
        "# Import Packages\n"
      ],
      "metadata": {
        "id": "CEUFzE4j8WEq"
      }
    },
    {
      "cell_type": "code",
      "source": [
        "#!pip install spektral\n",
        "#!pip install rdkit"
      ],
      "metadata": {
        "id": "mKWD-j7lBFaU"
      },
      "execution_count": null,
      "outputs": []
    },
    {
      "cell_type": "code",
      "source": [
        "# general tools\n",
        "import numpy as np\n",
        "import pandas as pd\n",
        "\n",
        "# Spektral\n",
        "import spektral as sp\n",
        "from spektral.data.graph import Graph\n",
        "from spektral.data import Dataset\n",
        "from spektral.data import BatchLoader\n",
        "from spektral.data import SingleLoader\n",
        "from spektral.data import MixedLoader\n",
        "from spektral.data import DisjointLoader\n",
        "from spektral.data import Loader\n",
        "from spektral.data import PackedBatchLoader\n",
        "from spektral.models import GeneralGNN\n",
        "from spektral.models import GCN\n",
        "from spektral.layers import GCNConv, ECCConv, GlobalSumPool, GraphMasking\n",
        "\n",
        "# RDkit\n",
        "from rdkit import Chem\n",
        "from rdkit.Chem.rdmolops import GetAdjacencyMatrix\n",
        "\n",
        "# TensorFlow & Keras\n",
        "import tensorflow as tf\n",
        "\n",
        "from keras.layers import Dense\n",
        "from keras.models import Model\n",
        "from tensorflow.keras.optimizers import Adam\n",
        "from tensorflow.keras.losses import CategoricalCrossentropy\n",
        "from tensorflow.keras.callbacks import EarlyStopping\n",
        "from tensorflow.keras.metrics import RootMeanSquaredError"
      ],
      "metadata": {
        "id": "MXbBM1BTqoyB"
      },
      "execution_count": null,
      "outputs": []
    },
    {
      "cell_type": "markdown",
      "source": [
        "# Featurization Functions"
      ],
      "metadata": {
        "id": "34HBVTh68jHR"
      }
    },
    {
      "cell_type": "markdown",
      "source": [
        "Onehot Encoding: Maps input elements x which are not in the permitted list to the last element of the permitted list."
      ],
      "metadata": {
        "id": "xFd7WAE59HM4"
      }
    },
    {
      "cell_type": "code",
      "source": [
        "# Onehot Encoding\n",
        "def one_hot_encoding(x, permitted_list):\n",
        "\n",
        "    if x not in permitted_list:\n",
        "        x = permitted_list[-1]\n",
        "\n",
        "    binary_encoding = [int(boolean_value) for boolean_value in list(map(lambda s: x == s, permitted_list))]\n",
        "\n",
        "    return binary_encoding"
      ],
      "metadata": {
        "id": "2wkSe_gZ8DVD"
      },
      "execution_count": null,
      "outputs": []
    },
    {
      "cell_type": "markdown",
      "source": [
        "Atom Featurization: Takes an RDKit atom object as input and gives a 1d-numpy array of atom features as output."
      ],
      "metadata": {
        "id": "EaWZf3teyKBP"
      }
    },
    {
      "cell_type": "code",
      "source": [
        "# Atom Featurization\n",
        "def get_atom_features(atom, \n",
        "                      use_chirality = True, \n",
        "                      hydrogens_implicit = True):\n",
        "\n",
        "    # define list of permitted atoms\n",
        "    \n",
        "    permitted_list_of_atoms =  ['C','N','O','S','F','Si','P','Cl','Br','Mg','Na','Ca','Fe','As','Al','I', 'B','V','K','Tl','Yb','Sb','Sn','Ag','Pd','Co','Se','Ti','Zn', 'Li','Ge','Cu','Au','Ni','Cd','In','Mn','Zr','Cr','Pt','Hg','Pb','Unknown']\n",
        "    \n",
        "    if hydrogens_implicit == False:\n",
        "        permitted_list_of_atoms = ['H'] + permitted_list_of_atoms\n",
        "    \n",
        "    # compute atom features\n",
        "    \n",
        "    atom_type_enc = one_hot_encoding(str(atom.GetSymbol()), permitted_list_of_atoms)\n",
        "    \n",
        "    n_heavy_neighbors_enc = one_hot_encoding(int(atom.GetDegree()), [0, 1, 2, 3, 4, \"MoreThanFour\"])\n",
        "    \n",
        "    formal_charge_enc = one_hot_encoding(int(atom.GetFormalCharge()), [-3, -2, -1, 0, 1, 2, 3, \"Extreme\"])\n",
        "    \n",
        "    hybridisation_type_enc = one_hot_encoding(str(atom.GetHybridization()), [\"S\", \"SP\", \"SP2\", \"SP3\", \"SP3D\", \"SP3D2\", \"OTHER\"])\n",
        "    \n",
        "    is_in_a_ring_enc = [int(atom.IsInRing())]\n",
        "    \n",
        "    is_aromatic_enc = [int(atom.GetIsAromatic())]\n",
        "    \n",
        "    atomic_mass_scaled = [float((atom.GetMass() - 10.812)/116.092)]\n",
        "    \n",
        "    vdw_radius_scaled = [float((Chem.GetPeriodicTable().GetRvdw(atom.GetAtomicNum()) - 1.5)/0.6)]\n",
        "    \n",
        "    covalent_radius_scaled = [float((Chem.GetPeriodicTable().GetRcovalent(atom.GetAtomicNum()) - 0.64)/0.76)]\n",
        "\n",
        "    atom_feature_vector = atom_type_enc + n_heavy_neighbors_enc + formal_charge_enc + hybridisation_type_enc + is_in_a_ring_enc + is_aromatic_enc + atomic_mass_scaled + vdw_radius_scaled + covalent_radius_scaled\n",
        "                                    \n",
        "    if use_chirality == True:\n",
        "        chirality_type_enc = one_hot_encoding(str(atom.GetChiralTag()), [\"CHI_UNSPECIFIED\", \"CHI_TETRAHEDRAL_CW\", \"CHI_TETRAHEDRAL_CCW\", \"CHI_OTHER\"])\n",
        "        atom_feature_vector += chirality_type_enc\n",
        "    \n",
        "    if hydrogens_implicit == True:\n",
        "        n_hydrogens_enc = one_hot_encoding(int(atom.GetTotalNumHs()), [0, 1, 2, 3, 4, \"MoreThanFour\"])\n",
        "        atom_feature_vector += n_hydrogens_enc\n",
        "\n",
        "    return np.array(atom_feature_vector)"
      ],
      "metadata": {
        "id": "pw3eExGF8vK4"
      },
      "execution_count": null,
      "outputs": []
    },
    {
      "cell_type": "markdown",
      "source": [
        "Bond Featurization: Takes an RDKit bond object as input and gives a 1d-numpy array of bond features as output."
      ],
      "metadata": {
        "id": "MImwLle79JdI"
      }
    },
    {
      "cell_type": "code",
      "source": [
        "# Bond Featurisation\n",
        "def get_bond_features(bond, \n",
        "                      use_stereochemistry = True):\n",
        "\n",
        "    permitted_list_of_bond_types = [Chem.rdchem.BondType.SINGLE, Chem.rdchem.BondType.DOUBLE, Chem.rdchem.BondType.TRIPLE, Chem.rdchem.BondType.AROMATIC]\n",
        "\n",
        "    bond_type_enc = one_hot_encoding(bond.GetBondType(), permitted_list_of_bond_types)\n",
        "    \n",
        "    bond_is_conj_enc = [int(bond.GetIsConjugated())]\n",
        "    \n",
        "    bond_is_in_ring_enc = [int(bond.IsInRing())]\n",
        "    \n",
        "    bond_feature_vector = bond_type_enc + bond_is_conj_enc + bond_is_in_ring_enc\n",
        "    \n",
        "    if use_stereochemistry == True:\n",
        "        stereo_type_enc = one_hot_encoding(str(bond.GetStereo()), [\"STEREOZ\", \"STEREOE\", \"STEREOANY\", \"STEREONONE\"])\n",
        "        bond_feature_vector += stereo_type_enc\n",
        "\n",
        "    return np.array(bond_feature_vector)"
      ],
      "metadata": {
        "id": "orE6-80h9ZA9"
      },
      "execution_count": null,
      "outputs": []
    },
    {
      "cell_type": "markdown",
      "source": [
        "Dablander, Markus. How to Turn a SMILES String into a Molecular Graph for Pytorch Geometric | Oxford Protein Informatics Group. https://www.blopig.com/blog/2022/02/how-to-turn-a-smiles-string-into-a-molecular-graph-for-pytorch-geometric/. Accessed 11 July 2022.\n"
      ],
      "metadata": {
        "id": "1WtI5xIG_L_f"
      }
    },
    {
      "cell_type": "markdown",
      "source": [
        "# Dataset Creation Function"
      ],
      "metadata": {
        "id": "Dd3rtzqR-hTy"
      }
    },
    {
      "cell_type": "code",
      "source": [
        "class MyDataset(Dataset, property):\n",
        "  def read(self):\n",
        "    polydata = pd.read_csv(\"https://raw.githubusercontent.com/carlosmatherson/SULI-Project/main/SMILES_Density_Tg_Mt.csv\")\n",
        "    graph_list = makeGraphObjList(polydata[\"SMILES\"], polydata[property])\n",
        "    return graph_list"
      ],
      "metadata": {
        "id": "zMcD28857JwV"
      },
      "execution_count": null,
      "outputs": []
    },
    {
      "cell_type": "markdown",
      "source": [
        "makeGraphObjList: Creates Spektral graph dataset from smiles and labels.\n",
        "\n",
        "Inputs: \n",
        "*   x_smiles = [smiles_1, smiles_2, ....] ... a list of SMILES strings\n",
        "*   y = [y_1, y_2, ...] ... a list of numerial labels for the SMILES strings\n",
        "\n",
        "Outputs:\n",
        "\n",
        "*   data_list = [G_1, G_2, ...] ... a list of spektral.data.graph.Graph objects *that* can readily be used for machine learning\n",
        "\n",
        "\n",
        "\n",
        "\n"
      ],
      "metadata": {
        "id": "hMFxmFiCy0jI"
      }
    },
    {
      "cell_type": "code",
      "source": [
        "def makeGraphObjList(x_smiles, y):\n",
        "    \n",
        "    graph_list = []\n",
        "\n",
        "    for (smiles, y_val) in zip(x_smiles, y):\n",
        "        \n",
        "        # convert SMILES to RDKit mol object\n",
        "        mol = Chem.MolFromSmiles(smiles)\n",
        "        \n",
        "        # get feature dimensions\n",
        "        n_nodes = mol.GetNumAtoms()\n",
        "        n_edges = 2*mol.GetNumBonds()\n",
        "        unrelated_smiles = \"O=O\"\n",
        "        unrelated_mol = Chem.MolFromSmiles(unrelated_smiles)\n",
        "        n_node_features = len(get_atom_features(unrelated_mol.GetAtomWithIdx(0)))\n",
        "        n_edge_features = len(get_bond_features(unrelated_mol.GetBondBetweenAtoms(0,1)))\n",
        "\n",
        "        # construct adjacency matrix (n_nodes, n_nodes), full matrix\n",
        "        A = np.array(GetAdjacencyMatrix(mol)) # full matrix\n",
        "\n",
        "        # construct edge index array Ei of shape (n_edges, 2), sparse matrix\n",
        "        Ei = np.transpose(np.nonzero(A)) # vertical format\n",
        "        (rows, cols) = np.transpose(Ei)\n",
        "        #Ei = np.stack([rows, cols])\n",
        "\n",
        "        # construct node feature matrix Xn of shape (n_nodes, n_node_features)\n",
        "        X = np.zeros((n_nodes, n_node_features))\n",
        "        for atom in mol.GetAtoms():\n",
        "            X[atom.GetIdx(), :] = get_atom_features(atom)\n",
        "        \n",
        "        # construct edge feature array Ef of shape (n_edges, n_edge_features)\n",
        "        E = np.zeros((n_edges, n_edge_features))\n",
        "        for (k, (i,j)) in enumerate(zip(rows, cols)):\n",
        "            E[k] = get_bond_features(mol.GetBondBetweenAtoms(int(i),int(j)))\n",
        "        sp.utils.sparse.reorder(Ei, E)\n",
        "        #E = np.hstack([np.transpose(rows),np.transpose(cols),np.transpose(E[-1])])\n",
        "        # want to try and make E.shape = (n_nodes,n_nodes,n_edge_features)\n",
        "        \n",
        "        # construct label tensor\n",
        "        Y = np.array([y_val])\n",
        "\n",
        "        # construct Pytorch Geometric data object and append to data list\n",
        "\n",
        "        #print(Ei.shape,E.shape)\n",
        "        graph_list.append(Graph(x=X, a=A, e=E, y=Y))\n",
        "        \n",
        "    return graph_list "
      ],
      "metadata": {
        "id": "mUflMN2i-p7Y"
      },
      "execution_count": null,
      "outputs": []
    },
    {
      "cell_type": "markdown",
      "source": [
        "# Model"
      ],
      "metadata": {
        "id": "1AmVv6NP_LbS"
      }
    },
    {
      "cell_type": "code",
      "source": [
        "#load Data\n",
        "data = MyDataset(property=\"Mt\")"
      ],
      "metadata": {
        "id": "HW7N-re_bqU3"
      },
      "execution_count": null,
      "outputs": []
    },
    {
      "cell_type": "code",
      "source": [
        "# parameters\n",
        "F = data.n_node_features  # Dimension of node features, 79\n",
        "S = data.n_edge_features  # Dimension of edge features, 10\n",
        "n_out = data.n_labels  # Dimension of the target\n",
        "\n",
        "# config\n",
        "learning_rate = 1e-3  # Learning rate\n",
        "epochs = 50  # Number of training epochs\n",
        "batch_size = 15  # Batch size"
      ],
      "metadata": {
        "id": "z9_d_lqTDuQ_"
      },
      "execution_count": null,
      "outputs": []
    },
    {
      "cell_type": "code",
      "source": [
        "# train/test split\n",
        "idxs = np.random.permutation(len(data))\n",
        "split = int(0.7 * len(data))\n",
        "idx_tr, idx_te = np.split(idxs, [split])\n",
        "dataset_tr, dataset_te = data[idx_tr], data[idx_te]"
      ],
      "metadata": {
        "id": "qSGw5HDxEFLP"
      },
      "execution_count": null,
      "outputs": []
    },
    {
      "cell_type": "code",
      "source": [
        "#model\n",
        "class Net(Model):\n",
        "    def __init__(self):\n",
        "        super().__init__()\n",
        "        #self.masking = GraphMasking()\n",
        "        self.conv1 = GCNConv(100, activation=\"relu\")\n",
        "        self.conv2 = GCNConv(100, activation=\"relu\")\n",
        "        self.conv3 = GCNConv(100, activation=\"relu\")\n",
        "        self.conv4 = GCNConv(100, activation=\"relu\")\n",
        "        self.conv5 = GCNConv(100, activation=\"relu\")\n",
        "        self.conv6 = GCNConv(100, activation=\"relu\")\n",
        "        self.global_pool = GlobalSumPool()\n",
        "        self.dense = Dense(n_out)\n",
        "\n",
        "    def call(self, inputs):\n",
        "        x, a = inputs[0], inputs[1]\n",
        "        #x = self.masking(x)\n",
        "        x = self.conv1([x, a])\n",
        "        x = self.conv2([x, a])\n",
        "        output = self.global_pool(x)\n",
        "        output = self.dense(output)\n",
        "\n",
        "\n",
        "        return output\n",
        "\n",
        "\n",
        "model = Net()\n",
        "optimizer = Adam(learning_rate)\n",
        "model.compile(optimizer=optimizer, metrics=[RootMeanSquaredError()], loss=\"mse\")"
      ],
      "metadata": {
        "id": "8ZE87fbsvCM8"
      },
      "execution_count": null,
      "outputs": []
    },
    {
      "cell_type": "code",
      "source": [
        "loader_tr = BatchLoader(dataset_tr, batch_size=batch_size, mask=True)\n",
        "model.fit(loader_tr.load(), steps_per_epoch=loader_tr.steps_per_epoch, epochs=epochs)"
      ],
      "metadata": {
        "colab": {
          "base_uri": "https://localhost:8080/"
        },
        "id": "K0Il2bvz6CCd",
        "outputId": "f8de528f-1125-431c-a66b-82e7ceceb92b"
      },
      "execution_count": null,
      "outputs": [
        {
          "output_type": "stream",
          "name": "stdout",
          "text": [
            "Epoch 1/50\n"
          ]
        },
        {
          "output_type": "stream",
          "name": "stderr",
          "text": [
            "/usr/local/lib/python3.7/dist-packages/spektral/data/utils.py:221: UserWarning: you are shuffling a 'MyDataset' object which is not a subclass of 'Sequence'; `shuffle` is not guaranteed to behave correctly. E.g., non-numpy array/tensor objects with view semantics may contain duplicates after shuffling.\n",
            "  np.random.shuffle(a)\n",
            "/usr/local/lib/python3.7/dist-packages/spektral/layers/convolutional/conv.py:94: UserWarning: The adjacency matrix of dtype <dtype: 'int32'> is incompatible with the dtype of the node features <dtype: 'float32'> and has been automatically cast to <dtype: 'float32'>.\n",
            "  f\"The adjacency matrix of dtype {a.dtype} is incompatible with the dtype \"\n",
            "/usr/local/lib/python3.7/dist-packages/tensorflow/python/autograph/impl/api.py:371: UserWarning: The adjacency matrix of dtype <dtype: 'int32'> is incompatible with the dtype of the node features <dtype: 'float32'> and has been automatically cast to <dtype: 'float32'>.\n",
            "  return py_builtins.overload_of(f)(*args)\n"
          ]
        },
        {
          "output_type": "stream",
          "name": "stdout",
          "text": [
            "21/21 [==============================] - 1s 16ms/step - loss: 6851.1528 - root_mean_squared_error: 82.7717\n",
            "Epoch 2/50\n",
            "21/21 [==============================] - 0s 19ms/step - loss: 5012.5078 - root_mean_squared_error: 70.7991\n",
            "Epoch 3/50\n",
            "21/21 [==============================] - 0s 16ms/step - loss: 4656.3379 - root_mean_squared_error: 68.2374\n",
            "Epoch 4/50\n",
            "21/21 [==============================] - 0s 15ms/step - loss: 4629.7432 - root_mean_squared_error: 68.0422\n",
            "Epoch 5/50\n",
            "21/21 [==============================] - 0s 15ms/step - loss: 4468.9907 - root_mean_squared_error: 66.8505\n",
            "Epoch 6/50\n",
            "21/21 [==============================] - 0s 14ms/step - loss: 4440.0908 - root_mean_squared_error: 66.6340\n",
            "Epoch 7/50\n",
            "21/21 [==============================] - 0s 14ms/step - loss: 4286.1724 - root_mean_squared_error: 65.4689\n",
            "Epoch 8/50\n",
            "21/21 [==============================] - 0s 15ms/step - loss: 4159.9058 - root_mean_squared_error: 64.4973\n",
            "Epoch 9/50\n",
            "21/21 [==============================] - 0s 14ms/step - loss: 4035.9028 - root_mean_squared_error: 63.5288\n",
            "Epoch 10/50\n",
            "21/21 [==============================] - 0s 14ms/step - loss: 3824.8621 - root_mean_squared_error: 61.8455\n",
            "Epoch 11/50\n",
            "21/21 [==============================] - 0s 15ms/step - loss: 3685.9453 - root_mean_squared_error: 60.7120\n",
            "Epoch 12/50\n",
            "21/21 [==============================] - 0s 15ms/step - loss: 3822.4912 - root_mean_squared_error: 61.8263\n",
            "Epoch 13/50\n",
            "21/21 [==============================] - 0s 13ms/step - loss: 3618.5012 - root_mean_squared_error: 60.1540\n",
            "Epoch 14/50\n",
            "21/21 [==============================] - 0s 14ms/step - loss: 3318.3989 - root_mean_squared_error: 57.6055\n",
            "Epoch 15/50\n",
            "21/21 [==============================] - 0s 16ms/step - loss: 3189.1721 - root_mean_squared_error: 56.4728\n",
            "Epoch 16/50\n",
            "21/21 [==============================] - 0s 14ms/step - loss: 3131.2244 - root_mean_squared_error: 55.9573\n",
            "Epoch 17/50\n",
            "21/21 [==============================] - 0s 13ms/step - loss: 3074.6780 - root_mean_squared_error: 55.4498\n",
            "Epoch 18/50\n",
            "21/21 [==============================] - 0s 13ms/step - loss: 2959.1731 - root_mean_squared_error: 54.3983\n",
            "Epoch 19/50\n",
            "21/21 [==============================] - 0s 13ms/step - loss: 2899.5530 - root_mean_squared_error: 53.8475\n",
            "Epoch 20/50\n",
            "21/21 [==============================] - 0s 16ms/step - loss: 3069.6250 - root_mean_squared_error: 55.4042\n",
            "Epoch 21/50\n",
            "21/21 [==============================] - 0s 15ms/step - loss: 2774.3223 - root_mean_squared_error: 52.6718\n",
            "Epoch 22/50\n",
            "21/21 [==============================] - 0s 14ms/step - loss: 2810.5813 - root_mean_squared_error: 53.0149\n",
            "Epoch 23/50\n",
            "21/21 [==============================] - 0s 13ms/step - loss: 2537.2302 - root_mean_squared_error: 50.3709\n",
            "Epoch 24/50\n",
            "21/21 [==============================] - 0s 14ms/step - loss: 2706.4504 - root_mean_squared_error: 52.0236\n",
            "Epoch 25/50\n",
            "21/21 [==============================] - 0s 15ms/step - loss: 2698.1619 - root_mean_squared_error: 51.9438\n",
            "Epoch 26/50\n",
            "21/21 [==============================] - 0s 16ms/step - loss: 2409.3457 - root_mean_squared_error: 49.0851\n",
            "Epoch 27/50\n",
            "21/21 [==============================] - 0s 16ms/step - loss: 2343.0132 - root_mean_squared_error: 48.4047\n",
            "Epoch 28/50\n",
            "21/21 [==============================] - 0s 16ms/step - loss: 2432.0020 - root_mean_squared_error: 49.3153\n",
            "Epoch 29/50\n",
            "21/21 [==============================] - 0s 15ms/step - loss: 2370.0193 - root_mean_squared_error: 48.6828\n",
            "Epoch 30/50\n",
            "21/21 [==============================] - 0s 14ms/step - loss: 2262.6602 - root_mean_squared_error: 47.5674\n",
            "Epoch 31/50\n",
            "21/21 [==============================] - 0s 14ms/step - loss: 2221.3596 - root_mean_squared_error: 47.1313\n",
            "Epoch 32/50\n",
            "21/21 [==============================] - 0s 13ms/step - loss: 2344.9385 - root_mean_squared_error: 48.4246\n",
            "Epoch 33/50\n",
            "21/21 [==============================] - 0s 16ms/step - loss: 2268.2971 - root_mean_squared_error: 47.6266\n",
            "Epoch 34/50\n",
            "21/21 [==============================] - 0s 14ms/step - loss: 2205.1936 - root_mean_squared_error: 46.9595\n",
            "Epoch 35/50\n",
            "21/21 [==============================] - 0s 17ms/step - loss: 2146.4910 - root_mean_squared_error: 46.3302\n",
            "Epoch 36/50\n",
            "21/21 [==============================] - 0s 14ms/step - loss: 2104.8757 - root_mean_squared_error: 45.8789\n",
            "Epoch 37/50\n",
            "21/21 [==============================] - 0s 13ms/step - loss: 2101.1619 - root_mean_squared_error: 45.8384\n",
            "Epoch 38/50\n",
            "21/21 [==============================] - 0s 20ms/step - loss: 2027.3467 - root_mean_squared_error: 45.0261\n",
            "Epoch 39/50\n",
            "21/21 [==============================] - 0s 24ms/step - loss: 2062.5913 - root_mean_squared_error: 45.4158\n",
            "Epoch 40/50\n",
            "21/21 [==============================] - 0s 24ms/step - loss: 2311.4155 - root_mean_squared_error: 48.0772\n",
            "Epoch 41/50\n",
            "21/21 [==============================] - 1s 26ms/step - loss: 2007.9576 - root_mean_squared_error: 44.8102\n",
            "Epoch 42/50\n",
            "21/21 [==============================] - 0s 23ms/step - loss: 1984.6670 - root_mean_squared_error: 44.5496\n",
            "Epoch 43/50\n",
            "21/21 [==============================] - 0s 23ms/step - loss: 1934.6865 - root_mean_squared_error: 43.9851\n",
            "Epoch 44/50\n",
            "21/21 [==============================] - 0s 22ms/step - loss: 2002.0591 - root_mean_squared_error: 44.7444\n",
            "Epoch 45/50\n",
            "21/21 [==============================] - 0s 21ms/step - loss: 1896.9365 - root_mean_squared_error: 43.5538\n",
            "Epoch 46/50\n",
            "21/21 [==============================] - 0s 21ms/step - loss: 1995.1630 - root_mean_squared_error: 44.6672\n",
            "Epoch 47/50\n",
            "21/21 [==============================] - 0s 16ms/step - loss: 1863.6163 - root_mean_squared_error: 43.1696\n",
            "Epoch 48/50\n",
            "21/21 [==============================] - 0s 14ms/step - loss: 1760.1031 - root_mean_squared_error: 41.9536\n",
            "Epoch 49/50\n",
            "21/21 [==============================] - 0s 15ms/step - loss: 1790.9572 - root_mean_squared_error: 42.3197\n",
            "Epoch 50/50\n",
            "21/21 [==============================] - 0s 14ms/step - loss: 1706.0531 - root_mean_squared_error: 41.3044\n"
          ]
        },
        {
          "output_type": "execute_result",
          "data": {
            "text/plain": [
              "<keras.callbacks.History at 0x7ff7241f52d0>"
            ]
          },
          "metadata": {},
          "execution_count": 86
        }
      ]
    },
    {
      "cell_type": "code",
      "source": [
        "print(\"Testing model\")\n",
        "loader_te = BatchLoader(dataset_te, batch_size=batch_size, mask=True)\n",
        "loss = model.evaluate(loader_te.load(), steps=loader_te.steps_per_epoch)\n",
        "print(\"Done. Test loss: {}\".format(loss))"
      ],
      "metadata": {
        "colab": {
          "base_uri": "https://localhost:8080/"
        },
        "id": "sDcsm5LK67WG",
        "outputId": "a60e7d0a-fbf9-4021-b930-5dc4b52a25ad"
      },
      "execution_count": null,
      "outputs": [
        {
          "output_type": "stream",
          "name": "stdout",
          "text": [
            "Testing model\n"
          ]
        },
        {
          "output_type": "stream",
          "name": "stderr",
          "text": [
            "/usr/local/lib/python3.7/dist-packages/spektral/data/utils.py:221: UserWarning: you are shuffling a 'MyDataset' object which is not a subclass of 'Sequence'; `shuffle` is not guaranteed to behave correctly. E.g., non-numpy array/tensor objects with view semantics may contain duplicates after shuffling.\n",
            "  np.random.shuffle(a)\n",
            "/usr/local/lib/python3.7/dist-packages/tensorflow/python/autograph/impl/api.py:371: UserWarning: The adjacency matrix of dtype <dtype: 'int32'> is incompatible with the dtype of the node features <dtype: 'float32'> and has been automatically cast to <dtype: 'float32'>.\n",
            "  return py_builtins.overload_of(f)(*args)\n"
          ]
        },
        {
          "output_type": "stream",
          "name": "stdout",
          "text": [
            "9/9 [==============================] - 0s 19ms/step - loss: 100.4790 - root_mean_squared_error: 102.1601\n",
            "Done. Test loss: [100.47898864746094, 102.1601333618164]\n"
          ]
        }
      ]
    }
  ]
}