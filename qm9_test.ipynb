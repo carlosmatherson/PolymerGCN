{
  "nbformat": 4,
  "nbformat_minor": 0,
  "metadata": {
    "colab": {
      "name": "qm9_test.ipynb",
      "provenance": [],
      "collapsed_sections": [],
      "authorship_tag": "ABX9TyMX4BfwHEi79V2nKzENK0Bn",
      "include_colab_link": true
    },
    "kernelspec": {
      "name": "python3",
      "display_name": "Python 3"
    },
    "language_info": {
      "name": "python"
    }
  },
  "cells": [
    {
      "cell_type": "markdown",
      "metadata": {
        "id": "view-in-github",
        "colab_type": "text"
      },
      "source": [
        "<a href=\"https://colab.research.google.com/github/carlosmatherson/SULI-Project/blob/main/qm9_test.ipynb\" target=\"_parent\"><img src=\"https://colab.research.google.com/assets/colab-badge.svg\" alt=\"Open In Colab\"/></a>"
      ]
    },
    {
      "cell_type": "code",
      "source": [
        "!pip install spektral"
      ],
      "metadata": {
        "id": "ZUMilX8es-k2"
      },
      "execution_count": null,
      "outputs": []
    },
    {
      "cell_type": "code",
      "source": [
        "# import\n",
        "import numpy as np\n",
        "\n",
        "from keras.layers import Dense\n",
        "from keras.models import Model\n",
        "from tensorflow.keras.optimizers import Adam\n",
        "\n",
        "from spektral.data import BatchLoader\n",
        "from spektral.datasets import QM9\n",
        "from spektral.layers import ECCConv, GlobalSumPool, GraphMasking"
      ],
      "metadata": {
        "id": "uon9XuRKq0Tq"
      },
      "execution_count": null,
      "outputs": []
    },
    {
      "cell_type": "code",
      "source": [
        "# config\n",
        "learning_rate = 1e-3  # Learning rate\n",
        "epochs = 10  # Number of training epochs\n",
        "batch_size = 32  # Batch size"
      ],
      "metadata": {
        "id": "iLsCGfySq4as"
      },
      "execution_count": null,
      "outputs": []
    },
    {
      "cell_type": "code",
      "source": [
        "# load data\n",
        "dataset = QM9(amount=1000)  # Set amount=None to train on whole dataset\n",
        "print(dataset)"
      ],
      "metadata": {
        "id": "pmb7DRsNq6pY"
      },
      "execution_count": null,
      "outputs": []
    },
    {
      "cell_type": "code",
      "source": [
        "# parameters\n",
        "F = dataset.n_node_features  # Dimension of node features\n",
        "S = dataset.n_edge_features  # Dimension of edge features\n",
        "n_out = dataset.n_labels  # Dimension of the target\n",
        "print(dataset[3])"
      ],
      "metadata": {
        "id": "iHvE6Io4q8ay"
      },
      "execution_count": null,
      "outputs": []
    },
    {
      "cell_type": "code",
      "source": [
        "# train/test split\n",
        "idxs = np.random.permutation(len(dataset))\n",
        "split = int(0.9 * len(dataset))\n",
        "idx_tr, idx_te = np.split(idxs, [split])\n",
        "dataset_tr, dataset_te = dataset[idx_tr], dataset[idx_te]\n",
        "print(dataset)"
      ],
      "metadata": {
        "id": "1UKJmCRcq-cM"
      },
      "execution_count": null,
      "outputs": []
    },
    {
      "cell_type": "code",
      "source": [
        "# build model\n",
        "class Net(Model):\n",
        "    def __init__(self):\n",
        "        super().__init__()\n",
        "        self.masking = GraphMasking()\n",
        "        self.conv1 = ECCConv(32, activation=\"relu\")\n",
        "        self.conv2 = ECCConv(32, activation=\"relu\")\n",
        "        self.global_pool = GlobalSumPool()\n",
        "        self.dense = Dense(n_out)\n",
        "\n",
        "    def call(self, inputs):\n",
        "        x, a, e = inputs\n",
        "        x = self.masking(x)\n",
        "        x = self.conv1([x, a, e])\n",
        "        x = self.conv2([x, a, e])\n",
        "        output = self.global_pool(x)\n",
        "        output = self.dense(output)\n",
        "\n",
        "        return output\n",
        "\n",
        "model = Net()\n",
        "optimizer = Adam(learning_rate)\n",
        "model.compile(optimizer=optimizer, loss=\"mse\")"
      ],
      "metadata": {
        "id": "JVc350ckrAVj"
      },
      "execution_count": null,
      "outputs": []
    },
    {
      "cell_type": "code",
      "source": [
        "# fit model\n",
        "loader_tr = BatchLoader(dataset_tr, batch_size=batch_size, mask=True)\n",
        "model.fit(loader_tr.load(), steps_per_epoch=loader_tr.steps_per_epoch, epochs=epochs)"
      ],
      "metadata": {
        "id": "tuKHhobNrCZ4"
      },
      "execution_count": null,
      "outputs": []
    },
    {
      "cell_type": "code",
      "source": [
        "# evaluate model\n",
        "print(\"Testing model\")\n",
        "loader_te = BatchLoader(dataset_te, batch_size=batch_size, mask=True)\n",
        "loss = model.evaluate(loader_te.load(), steps=loader_te.steps_per_epoch)\n",
        "print(\"Done. Test loss: {}\".format(loss))"
      ],
      "metadata": {
        "id": "-HFl9D5trCgm"
      },
      "execution_count": null,
      "outputs": []
    }
  ]
}