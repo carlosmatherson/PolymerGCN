{
  "nbformat": 4,
  "nbformat_minor": 0,
  "metadata": {
    "colab": {
      "name": "PerformanceAnalysis.ipynb",
      "provenance": [],
      "collapsed_sections": [],
      "authorship_tag": "ABX9TyPCHXO0F4GqRzLtWkz6Biap",
      "include_colab_link": true
    },
    "kernelspec": {
      "name": "python3",
      "display_name": "Python 3"
    },
    "language_info": {
      "name": "python"
    }
  },
  "cells": [
    {
      "cell_type": "markdown",
      "metadata": {
        "id": "view-in-github",
        "colab_type": "text"
      },
      "source": [
        "<a href=\"https://colab.research.google.com/github/carlosmatherson/PolymerGCN/blob/main/PerformanceAnalysis.ipynb\" target=\"_parent\"><img src=\"https://colab.research.google.com/assets/colab-badge.svg\" alt=\"Open In Colab\"/></a>"
      ]
    },
    {
      "cell_type": "code",
      "source": [
        "!pip3 install pickle5"
      ],
      "metadata": {
        "colab": {
          "base_uri": "https://localhost:8080/"
        },
        "id": "to94QO_vgjcM",
        "outputId": "c014878b-c1c7-48ed-ad6c-328d1421bd91"
      },
      "execution_count": 10,
      "outputs": [
        {
          "output_type": "stream",
          "name": "stdout",
          "text": [
            "Looking in indexes: https://pypi.org/simple, https://us-python.pkg.dev/colab-wheels/public/simple/\n",
            "Collecting pickle5\n",
            "  Downloading pickle5-0.0.12-cp37-cp37m-manylinux_2_5_x86_64.manylinux1_x86_64.whl (256 kB)\n",
            "\u001b[K     |████████████████████████████████| 256 kB 15.6 MB/s \n",
            "\u001b[?25hInstalling collected packages: pickle5\n",
            "Successfully installed pickle5-0.0.12\n"
          ]
        }
      ]
    },
    {
      "cell_type": "code",
      "source": [
        "import pandas as pd\n",
        "import pickle5 as pickle"
      ],
      "metadata": {
        "id": "nbwJjz30i48s"
      },
      "execution_count": null,
      "outputs": []
    },
    {
      "cell_type": "markdown",
      "source": [
        "# Performance"
      ],
      "metadata": {
        "id": "nm4X7C21jGcX"
      }
    },
    {
      "cell_type": "markdown",
      "source": [
        "In each dataframe, rows 0-4 represent the loss/metrics from each fold in the cross validation. The last two rows show the average statistics along with their standard deviation."
      ],
      "metadata": {
        "id": "3AdQfTpBjLNC"
      }
    },
    {
      "cell_type": "markdown",
      "source": [
        "TgGCN Performance Metrics."
      ],
      "metadata": {
        "id": "mDFEmJ2vi6YQ"
      }
    },
    {
      "cell_type": "code",
      "execution_count": 26,
      "metadata": {
        "id": "WhXDyt7kfFr-"
      },
      "outputs": [],
      "source": [
        "with open('/content/TgGCN_performance.pkl', 'rb') as f:\n",
        "  TgPerf = pickle.load(f)\n",
        "\n",
        "mean = TgPerf.mean() # Mean\n",
        "stdev = TgPerf.std(ddof=1) # Sample St. Dev. (n-1)\n",
        "\n",
        "TgPerf.loc['Mean'] = mean\n",
        "TgPerf.loc['Std. Dev.'] = stdev\n",
        "\n",
        "TgPerf.to_pickle('TgGCN_performance.pkl') # Save output"
      ]
    },
    {
      "cell_type": "code",
      "source": [
        "display(TgPerf)"
      ],
      "metadata": {
        "colab": {
          "base_uri": "https://localhost:8080/",
          "height": 269
        },
        "id": "0E2Ea90xgthv",
        "outputId": "2d51db8b-dc9e-4049-b257-cb776b6767a2"
      },
      "execution_count": 27,
      "outputs": [
        {
          "output_type": "display_data",
          "data": {
            "text/plain": [
              "              Tot. MSE      GCN MSE       NN MSE   GCN RMSE   GCN R^2  \\\n",
              "0          4392.815430  2368.909424  2009.949463  48.671444  0.667902   \n",
              "1          3350.620850  1738.944702  1600.586548  41.700657  0.818316   \n",
              "2          3382.677734  1817.899414  1553.961060  42.636833  0.612004   \n",
              "3          2142.381348  1071.594238  1061.338867  32.735214  0.842206   \n",
              "4          1275.766968   662.654358   603.496033  25.742073  0.922449   \n",
              "Mean       2908.852466  1532.000427  1365.866394  38.297244  0.772575   \n",
              "Std. Dev.  1212.050121   669.461963   542.969091   9.036146  0.128591   \n",
              "\n",
              "             NN RMSE    NN R^2  \n",
              "0          44.832462  0.715713  \n",
              "1          40.007332  0.836255  \n",
              "2          39.420311  0.664252  \n",
              "3          32.578194  0.844888  \n",
              "4          24.566156  0.929830  \n",
              "Mean       36.280891  0.798188  \n",
              "Std. Dev.   7.871097  0.106889  "
            ],
            "text/html": [
              "\n",
              "  <div id=\"df-3445c0fa-4746-46ab-8c73-de5f8d1be5dc\">\n",
              "    <div class=\"colab-df-container\">\n",
              "      <div>\n",
              "<style scoped>\n",
              "    .dataframe tbody tr th:only-of-type {\n",
              "        vertical-align: middle;\n",
              "    }\n",
              "\n",
              "    .dataframe tbody tr th {\n",
              "        vertical-align: top;\n",
              "    }\n",
              "\n",
              "    .dataframe thead th {\n",
              "        text-align: right;\n",
              "    }\n",
              "</style>\n",
              "<table border=\"1\" class=\"dataframe\">\n",
              "  <thead>\n",
              "    <tr style=\"text-align: right;\">\n",
              "      <th></th>\n",
              "      <th>Tot. MSE</th>\n",
              "      <th>GCN MSE</th>\n",
              "      <th>NN MSE</th>\n",
              "      <th>GCN RMSE</th>\n",
              "      <th>GCN R^2</th>\n",
              "      <th>NN RMSE</th>\n",
              "      <th>NN R^2</th>\n",
              "    </tr>\n",
              "  </thead>\n",
              "  <tbody>\n",
              "    <tr>\n",
              "      <th>0</th>\n",
              "      <td>4392.815430</td>\n",
              "      <td>2368.909424</td>\n",
              "      <td>2009.949463</td>\n",
              "      <td>48.671444</td>\n",
              "      <td>0.667902</td>\n",
              "      <td>44.832462</td>\n",
              "      <td>0.715713</td>\n",
              "    </tr>\n",
              "    <tr>\n",
              "      <th>1</th>\n",
              "      <td>3350.620850</td>\n",
              "      <td>1738.944702</td>\n",
              "      <td>1600.586548</td>\n",
              "      <td>41.700657</td>\n",
              "      <td>0.818316</td>\n",
              "      <td>40.007332</td>\n",
              "      <td>0.836255</td>\n",
              "    </tr>\n",
              "    <tr>\n",
              "      <th>2</th>\n",
              "      <td>3382.677734</td>\n",
              "      <td>1817.899414</td>\n",
              "      <td>1553.961060</td>\n",
              "      <td>42.636833</td>\n",
              "      <td>0.612004</td>\n",
              "      <td>39.420311</td>\n",
              "      <td>0.664252</td>\n",
              "    </tr>\n",
              "    <tr>\n",
              "      <th>3</th>\n",
              "      <td>2142.381348</td>\n",
              "      <td>1071.594238</td>\n",
              "      <td>1061.338867</td>\n",
              "      <td>32.735214</td>\n",
              "      <td>0.842206</td>\n",
              "      <td>32.578194</td>\n",
              "      <td>0.844888</td>\n",
              "    </tr>\n",
              "    <tr>\n",
              "      <th>4</th>\n",
              "      <td>1275.766968</td>\n",
              "      <td>662.654358</td>\n",
              "      <td>603.496033</td>\n",
              "      <td>25.742073</td>\n",
              "      <td>0.922449</td>\n",
              "      <td>24.566156</td>\n",
              "      <td>0.929830</td>\n",
              "    </tr>\n",
              "    <tr>\n",
              "      <th>Mean</th>\n",
              "      <td>2908.852466</td>\n",
              "      <td>1532.000427</td>\n",
              "      <td>1365.866394</td>\n",
              "      <td>38.297244</td>\n",
              "      <td>0.772575</td>\n",
              "      <td>36.280891</td>\n",
              "      <td>0.798188</td>\n",
              "    </tr>\n",
              "    <tr>\n",
              "      <th>Std. Dev.</th>\n",
              "      <td>1212.050121</td>\n",
              "      <td>669.461963</td>\n",
              "      <td>542.969091</td>\n",
              "      <td>9.036146</td>\n",
              "      <td>0.128591</td>\n",
              "      <td>7.871097</td>\n",
              "      <td>0.106889</td>\n",
              "    </tr>\n",
              "  </tbody>\n",
              "</table>\n",
              "</div>\n",
              "      <button class=\"colab-df-convert\" onclick=\"convertToInteractive('df-3445c0fa-4746-46ab-8c73-de5f8d1be5dc')\"\n",
              "              title=\"Convert this dataframe to an interactive table.\"\n",
              "              style=\"display:none;\">\n",
              "        \n",
              "  <svg xmlns=\"http://www.w3.org/2000/svg\" height=\"24px\"viewBox=\"0 0 24 24\"\n",
              "       width=\"24px\">\n",
              "    <path d=\"M0 0h24v24H0V0z\" fill=\"none\"/>\n",
              "    <path d=\"M18.56 5.44l.94 2.06.94-2.06 2.06-.94-2.06-.94-.94-2.06-.94 2.06-2.06.94zm-11 1L8.5 8.5l.94-2.06 2.06-.94-2.06-.94L8.5 2.5l-.94 2.06-2.06.94zm10 10l.94 2.06.94-2.06 2.06-.94-2.06-.94-.94-2.06-.94 2.06-2.06.94z\"/><path d=\"M17.41 7.96l-1.37-1.37c-.4-.4-.92-.59-1.43-.59-.52 0-1.04.2-1.43.59L10.3 9.45l-7.72 7.72c-.78.78-.78 2.05 0 2.83L4 21.41c.39.39.9.59 1.41.59.51 0 1.02-.2 1.41-.59l7.78-7.78 2.81-2.81c.8-.78.8-2.07 0-2.86zM5.41 20L4 18.59l7.72-7.72 1.47 1.35L5.41 20z\"/>\n",
              "  </svg>\n",
              "      </button>\n",
              "      \n",
              "  <style>\n",
              "    .colab-df-container {\n",
              "      display:flex;\n",
              "      flex-wrap:wrap;\n",
              "      gap: 12px;\n",
              "    }\n",
              "\n",
              "    .colab-df-convert {\n",
              "      background-color: #E8F0FE;\n",
              "      border: none;\n",
              "      border-radius: 50%;\n",
              "      cursor: pointer;\n",
              "      display: none;\n",
              "      fill: #1967D2;\n",
              "      height: 32px;\n",
              "      padding: 0 0 0 0;\n",
              "      width: 32px;\n",
              "    }\n",
              "\n",
              "    .colab-df-convert:hover {\n",
              "      background-color: #E2EBFA;\n",
              "      box-shadow: 0px 1px 2px rgba(60, 64, 67, 0.3), 0px 1px 3px 1px rgba(60, 64, 67, 0.15);\n",
              "      fill: #174EA6;\n",
              "    }\n",
              "\n",
              "    [theme=dark] .colab-df-convert {\n",
              "      background-color: #3B4455;\n",
              "      fill: #D2E3FC;\n",
              "    }\n",
              "\n",
              "    [theme=dark] .colab-df-convert:hover {\n",
              "      background-color: #434B5C;\n",
              "      box-shadow: 0px 1px 3px 1px rgba(0, 0, 0, 0.15);\n",
              "      filter: drop-shadow(0px 1px 2px rgba(0, 0, 0, 0.3));\n",
              "      fill: #FFFFFF;\n",
              "    }\n",
              "  </style>\n",
              "\n",
              "      <script>\n",
              "        const buttonEl =\n",
              "          document.querySelector('#df-3445c0fa-4746-46ab-8c73-de5f8d1be5dc button.colab-df-convert');\n",
              "        buttonEl.style.display =\n",
              "          google.colab.kernel.accessAllowed ? 'block' : 'none';\n",
              "\n",
              "        async function convertToInteractive(key) {\n",
              "          const element = document.querySelector('#df-3445c0fa-4746-46ab-8c73-de5f8d1be5dc');\n",
              "          const dataTable =\n",
              "            await google.colab.kernel.invokeFunction('convertToInteractive',\n",
              "                                                     [key], {});\n",
              "          if (!dataTable) return;\n",
              "\n",
              "          const docLinkHtml = 'Like what you see? Visit the ' +\n",
              "            '<a target=\"_blank\" href=https://colab.research.google.com/notebooks/data_table.ipynb>data table notebook</a>'\n",
              "            + ' to learn more about interactive tables.';\n",
              "          element.innerHTML = '';\n",
              "          dataTable['output_type'] = 'display_data';\n",
              "          await google.colab.output.renderOutput(dataTable, element);\n",
              "          const docLink = document.createElement('div');\n",
              "          docLink.innerHTML = docLinkHtml;\n",
              "          element.appendChild(docLink);\n",
              "        }\n",
              "      </script>\n",
              "    </div>\n",
              "  </div>\n",
              "  "
            ]
          },
          "metadata": {}
        }
      ]
    }
  ]
}